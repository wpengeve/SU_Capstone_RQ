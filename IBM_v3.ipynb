{
 "nbformat": 4,
 "nbformat_minor": 0,
 "metadata": {
  "colab": {
   "provenance": []
  },
  "kernelspec": {
   "name": "python3",
   "language": "python",
   "display_name": "Python 3 (ipykernel)"
  },
  "language_info": {
   "name": "python"
  }
 },
 "cells": [
  {
   "cell_type": "code",
   "execution_count": 1,
   "metadata": {
    "colab": {
     "base_uri": "https://localhost:8080/"
    },
    "id": "s-93i9hToyqQ",
    "outputId": "e4ad9547-2e9a-404d-987f-0adc3739d0a4",
    "ExecuteTime": {
     "end_time": "2023-08-21T05:33:10.313147Z",
     "start_time": "2023-08-21T05:33:10.298268Z"
    }
   },
   "outputs": [],
   "source": [
    "#from google.colab import drive\n",
    "#drive.mount('/content/drive')"
   ]
  },
  {
   "cell_type": "code",
   "execution_count": 2,
   "outputs": [],
   "source": [
    "import random\n",
    "\n",
    "#read the Excel file\n",
    "import pandas as pd\n",
    "directory_path = \"~/Desktop/capstone/\"\n",
    "file_name = 'Sales 2016-2022 v6.xlsx'"
   ],
   "metadata": {
    "collapsed": false,
    "ExecuteTime": {
     "end_time": "2023-08-21T05:33:10.657923Z",
     "start_time": "2023-08-21T05:33:10.299301Z"
    }
   }
  },
  {
   "cell_type": "code",
   "execution_count": null,
   "outputs": [],
   "source": [
    "file_name = 'Sales 2016-2022 v6.xlsx'"
   ],
   "metadata": {
    "collapsed": false
   }
  },
  {
   "cell_type": "code",
   "execution_count": 3,
   "outputs": [],
   "source": [
    "import pandas as pd\n",
    "\n",
    "file_path = directory_path + file_name\n",
    "sales_data = pd.read_excel(file_path)"
   ],
   "metadata": {
    "collapsed": false,
    "ExecuteTime": {
     "end_time": "2023-08-21T05:33:29.085448Z",
     "start_time": "2023-08-21T05:33:10.631591Z"
    }
   }
  },
  {
   "cell_type": "code",
   "execution_count": 4,
   "outputs": [
    {
     "data": {
      "text/plain": "     ZXG ID        Country  Industry          UT L30 - Segment        Family  \\\n0  ZX001H1N  United States       1.0  Sterling B2B Integration  STER FILEGWA   \n1  ZX001H1N  United States       1.0  Sterling B2B Integration  STER FILEGWA   \n2  ZX001H1N  United States       1.0  Sterling B2B Integration  STER FILEGWA   \n3  ZX001H1N  United States       1.0  Sterling B2B Integration  STER FILEGWA   \n4  ZX001H1N  United States       1.0  Sterling B2B Integration  STER FILEGWA   \n\n     Product name                                PA part description  \\\n0  B2B Integrator  B2B INTEGRATOR AO GLOBAL HIGH AVAILABILITY MB ...   \n1  B2B Integrator  B2B INTEGRATOR AO GLOBAL HIGH AVAILABILITY MB ...   \n2  B2B Integrator  B2B INTEGRATOR AO GLOBAL HIGH AVAILABILITY MB ...   \n3  B2B Integrator            STERLING B2B INTEGRATOR ENT ED PVU SUPT   \n4  B2B Integrator             STERLING B2B INTEGRATOR ENT ED PVU SUB   \n\n      Rev type    20161    20162  ...     20204     20211     20212     20213  \\\n0  Transaction      NaN      NaN  ...       NaN       NaN       NaN       NaN   \n1  Subs & Supp      NaN      NaN  ...   31322.7   31322.7   31322.7   31322.7   \n2  Subs & Supp      NaN      NaN  ...  125298.9  125298.9  125298.9  125298.9   \n3  Subs & Supp   2797.2   2797.2  ...   22226.4   22226.4   22226.4   22307.4   \n4  Subs & Supp  11188.8  11188.8  ...   88911.0   88911.0   88911.0   89237.7   \n\n      20214     20221     20222     20223     20224  Grand Total  \n0       NaN       NaN       NaN       NaN       NaN    2503116.9  \n1   31322.7   31322.7   31322.7   31322.7   31322.7     407055.6  \n2  125298.9  125298.9  125298.9  125298.9  125298.9    1628306.1  \n3   22307.4   22307.4   22307.4   22307.4   22307.4     278391.6  \n4   89237.7   89237.7   89237.7   89237.7   89237.7    1113647.4  \n\n[5 rows x 37 columns]",
      "text/html": "<div>\n<style scoped>\n    .dataframe tbody tr th:only-of-type {\n        vertical-align: middle;\n    }\n\n    .dataframe tbody tr th {\n        vertical-align: top;\n    }\n\n    .dataframe thead th {\n        text-align: right;\n    }\n</style>\n<table border=\"1\" class=\"dataframe\">\n  <thead>\n    <tr style=\"text-align: right;\">\n      <th></th>\n      <th>ZXG ID</th>\n      <th>Country</th>\n      <th>Industry</th>\n      <th>UT L30 - Segment</th>\n      <th>Family</th>\n      <th>Product name</th>\n      <th>PA part description</th>\n      <th>Rev type</th>\n      <th>20161</th>\n      <th>20162</th>\n      <th>...</th>\n      <th>20204</th>\n      <th>20211</th>\n      <th>20212</th>\n      <th>20213</th>\n      <th>20214</th>\n      <th>20221</th>\n      <th>20222</th>\n      <th>20223</th>\n      <th>20224</th>\n      <th>Grand Total</th>\n    </tr>\n  </thead>\n  <tbody>\n    <tr>\n      <th>0</th>\n      <td>ZX001H1N</td>\n      <td>United States</td>\n      <td>1.0</td>\n      <td>Sterling B2B Integration</td>\n      <td>STER FILEGWA</td>\n      <td>B2B Integrator</td>\n      <td>B2B INTEGRATOR AO GLOBAL HIGH AVAILABILITY MB ...</td>\n      <td>Transaction</td>\n      <td>NaN</td>\n      <td>NaN</td>\n      <td>...</td>\n      <td>NaN</td>\n      <td>NaN</td>\n      <td>NaN</td>\n      <td>NaN</td>\n      <td>NaN</td>\n      <td>NaN</td>\n      <td>NaN</td>\n      <td>NaN</td>\n      <td>NaN</td>\n      <td>2503116.9</td>\n    </tr>\n    <tr>\n      <th>1</th>\n      <td>ZX001H1N</td>\n      <td>United States</td>\n      <td>1.0</td>\n      <td>Sterling B2B Integration</td>\n      <td>STER FILEGWA</td>\n      <td>B2B Integrator</td>\n      <td>B2B INTEGRATOR AO GLOBAL HIGH AVAILABILITY MB ...</td>\n      <td>Subs &amp; Supp</td>\n      <td>NaN</td>\n      <td>NaN</td>\n      <td>...</td>\n      <td>31322.7</td>\n      <td>31322.7</td>\n      <td>31322.7</td>\n      <td>31322.7</td>\n      <td>31322.7</td>\n      <td>31322.7</td>\n      <td>31322.7</td>\n      <td>31322.7</td>\n      <td>31322.7</td>\n      <td>407055.6</td>\n    </tr>\n    <tr>\n      <th>2</th>\n      <td>ZX001H1N</td>\n      <td>United States</td>\n      <td>1.0</td>\n      <td>Sterling B2B Integration</td>\n      <td>STER FILEGWA</td>\n      <td>B2B Integrator</td>\n      <td>B2B INTEGRATOR AO GLOBAL HIGH AVAILABILITY MB ...</td>\n      <td>Subs &amp; Supp</td>\n      <td>NaN</td>\n      <td>NaN</td>\n      <td>...</td>\n      <td>125298.9</td>\n      <td>125298.9</td>\n      <td>125298.9</td>\n      <td>125298.9</td>\n      <td>125298.9</td>\n      <td>125298.9</td>\n      <td>125298.9</td>\n      <td>125298.9</td>\n      <td>125298.9</td>\n      <td>1628306.1</td>\n    </tr>\n    <tr>\n      <th>3</th>\n      <td>ZX001H1N</td>\n      <td>United States</td>\n      <td>1.0</td>\n      <td>Sterling B2B Integration</td>\n      <td>STER FILEGWA</td>\n      <td>B2B Integrator</td>\n      <td>STERLING B2B INTEGRATOR ENT ED PVU SUPT</td>\n      <td>Subs &amp; Supp</td>\n      <td>2797.2</td>\n      <td>2797.2</td>\n      <td>...</td>\n      <td>22226.4</td>\n      <td>22226.4</td>\n      <td>22226.4</td>\n      <td>22307.4</td>\n      <td>22307.4</td>\n      <td>22307.4</td>\n      <td>22307.4</td>\n      <td>22307.4</td>\n      <td>22307.4</td>\n      <td>278391.6</td>\n    </tr>\n    <tr>\n      <th>4</th>\n      <td>ZX001H1N</td>\n      <td>United States</td>\n      <td>1.0</td>\n      <td>Sterling B2B Integration</td>\n      <td>STER FILEGWA</td>\n      <td>B2B Integrator</td>\n      <td>STERLING B2B INTEGRATOR ENT ED PVU SUB</td>\n      <td>Subs &amp; Supp</td>\n      <td>11188.8</td>\n      <td>11188.8</td>\n      <td>...</td>\n      <td>88911.0</td>\n      <td>88911.0</td>\n      <td>88911.0</td>\n      <td>89237.7</td>\n      <td>89237.7</td>\n      <td>89237.7</td>\n      <td>89237.7</td>\n      <td>89237.7</td>\n      <td>89237.7</td>\n      <td>1113647.4</td>\n    </tr>\n  </tbody>\n</table>\n<p>5 rows × 37 columns</p>\n</div>"
     },
     "execution_count": 4,
     "metadata": {},
     "output_type": "execute_result"
    }
   ],
   "source": [
    "# Display the first few rows of the dataframe\n",
    "sales_data.head()"
   ],
   "metadata": {
    "collapsed": false,
    "ExecuteTime": {
     "end_time": "2023-08-21T05:33:29.123059Z",
     "start_time": "2023-08-21T05:33:29.106296Z"
    }
   }
  },
  {
   "cell_type": "code",
   "source": [
    "# Figure out where 'ZXG ID' needs to be fixed\n",
    "from itertools import groupby\n",
    "from operator import itemgetter\n",
    "\n",
    "# Find the indices of the rows where 'ZXG ID' is blank\n",
    "blank_indices = sales_data[sales_data['ZXG ID'].isna()].index.tolist()\n",
    "\n",
    "# Function to convert list of indices to ranges\n",
    "def indices_to_ranges(indices):\n",
    "    \"\"\"Convert a list of indices to ranges\"\"\"\n",
    "    ranges = []\n",
    "    for k, g in groupby(enumerate(indices), lambda i_x:i_x[0]-i_x[1]):\n",
    "        consecutive_indices = list(map(itemgetter(1), g))\n",
    "        if len(consecutive_indices) == 1:\n",
    "            ranges.append(str(consecutive_indices[0]))\n",
    "        else:\n",
    "            ranges.append(f\"{consecutive_indices[0]}-{consecutive_indices[-1]}\")\n",
    "    return ranges\n",
    "\n",
    "# Convert indices to ranges\n",
    "blank_ranges = indices_to_ranges(blank_indices)\n",
    "blank_ranges"
   ],
   "metadata": {
    "colab": {
     "base_uri": "https://localhost:8080/"
    },
    "id": "u9Ym7e5aS54r",
    "outputId": "a1c26029-405a-4837-e435-14d633da08ed",
    "ExecuteTime": {
     "end_time": "2023-08-21T05:33:29.125874Z",
     "start_time": "2023-08-21T05:33:29.119930Z"
    }
   },
   "execution_count": 5,
   "outputs": [
    {
     "data": {
      "text/plain": "['5780-5983',\n '6934-7079',\n '14962-15053',\n '20712-20777',\n '20829-20894',\n '29617-29703',\n '32024-32037',\n '32457-32518',\n '34181-34244',\n '34336-34351',\n '35441-35469',\n '38015-38023',\n '38828-38863',\n '41792-41806',\n '45231-45242',\n '46720-46731',\n '47870-47892',\n '48807',\n '48845-48848',\n '49455-49460',\n '49750-49753',\n '50679-50682',\n '51716-51723',\n '51988-51989',\n '52631-52632',\n '53124-53131',\n '53478-53483',\n '53926-53927',\n '54800-54802',\n '54981-54986',\n '55271-55273',\n '55825-55833',\n '56040-56041',\n '56220-56234',\n '56259-56264',\n '57101-57106',\n '57619-57622',\n '57712-57718',\n '57978-57980',\n '58080-58084',\n '58099-58102',\n '58465-58468',\n '58534-58535',\n '59603-59612',\n '59629-59662',\n '59679-59682',\n '59796-59804',\n '59837-59841',\n '59861-59863',\n '59921-59926',\n '60635-60680',\n '60829-60843',\n '62275-62294',\n '62346-62404',\n '64314-64329',\n '65835-65845',\n '66261-66275',\n '68672-68682',\n '68894-68913',\n '69538-69546',\n '70467-70472',\n '70596-70624',\n '70767-70779',\n '71050-71056',\n '72543-72550',\n '73835-73840',\n '75724-75726',\n '75811-75818',\n '76582-76584',\n '77866-77867',\n '77980-77981',\n '78038-78039',\n '78418-78419',\n '78813-78814',\n '79455-79463',\n '79799-79804',\n '80011-80013',\n '80158',\n '80595',\n '80856',\n '81121-81122',\n '81356',\n '81889',\n '81986-81987',\n '82080-82081',\n '82150-82153',\n '82176',\n '82692',\n '82859-82865',\n '82883',\n '83105',\n '83594-83596',\n '84058-84059',\n '84330-84331',\n '84823-84826',\n '84960-84962',\n '85465-85466',\n '86396',\n '87608-87609',\n '88323',\n '89192-89194',\n '89222-89226',\n '89240',\n '89345-89346',\n '89348',\n '89362-89364',\n '89375-89379',\n '89474-89495',\n '89529-89538']"
     },
     "execution_count": 5,
     "metadata": {},
     "output_type": "execute_result"
    }
   ]
  },
  {
   "cell_type": "code",
   "source": [
    "# Find all the rows where 'Country' is blank\n",
    "blank_rows_country = sales_data[sales_data['Country'].isna()].index.tolist()\n",
    "\n",
    "# Apply function to get ranges\n",
    "blank_ranges_country = indices_to_ranges(blank_rows_country)\n",
    "blank_ranges_country"
   ],
   "metadata": {
    "colab": {
     "base_uri": "https://localhost:8080/"
    },
    "id": "CTnFgTAFqgs1",
    "outputId": "0d16a411-0306-4411-a22a-47085238c229",
    "ExecuteTime": {
     "end_time": "2023-08-21T05:33:29.131369Z",
     "start_time": "2023-08-21T05:33:29.126114Z"
    }
   },
   "execution_count": 6,
   "outputs": [
    {
     "data": {
      "text/plain": "['6934-7079', '62275-62294']"
     },
     "execution_count": 6,
     "metadata": {},
     "output_type": "execute_result"
    }
   ]
  },
  {
   "cell_type": "code",
   "source": [
    "# Replace the blanks in the specified ranges with the specified values\n",
    "sales_data.loc[6934:7079, 'Country'] = sales_data.loc[6934:7079, 'Country'].fillna('Moe_Country')\n",
    "sales_data.loc[62275:62294, 'Country'] = sales_data.loc[62275:62294, 'Country'].fillna('Wanchi_Country')\n",
    "\n",
    "# Check if the replacements were successful\n",
    "sales_data.loc[6934:7079]['Country'].unique(), sales_data.loc[62275:62294]['Country'].unique()"
   ],
   "metadata": {
    "colab": {
     "base_uri": "https://localhost:8080/"
    },
    "id": "H2e9irQkT-49",
    "outputId": "b93f3b1f-d057-4826-ec93-3329b0291d03",
    "ExecuteTime": {
     "end_time": "2023-08-21T05:33:29.162844Z",
     "start_time": "2023-08-21T05:33:29.135204Z"
    }
   },
   "execution_count": 7,
   "outputs": [
    {
     "data": {
      "text/plain": "(array(['Moe_Country'], dtype=object), array(['Wanchi_Country'], dtype=object))"
     },
     "execution_count": 7,
     "metadata": {},
     "output_type": "execute_result"
    }
   ]
  },
  {
   "cell_type": "markdown",
   "source": [],
   "metadata": {
    "collapsed": false
   }
  },
  {
   "cell_type": "code",
   "source": [
    "# Initialize a company counter\n",
    "company_counter = 1\n",
    "\n",
    "# Iterate over the blank ranges in the 'ZXG ID' column\n",
    "for start, end in [(int(r.split('-')[0]), int(r.split('-')[1])) if '-' in r else (int(r), int(r)) for r in blank_ranges]:\n",
    "    # Get the unique countries in the current range\n",
    "    unique_countries = sales_data.loc[start:end, 'Country'].unique()\n",
    "\n",
    "    # Iterate over the unique countries\n",
    "    for country in unique_countries:\n",
    "        # Get the indices for the current country within the current range\n",
    "        indices = sales_data.loc[start:end][sales_data['Country'] == country].index\n",
    "\n",
    "        # Assign the company name to the 'ZXG ID' column for the current indices\n",
    "        sales_data.loc[indices, 'ZXG ID'] = f'MW{company_counter}'\n",
    "\n",
    "        # Increment the company counter\n",
    "        company_counter += 1\n",
    "\n",
    "# Check the first few rows of the modified dataset\n",
    "sales_data.loc[[5780,5983,6934,7079,14962,15053,59837,59838,59839,59840,59841], :]"
   ],
   "metadata": {
    "colab": {
     "base_uri": "https://localhost:8080/",
     "height": 1000
    },
    "id": "dXp182YXEcw5",
    "outputId": "5886526d-62db-4b17-d2b9-92f3544a23c3",
    "ExecuteTime": {
     "end_time": "2023-08-21T05:33:29.598566Z",
     "start_time": "2023-08-21T05:33:29.143051Z"
    }
   },
   "execution_count": 8,
   "outputs": [
    {
     "name": "stderr",
     "output_type": "stream",
     "text": [
      "/var/folders/kt/n_01c2t91fz15bhz621qz2640000gn/T/ipykernel_95569/2893228086.py:12: UserWarning: Boolean Series key will be reindexed to match DataFrame index.\n",
      "  indices = sales_data.loc[start:end][sales_data['Country'] == country].index\n",
      "/var/folders/kt/n_01c2t91fz15bhz621qz2640000gn/T/ipykernel_95569/2893228086.py:12: UserWarning: Boolean Series key will be reindexed to match DataFrame index.\n",
      "  indices = sales_data.loc[start:end][sales_data['Country'] == country].index\n",
      "/var/folders/kt/n_01c2t91fz15bhz621qz2640000gn/T/ipykernel_95569/2893228086.py:12: UserWarning: Boolean Series key will be reindexed to match DataFrame index.\n",
      "  indices = sales_data.loc[start:end][sales_data['Country'] == country].index\n",
      "/var/folders/kt/n_01c2t91fz15bhz621qz2640000gn/T/ipykernel_95569/2893228086.py:12: UserWarning: Boolean Series key will be reindexed to match DataFrame index.\n",
      "  indices = sales_data.loc[start:end][sales_data['Country'] == country].index\n",
      "/var/folders/kt/n_01c2t91fz15bhz621qz2640000gn/T/ipykernel_95569/2893228086.py:12: UserWarning: Boolean Series key will be reindexed to match DataFrame index.\n",
      "  indices = sales_data.loc[start:end][sales_data['Country'] == country].index\n",
      "/var/folders/kt/n_01c2t91fz15bhz621qz2640000gn/T/ipykernel_95569/2893228086.py:12: UserWarning: Boolean Series key will be reindexed to match DataFrame index.\n",
      "  indices = sales_data.loc[start:end][sales_data['Country'] == country].index\n",
      "/var/folders/kt/n_01c2t91fz15bhz621qz2640000gn/T/ipykernel_95569/2893228086.py:12: UserWarning: Boolean Series key will be reindexed to match DataFrame index.\n",
      "  indices = sales_data.loc[start:end][sales_data['Country'] == country].index\n",
      "/var/folders/kt/n_01c2t91fz15bhz621qz2640000gn/T/ipykernel_95569/2893228086.py:12: UserWarning: Boolean Series key will be reindexed to match DataFrame index.\n",
      "  indices = sales_data.loc[start:end][sales_data['Country'] == country].index\n",
      "/var/folders/kt/n_01c2t91fz15bhz621qz2640000gn/T/ipykernel_95569/2893228086.py:12: UserWarning: Boolean Series key will be reindexed to match DataFrame index.\n",
      "  indices = sales_data.loc[start:end][sales_data['Country'] == country].index\n",
      "/var/folders/kt/n_01c2t91fz15bhz621qz2640000gn/T/ipykernel_95569/2893228086.py:12: UserWarning: Boolean Series key will be reindexed to match DataFrame index.\n",
      "  indices = sales_data.loc[start:end][sales_data['Country'] == country].index\n",
      "/var/folders/kt/n_01c2t91fz15bhz621qz2640000gn/T/ipykernel_95569/2893228086.py:12: UserWarning: Boolean Series key will be reindexed to match DataFrame index.\n",
      "  indices = sales_data.loc[start:end][sales_data['Country'] == country].index\n",
      "/var/folders/kt/n_01c2t91fz15bhz621qz2640000gn/T/ipykernel_95569/2893228086.py:12: UserWarning: Boolean Series key will be reindexed to match DataFrame index.\n",
      "  indices = sales_data.loc[start:end][sales_data['Country'] == country].index\n",
      "/var/folders/kt/n_01c2t91fz15bhz621qz2640000gn/T/ipykernel_95569/2893228086.py:12: UserWarning: Boolean Series key will be reindexed to match DataFrame index.\n",
      "  indices = sales_data.loc[start:end][sales_data['Country'] == country].index\n",
      "/var/folders/kt/n_01c2t91fz15bhz621qz2640000gn/T/ipykernel_95569/2893228086.py:12: UserWarning: Boolean Series key will be reindexed to match DataFrame index.\n",
      "  indices = sales_data.loc[start:end][sales_data['Country'] == country].index\n",
      "/var/folders/kt/n_01c2t91fz15bhz621qz2640000gn/T/ipykernel_95569/2893228086.py:12: UserWarning: Boolean Series key will be reindexed to match DataFrame index.\n",
      "  indices = sales_data.loc[start:end][sales_data['Country'] == country].index\n",
      "/var/folders/kt/n_01c2t91fz15bhz621qz2640000gn/T/ipykernel_95569/2893228086.py:12: UserWarning: Boolean Series key will be reindexed to match DataFrame index.\n",
      "  indices = sales_data.loc[start:end][sales_data['Country'] == country].index\n",
      "/var/folders/kt/n_01c2t91fz15bhz621qz2640000gn/T/ipykernel_95569/2893228086.py:12: UserWarning: Boolean Series key will be reindexed to match DataFrame index.\n",
      "  indices = sales_data.loc[start:end][sales_data['Country'] == country].index\n",
      "/var/folders/kt/n_01c2t91fz15bhz621qz2640000gn/T/ipykernel_95569/2893228086.py:12: UserWarning: Boolean Series key will be reindexed to match DataFrame index.\n",
      "  indices = sales_data.loc[start:end][sales_data['Country'] == country].index\n",
      "/var/folders/kt/n_01c2t91fz15bhz621qz2640000gn/T/ipykernel_95569/2893228086.py:12: UserWarning: Boolean Series key will be reindexed to match DataFrame index.\n",
      "  indices = sales_data.loc[start:end][sales_data['Country'] == country].index\n",
      "/var/folders/kt/n_01c2t91fz15bhz621qz2640000gn/T/ipykernel_95569/2893228086.py:12: UserWarning: Boolean Series key will be reindexed to match DataFrame index.\n",
      "  indices = sales_data.loc[start:end][sales_data['Country'] == country].index\n",
      "/var/folders/kt/n_01c2t91fz15bhz621qz2640000gn/T/ipykernel_95569/2893228086.py:12: UserWarning: Boolean Series key will be reindexed to match DataFrame index.\n",
      "  indices = sales_data.loc[start:end][sales_data['Country'] == country].index\n",
      "/var/folders/kt/n_01c2t91fz15bhz621qz2640000gn/T/ipykernel_95569/2893228086.py:12: UserWarning: Boolean Series key will be reindexed to match DataFrame index.\n",
      "  indices = sales_data.loc[start:end][sales_data['Country'] == country].index\n",
      "/var/folders/kt/n_01c2t91fz15bhz621qz2640000gn/T/ipykernel_95569/2893228086.py:12: UserWarning: Boolean Series key will be reindexed to match DataFrame index.\n",
      "  indices = sales_data.loc[start:end][sales_data['Country'] == country].index\n",
      "/var/folders/kt/n_01c2t91fz15bhz621qz2640000gn/T/ipykernel_95569/2893228086.py:12: UserWarning: Boolean Series key will be reindexed to match DataFrame index.\n",
      "  indices = sales_data.loc[start:end][sales_data['Country'] == country].index\n",
      "/var/folders/kt/n_01c2t91fz15bhz621qz2640000gn/T/ipykernel_95569/2893228086.py:12: UserWarning: Boolean Series key will be reindexed to match DataFrame index.\n",
      "  indices = sales_data.loc[start:end][sales_data['Country'] == country].index\n",
      "/var/folders/kt/n_01c2t91fz15bhz621qz2640000gn/T/ipykernel_95569/2893228086.py:12: UserWarning: Boolean Series key will be reindexed to match DataFrame index.\n",
      "  indices = sales_data.loc[start:end][sales_data['Country'] == country].index\n",
      "/var/folders/kt/n_01c2t91fz15bhz621qz2640000gn/T/ipykernel_95569/2893228086.py:12: UserWarning: Boolean Series key will be reindexed to match DataFrame index.\n",
      "  indices = sales_data.loc[start:end][sales_data['Country'] == country].index\n",
      "/var/folders/kt/n_01c2t91fz15bhz621qz2640000gn/T/ipykernel_95569/2893228086.py:12: UserWarning: Boolean Series key will be reindexed to match DataFrame index.\n",
      "  indices = sales_data.loc[start:end][sales_data['Country'] == country].index\n",
      "/var/folders/kt/n_01c2t91fz15bhz621qz2640000gn/T/ipykernel_95569/2893228086.py:12: UserWarning: Boolean Series key will be reindexed to match DataFrame index.\n",
      "  indices = sales_data.loc[start:end][sales_data['Country'] == country].index\n",
      "/var/folders/kt/n_01c2t91fz15bhz621qz2640000gn/T/ipykernel_95569/2893228086.py:12: UserWarning: Boolean Series key will be reindexed to match DataFrame index.\n",
      "  indices = sales_data.loc[start:end][sales_data['Country'] == country].index\n",
      "/var/folders/kt/n_01c2t91fz15bhz621qz2640000gn/T/ipykernel_95569/2893228086.py:12: UserWarning: Boolean Series key will be reindexed to match DataFrame index.\n",
      "  indices = sales_data.loc[start:end][sales_data['Country'] == country].index\n",
      "/var/folders/kt/n_01c2t91fz15bhz621qz2640000gn/T/ipykernel_95569/2893228086.py:12: UserWarning: Boolean Series key will be reindexed to match DataFrame index.\n",
      "  indices = sales_data.loc[start:end][sales_data['Country'] == country].index\n",
      "/var/folders/kt/n_01c2t91fz15bhz621qz2640000gn/T/ipykernel_95569/2893228086.py:12: UserWarning: Boolean Series key will be reindexed to match DataFrame index.\n",
      "  indices = sales_data.loc[start:end][sales_data['Country'] == country].index\n",
      "/var/folders/kt/n_01c2t91fz15bhz621qz2640000gn/T/ipykernel_95569/2893228086.py:12: UserWarning: Boolean Series key will be reindexed to match DataFrame index.\n",
      "  indices = sales_data.loc[start:end][sales_data['Country'] == country].index\n",
      "/var/folders/kt/n_01c2t91fz15bhz621qz2640000gn/T/ipykernel_95569/2893228086.py:12: UserWarning: Boolean Series key will be reindexed to match DataFrame index.\n",
      "  indices = sales_data.loc[start:end][sales_data['Country'] == country].index\n",
      "/var/folders/kt/n_01c2t91fz15bhz621qz2640000gn/T/ipykernel_95569/2893228086.py:12: UserWarning: Boolean Series key will be reindexed to match DataFrame index.\n",
      "  indices = sales_data.loc[start:end][sales_data['Country'] == country].index\n",
      "/var/folders/kt/n_01c2t91fz15bhz621qz2640000gn/T/ipykernel_95569/2893228086.py:12: UserWarning: Boolean Series key will be reindexed to match DataFrame index.\n",
      "  indices = sales_data.loc[start:end][sales_data['Country'] == country].index\n",
      "/var/folders/kt/n_01c2t91fz15bhz621qz2640000gn/T/ipykernel_95569/2893228086.py:12: UserWarning: Boolean Series key will be reindexed to match DataFrame index.\n",
      "  indices = sales_data.loc[start:end][sales_data['Country'] == country].index\n",
      "/var/folders/kt/n_01c2t91fz15bhz621qz2640000gn/T/ipykernel_95569/2893228086.py:12: UserWarning: Boolean Series key will be reindexed to match DataFrame index.\n",
      "  indices = sales_data.loc[start:end][sales_data['Country'] == country].index\n",
      "/var/folders/kt/n_01c2t91fz15bhz621qz2640000gn/T/ipykernel_95569/2893228086.py:12: UserWarning: Boolean Series key will be reindexed to match DataFrame index.\n",
      "  indices = sales_data.loc[start:end][sales_data['Country'] == country].index\n",
      "/var/folders/kt/n_01c2t91fz15bhz621qz2640000gn/T/ipykernel_95569/2893228086.py:12: UserWarning: Boolean Series key will be reindexed to match DataFrame index.\n",
      "  indices = sales_data.loc[start:end][sales_data['Country'] == country].index\n",
      "/var/folders/kt/n_01c2t91fz15bhz621qz2640000gn/T/ipykernel_95569/2893228086.py:12: UserWarning: Boolean Series key will be reindexed to match DataFrame index.\n",
      "  indices = sales_data.loc[start:end][sales_data['Country'] == country].index\n",
      "/var/folders/kt/n_01c2t91fz15bhz621qz2640000gn/T/ipykernel_95569/2893228086.py:12: UserWarning: Boolean Series key will be reindexed to match DataFrame index.\n",
      "  indices = sales_data.loc[start:end][sales_data['Country'] == country].index\n",
      "/var/folders/kt/n_01c2t91fz15bhz621qz2640000gn/T/ipykernel_95569/2893228086.py:12: UserWarning: Boolean Series key will be reindexed to match DataFrame index.\n",
      "  indices = sales_data.loc[start:end][sales_data['Country'] == country].index\n",
      "/var/folders/kt/n_01c2t91fz15bhz621qz2640000gn/T/ipykernel_95569/2893228086.py:12: UserWarning: Boolean Series key will be reindexed to match DataFrame index.\n",
      "  indices = sales_data.loc[start:end][sales_data['Country'] == country].index\n",
      "/var/folders/kt/n_01c2t91fz15bhz621qz2640000gn/T/ipykernel_95569/2893228086.py:12: UserWarning: Boolean Series key will be reindexed to match DataFrame index.\n",
      "  indices = sales_data.loc[start:end][sales_data['Country'] == country].index\n",
      "/var/folders/kt/n_01c2t91fz15bhz621qz2640000gn/T/ipykernel_95569/2893228086.py:12: UserWarning: Boolean Series key will be reindexed to match DataFrame index.\n",
      "  indices = sales_data.loc[start:end][sales_data['Country'] == country].index\n",
      "/var/folders/kt/n_01c2t91fz15bhz621qz2640000gn/T/ipykernel_95569/2893228086.py:12: UserWarning: Boolean Series key will be reindexed to match DataFrame index.\n",
      "  indices = sales_data.loc[start:end][sales_data['Country'] == country].index\n",
      "/var/folders/kt/n_01c2t91fz15bhz621qz2640000gn/T/ipykernel_95569/2893228086.py:12: UserWarning: Boolean Series key will be reindexed to match DataFrame index.\n",
      "  indices = sales_data.loc[start:end][sales_data['Country'] == country].index\n",
      "/var/folders/kt/n_01c2t91fz15bhz621qz2640000gn/T/ipykernel_95569/2893228086.py:12: UserWarning: Boolean Series key will be reindexed to match DataFrame index.\n",
      "  indices = sales_data.loc[start:end][sales_data['Country'] == country].index\n",
      "/var/folders/kt/n_01c2t91fz15bhz621qz2640000gn/T/ipykernel_95569/2893228086.py:12: UserWarning: Boolean Series key will be reindexed to match DataFrame index.\n",
      "  indices = sales_data.loc[start:end][sales_data['Country'] == country].index\n",
      "/var/folders/kt/n_01c2t91fz15bhz621qz2640000gn/T/ipykernel_95569/2893228086.py:12: UserWarning: Boolean Series key will be reindexed to match DataFrame index.\n",
      "  indices = sales_data.loc[start:end][sales_data['Country'] == country].index\n",
      "/var/folders/kt/n_01c2t91fz15bhz621qz2640000gn/T/ipykernel_95569/2893228086.py:12: UserWarning: Boolean Series key will be reindexed to match DataFrame index.\n",
      "  indices = sales_data.loc[start:end][sales_data['Country'] == country].index\n",
      "/var/folders/kt/n_01c2t91fz15bhz621qz2640000gn/T/ipykernel_95569/2893228086.py:12: UserWarning: Boolean Series key will be reindexed to match DataFrame index.\n",
      "  indices = sales_data.loc[start:end][sales_data['Country'] == country].index\n",
      "/var/folders/kt/n_01c2t91fz15bhz621qz2640000gn/T/ipykernel_95569/2893228086.py:12: UserWarning: Boolean Series key will be reindexed to match DataFrame index.\n",
      "  indices = sales_data.loc[start:end][sales_data['Country'] == country].index\n",
      "/var/folders/kt/n_01c2t91fz15bhz621qz2640000gn/T/ipykernel_95569/2893228086.py:12: UserWarning: Boolean Series key will be reindexed to match DataFrame index.\n",
      "  indices = sales_data.loc[start:end][sales_data['Country'] == country].index\n",
      "/var/folders/kt/n_01c2t91fz15bhz621qz2640000gn/T/ipykernel_95569/2893228086.py:12: UserWarning: Boolean Series key will be reindexed to match DataFrame index.\n",
      "  indices = sales_data.loc[start:end][sales_data['Country'] == country].index\n",
      "/var/folders/kt/n_01c2t91fz15bhz621qz2640000gn/T/ipykernel_95569/2893228086.py:12: UserWarning: Boolean Series key will be reindexed to match DataFrame index.\n",
      "  indices = sales_data.loc[start:end][sales_data['Country'] == country].index\n",
      "/var/folders/kt/n_01c2t91fz15bhz621qz2640000gn/T/ipykernel_95569/2893228086.py:12: UserWarning: Boolean Series key will be reindexed to match DataFrame index.\n",
      "  indices = sales_data.loc[start:end][sales_data['Country'] == country].index\n",
      "/var/folders/kt/n_01c2t91fz15bhz621qz2640000gn/T/ipykernel_95569/2893228086.py:12: UserWarning: Boolean Series key will be reindexed to match DataFrame index.\n",
      "  indices = sales_data.loc[start:end][sales_data['Country'] == country].index\n",
      "/var/folders/kt/n_01c2t91fz15bhz621qz2640000gn/T/ipykernel_95569/2893228086.py:12: UserWarning: Boolean Series key will be reindexed to match DataFrame index.\n",
      "  indices = sales_data.loc[start:end][sales_data['Country'] == country].index\n",
      "/var/folders/kt/n_01c2t91fz15bhz621qz2640000gn/T/ipykernel_95569/2893228086.py:12: UserWarning: Boolean Series key will be reindexed to match DataFrame index.\n",
      "  indices = sales_data.loc[start:end][sales_data['Country'] == country].index\n",
      "/var/folders/kt/n_01c2t91fz15bhz621qz2640000gn/T/ipykernel_95569/2893228086.py:12: UserWarning: Boolean Series key will be reindexed to match DataFrame index.\n",
      "  indices = sales_data.loc[start:end][sales_data['Country'] == country].index\n",
      "/var/folders/kt/n_01c2t91fz15bhz621qz2640000gn/T/ipykernel_95569/2893228086.py:12: UserWarning: Boolean Series key will be reindexed to match DataFrame index.\n",
      "  indices = sales_data.loc[start:end][sales_data['Country'] == country].index\n",
      "/var/folders/kt/n_01c2t91fz15bhz621qz2640000gn/T/ipykernel_95569/2893228086.py:12: UserWarning: Boolean Series key will be reindexed to match DataFrame index.\n",
      "  indices = sales_data.loc[start:end][sales_data['Country'] == country].index\n",
      "/var/folders/kt/n_01c2t91fz15bhz621qz2640000gn/T/ipykernel_95569/2893228086.py:12: UserWarning: Boolean Series key will be reindexed to match DataFrame index.\n",
      "  indices = sales_data.loc[start:end][sales_data['Country'] == country].index\n",
      "/var/folders/kt/n_01c2t91fz15bhz621qz2640000gn/T/ipykernel_95569/2893228086.py:12: UserWarning: Boolean Series key will be reindexed to match DataFrame index.\n",
      "  indices = sales_data.loc[start:end][sales_data['Country'] == country].index\n",
      "/var/folders/kt/n_01c2t91fz15bhz621qz2640000gn/T/ipykernel_95569/2893228086.py:12: UserWarning: Boolean Series key will be reindexed to match DataFrame index.\n",
      "  indices = sales_data.loc[start:end][sales_data['Country'] == country].index\n",
      "/var/folders/kt/n_01c2t91fz15bhz621qz2640000gn/T/ipykernel_95569/2893228086.py:12: UserWarning: Boolean Series key will be reindexed to match DataFrame index.\n",
      "  indices = sales_data.loc[start:end][sales_data['Country'] == country].index\n",
      "/var/folders/kt/n_01c2t91fz15bhz621qz2640000gn/T/ipykernel_95569/2893228086.py:12: UserWarning: Boolean Series key will be reindexed to match DataFrame index.\n",
      "  indices = sales_data.loc[start:end][sales_data['Country'] == country].index\n",
      "/var/folders/kt/n_01c2t91fz15bhz621qz2640000gn/T/ipykernel_95569/2893228086.py:12: UserWarning: Boolean Series key will be reindexed to match DataFrame index.\n",
      "  indices = sales_data.loc[start:end][sales_data['Country'] == country].index\n",
      "/var/folders/kt/n_01c2t91fz15bhz621qz2640000gn/T/ipykernel_95569/2893228086.py:12: UserWarning: Boolean Series key will be reindexed to match DataFrame index.\n",
      "  indices = sales_data.loc[start:end][sales_data['Country'] == country].index\n",
      "/var/folders/kt/n_01c2t91fz15bhz621qz2640000gn/T/ipykernel_95569/2893228086.py:12: UserWarning: Boolean Series key will be reindexed to match DataFrame index.\n",
      "  indices = sales_data.loc[start:end][sales_data['Country'] == country].index\n",
      "/var/folders/kt/n_01c2t91fz15bhz621qz2640000gn/T/ipykernel_95569/2893228086.py:12: UserWarning: Boolean Series key will be reindexed to match DataFrame index.\n",
      "  indices = sales_data.loc[start:end][sales_data['Country'] == country].index\n",
      "/var/folders/kt/n_01c2t91fz15bhz621qz2640000gn/T/ipykernel_95569/2893228086.py:12: UserWarning: Boolean Series key will be reindexed to match DataFrame index.\n",
      "  indices = sales_data.loc[start:end][sales_data['Country'] == country].index\n",
      "/var/folders/kt/n_01c2t91fz15bhz621qz2640000gn/T/ipykernel_95569/2893228086.py:12: UserWarning: Boolean Series key will be reindexed to match DataFrame index.\n",
      "  indices = sales_data.loc[start:end][sales_data['Country'] == country].index\n",
      "/var/folders/kt/n_01c2t91fz15bhz621qz2640000gn/T/ipykernel_95569/2893228086.py:12: UserWarning: Boolean Series key will be reindexed to match DataFrame index.\n",
      "  indices = sales_data.loc[start:end][sales_data['Country'] == country].index\n",
      "/var/folders/kt/n_01c2t91fz15bhz621qz2640000gn/T/ipykernel_95569/2893228086.py:12: UserWarning: Boolean Series key will be reindexed to match DataFrame index.\n",
      "  indices = sales_data.loc[start:end][sales_data['Country'] == country].index\n",
      "/var/folders/kt/n_01c2t91fz15bhz621qz2640000gn/T/ipykernel_95569/2893228086.py:12: UserWarning: Boolean Series key will be reindexed to match DataFrame index.\n",
      "  indices = sales_data.loc[start:end][sales_data['Country'] == country].index\n",
      "/var/folders/kt/n_01c2t91fz15bhz621qz2640000gn/T/ipykernel_95569/2893228086.py:12: UserWarning: Boolean Series key will be reindexed to match DataFrame index.\n",
      "  indices = sales_data.loc[start:end][sales_data['Country'] == country].index\n",
      "/var/folders/kt/n_01c2t91fz15bhz621qz2640000gn/T/ipykernel_95569/2893228086.py:12: UserWarning: Boolean Series key will be reindexed to match DataFrame index.\n",
      "  indices = sales_data.loc[start:end][sales_data['Country'] == country].index\n",
      "/var/folders/kt/n_01c2t91fz15bhz621qz2640000gn/T/ipykernel_95569/2893228086.py:12: UserWarning: Boolean Series key will be reindexed to match DataFrame index.\n",
      "  indices = sales_data.loc[start:end][sales_data['Country'] == country].index\n",
      "/var/folders/kt/n_01c2t91fz15bhz621qz2640000gn/T/ipykernel_95569/2893228086.py:12: UserWarning: Boolean Series key will be reindexed to match DataFrame index.\n",
      "  indices = sales_data.loc[start:end][sales_data['Country'] == country].index\n",
      "/var/folders/kt/n_01c2t91fz15bhz621qz2640000gn/T/ipykernel_95569/2893228086.py:12: UserWarning: Boolean Series key will be reindexed to match DataFrame index.\n",
      "  indices = sales_data.loc[start:end][sales_data['Country'] == country].index\n",
      "/var/folders/kt/n_01c2t91fz15bhz621qz2640000gn/T/ipykernel_95569/2893228086.py:12: UserWarning: Boolean Series key will be reindexed to match DataFrame index.\n",
      "  indices = sales_data.loc[start:end][sales_data['Country'] == country].index\n",
      "/var/folders/kt/n_01c2t91fz15bhz621qz2640000gn/T/ipykernel_95569/2893228086.py:12: UserWarning: Boolean Series key will be reindexed to match DataFrame index.\n",
      "  indices = sales_data.loc[start:end][sales_data['Country'] == country].index\n",
      "/var/folders/kt/n_01c2t91fz15bhz621qz2640000gn/T/ipykernel_95569/2893228086.py:12: UserWarning: Boolean Series key will be reindexed to match DataFrame index.\n",
      "  indices = sales_data.loc[start:end][sales_data['Country'] == country].index\n",
      "/var/folders/kt/n_01c2t91fz15bhz621qz2640000gn/T/ipykernel_95569/2893228086.py:12: UserWarning: Boolean Series key will be reindexed to match DataFrame index.\n",
      "  indices = sales_data.loc[start:end][sales_data['Country'] == country].index\n",
      "/var/folders/kt/n_01c2t91fz15bhz621qz2640000gn/T/ipykernel_95569/2893228086.py:12: UserWarning: Boolean Series key will be reindexed to match DataFrame index.\n",
      "  indices = sales_data.loc[start:end][sales_data['Country'] == country].index\n",
      "/var/folders/kt/n_01c2t91fz15bhz621qz2640000gn/T/ipykernel_95569/2893228086.py:12: UserWarning: Boolean Series key will be reindexed to match DataFrame index.\n",
      "  indices = sales_data.loc[start:end][sales_data['Country'] == country].index\n",
      "/var/folders/kt/n_01c2t91fz15bhz621qz2640000gn/T/ipykernel_95569/2893228086.py:12: UserWarning: Boolean Series key will be reindexed to match DataFrame index.\n",
      "  indices = sales_data.loc[start:end][sales_data['Country'] == country].index\n",
      "/var/folders/kt/n_01c2t91fz15bhz621qz2640000gn/T/ipykernel_95569/2893228086.py:12: UserWarning: Boolean Series key will be reindexed to match DataFrame index.\n",
      "  indices = sales_data.loc[start:end][sales_data['Country'] == country].index\n",
      "/var/folders/kt/n_01c2t91fz15bhz621qz2640000gn/T/ipykernel_95569/2893228086.py:12: UserWarning: Boolean Series key will be reindexed to match DataFrame index.\n",
      "  indices = sales_data.loc[start:end][sales_data['Country'] == country].index\n",
      "/var/folders/kt/n_01c2t91fz15bhz621qz2640000gn/T/ipykernel_95569/2893228086.py:12: UserWarning: Boolean Series key will be reindexed to match DataFrame index.\n",
      "  indices = sales_data.loc[start:end][sales_data['Country'] == country].index\n",
      "/var/folders/kt/n_01c2t91fz15bhz621qz2640000gn/T/ipykernel_95569/2893228086.py:12: UserWarning: Boolean Series key will be reindexed to match DataFrame index.\n",
      "  indices = sales_data.loc[start:end][sales_data['Country'] == country].index\n",
      "/var/folders/kt/n_01c2t91fz15bhz621qz2640000gn/T/ipykernel_95569/2893228086.py:12: UserWarning: Boolean Series key will be reindexed to match DataFrame index.\n",
      "  indices = sales_data.loc[start:end][sales_data['Country'] == country].index\n",
      "/var/folders/kt/n_01c2t91fz15bhz621qz2640000gn/T/ipykernel_95569/2893228086.py:12: UserWarning: Boolean Series key will be reindexed to match DataFrame index.\n",
      "  indices = sales_data.loc[start:end][sales_data['Country'] == country].index\n",
      "/var/folders/kt/n_01c2t91fz15bhz621qz2640000gn/T/ipykernel_95569/2893228086.py:12: UserWarning: Boolean Series key will be reindexed to match DataFrame index.\n",
      "  indices = sales_data.loc[start:end][sales_data['Country'] == country].index\n",
      "/var/folders/kt/n_01c2t91fz15bhz621qz2640000gn/T/ipykernel_95569/2893228086.py:12: UserWarning: Boolean Series key will be reindexed to match DataFrame index.\n",
      "  indices = sales_data.loc[start:end][sales_data['Country'] == country].index\n",
      "/var/folders/kt/n_01c2t91fz15bhz621qz2640000gn/T/ipykernel_95569/2893228086.py:12: UserWarning: Boolean Series key will be reindexed to match DataFrame index.\n",
      "  indices = sales_data.loc[start:end][sales_data['Country'] == country].index\n",
      "/var/folders/kt/n_01c2t91fz15bhz621qz2640000gn/T/ipykernel_95569/2893228086.py:12: UserWarning: Boolean Series key will be reindexed to match DataFrame index.\n",
      "  indices = sales_data.loc[start:end][sales_data['Country'] == country].index\n",
      "/var/folders/kt/n_01c2t91fz15bhz621qz2640000gn/T/ipykernel_95569/2893228086.py:12: UserWarning: Boolean Series key will be reindexed to match DataFrame index.\n",
      "  indices = sales_data.loc[start:end][sales_data['Country'] == country].index\n",
      "/var/folders/kt/n_01c2t91fz15bhz621qz2640000gn/T/ipykernel_95569/2893228086.py:12: UserWarning: Boolean Series key will be reindexed to match DataFrame index.\n",
      "  indices = sales_data.loc[start:end][sales_data['Country'] == country].index\n",
      "/var/folders/kt/n_01c2t91fz15bhz621qz2640000gn/T/ipykernel_95569/2893228086.py:12: UserWarning: Boolean Series key will be reindexed to match DataFrame index.\n",
      "  indices = sales_data.loc[start:end][sales_data['Country'] == country].index\n",
      "/var/folders/kt/n_01c2t91fz15bhz621qz2640000gn/T/ipykernel_95569/2893228086.py:12: UserWarning: Boolean Series key will be reindexed to match DataFrame index.\n",
      "  indices = sales_data.loc[start:end][sales_data['Country'] == country].index\n",
      "/var/folders/kt/n_01c2t91fz15bhz621qz2640000gn/T/ipykernel_95569/2893228086.py:12: UserWarning: Boolean Series key will be reindexed to match DataFrame index.\n",
      "  indices = sales_data.loc[start:end][sales_data['Country'] == country].index\n",
      "/var/folders/kt/n_01c2t91fz15bhz621qz2640000gn/T/ipykernel_95569/2893228086.py:12: UserWarning: Boolean Series key will be reindexed to match DataFrame index.\n",
      "  indices = sales_data.loc[start:end][sales_data['Country'] == country].index\n",
      "/var/folders/kt/n_01c2t91fz15bhz621qz2640000gn/T/ipykernel_95569/2893228086.py:12: UserWarning: Boolean Series key will be reindexed to match DataFrame index.\n",
      "  indices = sales_data.loc[start:end][sales_data['Country'] == country].index\n",
      "/var/folders/kt/n_01c2t91fz15bhz621qz2640000gn/T/ipykernel_95569/2893228086.py:12: UserWarning: Boolean Series key will be reindexed to match DataFrame index.\n",
      "  indices = sales_data.loc[start:end][sales_data['Country'] == country].index\n",
      "/var/folders/kt/n_01c2t91fz15bhz621qz2640000gn/T/ipykernel_95569/2893228086.py:12: UserWarning: Boolean Series key will be reindexed to match DataFrame index.\n",
      "  indices = sales_data.loc[start:end][sales_data['Country'] == country].index\n",
      "/var/folders/kt/n_01c2t91fz15bhz621qz2640000gn/T/ipykernel_95569/2893228086.py:12: UserWarning: Boolean Series key will be reindexed to match DataFrame index.\n",
      "  indices = sales_data.loc[start:end][sales_data['Country'] == country].index\n",
      "/var/folders/kt/n_01c2t91fz15bhz621qz2640000gn/T/ipykernel_95569/2893228086.py:12: UserWarning: Boolean Series key will be reindexed to match DataFrame index.\n",
      "  indices = sales_data.loc[start:end][sales_data['Country'] == country].index\n",
      "/var/folders/kt/n_01c2t91fz15bhz621qz2640000gn/T/ipykernel_95569/2893228086.py:12: UserWarning: Boolean Series key will be reindexed to match DataFrame index.\n",
      "  indices = sales_data.loc[start:end][sales_data['Country'] == country].index\n"
     ]
    },
    {
     "data": {
      "text/plain": "      ZXG ID         Country  Industry                     UT L30 - Segment  \\\n5780     MW1   United States       NaN     Sterling Transformation Extender   \n5983     MW1   United States       NaN  Sterling Partner Engagement Manager   \n6934     MW2     Moe_Country       NaN     Sterling Transformation Extender   \n7079     MW2     Moe_Country       NaN  Sterling Partner Engagement Manager   \n14962    MW3         Germany       NaN       Sterling Managed File Transfer   \n15053    MW3         Germany       NaN  Sterling Partner Engagement Manager   \n59837   MW48         Denmark       NaN       Sterling Managed File Transfer   \n59838   MW49  Czech Republic       NaN       Sterling Managed File Transfer   \n59839   MW49  Czech Republic       NaN       Sterling Managed File Transfer   \n59840   MW50         Belarus       NaN       Sterling Managed File Transfer   \n59841   MW50         Belarus       NaN       Sterling Managed File Transfer   \n\n            Family                        Product name  \\\n5780   STER TRANSX     WebSphere Transform Ext Com Svr   \n5983           PEM  Sterling Prtnr Engage Mgr Software   \n6934   STER TRANSX    WS Transfrm Ext Pk Design Studio   \n7079           PEM  Sterling Prtnr Engage Mgr Software   \n14962     STER MFT                  MFT Connect:Direct   \n15053          PEM  Sterling Prtnr Engage Mgr Software   \n59837     STER MFT                  MFT Connect:Direct   \n59838     STER MFT                  MFT Connect:Direct   \n59839     STER MFT                  MFT Connect:Direct   \n59840     STER MFT                  MFT Connect:Direct   \n59841     STER MFT                  MFT Connect:Direct   \n\n                                     PA part description     Rev type  20161  \\\n5780   WEBSPHERE TRANSFORM EXTEND WITH COMMAND PVU INSTL  Transaction    NaN   \n5983   IBM STERL PRTNR ENGAGEMENT MGR STD CTNR ED RVU...  Transaction    NaN   \n6934   WEBSPHERE TRANSFORM EXTENDER DESIGN STU AUTHUS...  Subs & Supp    NaN   \n7079   IBM STERLING PARTNER ENG MNGR STD ED PER ENTIT...  Transaction    NaN   \n14962   STERLING C D STD ED NON-PROD ENV SMLT SESSN SUPT  Subs & Supp    NaN   \n15053  IBM STERL PRTNR ENGAGEMENT MGR STD CTNR ED RVU...  Transaction    NaN   \n59837                      STERLING C D PREM ED PVU SUPT  Subs & Supp    NaN   \n59838   STERLING C D STD ED NON-PROD ENV SMLT SESSN SUPT  Subs & Supp    NaN   \n59839                STERLING C D STD ED SMLT SESSN SUPT  Subs & Supp    NaN   \n59840   STERLING C D STD ED NON-PROD ENV SMLT SESSN SUPT  Subs & Supp    NaN   \n59841                STERLING C D STD ED SMLT SESSN SUPT  Subs & Supp    NaN   \n\n         20162  ...  20204  20211  20212  20213  20214    20221  20222  20223  \\\n5780       NaN  ...    NaN    NaN    NaN    NaN    NaN      NaN    NaN    NaN   \n5983       NaN  ...    NaN    NaN    NaN    NaN    NaN  23102.1    NaN    NaN   \n6934  -14175.9  ...    NaN    NaN    NaN    NaN    NaN      NaN    NaN    NaN   \n7079       NaN  ...    0.0    NaN    NaN    NaN    NaN      NaN    NaN    NaN   \n14962      NaN  ...    NaN    NaN    NaN    NaN    NaN      NaN    NaN    NaN   \n15053      NaN  ...    NaN    NaN    NaN    NaN    NaN   -122.4    NaN    NaN   \n59837      NaN  ...    NaN    NaN    NaN    NaN    NaN      NaN    NaN    NaN   \n59838      NaN  ...    NaN    NaN    NaN    NaN    NaN      NaN    NaN    NaN   \n59839      NaN  ...    NaN    NaN    NaN    NaN    NaN      NaN    NaN    NaN   \n59840      NaN  ...    NaN    NaN    NaN    NaN    NaN      NaN    NaN    NaN   \n59841      NaN  ...    NaN    NaN    NaN    NaN    NaN      NaN    NaN    NaN   \n\n       20224  Grand Total  \n5780     NaN    1395744.3  \n5983     NaN      23102.1  \n6934     NaN          0.0  \n7079     NaN          0.0  \n14962    NaN        115.2  \n15053    NaN       -122.4  \n59837    NaN        -32.4  \n59838    NaN        -10.8  \n59839    NaN        -21.6  \n59840    NaN        -16.2  \n59841    NaN        -32.4  \n\n[11 rows x 37 columns]",
      "text/html": "<div>\n<style scoped>\n    .dataframe tbody tr th:only-of-type {\n        vertical-align: middle;\n    }\n\n    .dataframe tbody tr th {\n        vertical-align: top;\n    }\n\n    .dataframe thead th {\n        text-align: right;\n    }\n</style>\n<table border=\"1\" class=\"dataframe\">\n  <thead>\n    <tr style=\"text-align: right;\">\n      <th></th>\n      <th>ZXG ID</th>\n      <th>Country</th>\n      <th>Industry</th>\n      <th>UT L30 - Segment</th>\n      <th>Family</th>\n      <th>Product name</th>\n      <th>PA part description</th>\n      <th>Rev type</th>\n      <th>20161</th>\n      <th>20162</th>\n      <th>...</th>\n      <th>20204</th>\n      <th>20211</th>\n      <th>20212</th>\n      <th>20213</th>\n      <th>20214</th>\n      <th>20221</th>\n      <th>20222</th>\n      <th>20223</th>\n      <th>20224</th>\n      <th>Grand Total</th>\n    </tr>\n  </thead>\n  <tbody>\n    <tr>\n      <th>5780</th>\n      <td>MW1</td>\n      <td>United States</td>\n      <td>NaN</td>\n      <td>Sterling Transformation Extender</td>\n      <td>STER TRANSX</td>\n      <td>WebSphere Transform Ext Com Svr</td>\n      <td>WEBSPHERE TRANSFORM EXTEND WITH COMMAND PVU INSTL</td>\n      <td>Transaction</td>\n      <td>NaN</td>\n      <td>NaN</td>\n      <td>...</td>\n      <td>NaN</td>\n      <td>NaN</td>\n      <td>NaN</td>\n      <td>NaN</td>\n      <td>NaN</td>\n      <td>NaN</td>\n      <td>NaN</td>\n      <td>NaN</td>\n      <td>NaN</td>\n      <td>1395744.3</td>\n    </tr>\n    <tr>\n      <th>5983</th>\n      <td>MW1</td>\n      <td>United States</td>\n      <td>NaN</td>\n      <td>Sterling Partner Engagement Manager</td>\n      <td>PEM</td>\n      <td>Sterling Prtnr Engage Mgr Software</td>\n      <td>IBM STERL PRTNR ENGAGEMENT MGR STD CTNR ED RVU...</td>\n      <td>Transaction</td>\n      <td>NaN</td>\n      <td>NaN</td>\n      <td>...</td>\n      <td>NaN</td>\n      <td>NaN</td>\n      <td>NaN</td>\n      <td>NaN</td>\n      <td>NaN</td>\n      <td>23102.1</td>\n      <td>NaN</td>\n      <td>NaN</td>\n      <td>NaN</td>\n      <td>23102.1</td>\n    </tr>\n    <tr>\n      <th>6934</th>\n      <td>MW2</td>\n      <td>Moe_Country</td>\n      <td>NaN</td>\n      <td>Sterling Transformation Extender</td>\n      <td>STER TRANSX</td>\n      <td>WS Transfrm Ext Pk Design Studio</td>\n      <td>WEBSPHERE TRANSFORM EXTENDER DESIGN STU AUTHUS...</td>\n      <td>Subs &amp; Supp</td>\n      <td>NaN</td>\n      <td>-14175.9</td>\n      <td>...</td>\n      <td>NaN</td>\n      <td>NaN</td>\n      <td>NaN</td>\n      <td>NaN</td>\n      <td>NaN</td>\n      <td>NaN</td>\n      <td>NaN</td>\n      <td>NaN</td>\n      <td>NaN</td>\n      <td>0.0</td>\n    </tr>\n    <tr>\n      <th>7079</th>\n      <td>MW2</td>\n      <td>Moe_Country</td>\n      <td>NaN</td>\n      <td>Sterling Partner Engagement Manager</td>\n      <td>PEM</td>\n      <td>Sterling Prtnr Engage Mgr Software</td>\n      <td>IBM STERLING PARTNER ENG MNGR STD ED PER ENTIT...</td>\n      <td>Transaction</td>\n      <td>NaN</td>\n      <td>NaN</td>\n      <td>...</td>\n      <td>0.0</td>\n      <td>NaN</td>\n      <td>NaN</td>\n      <td>NaN</td>\n      <td>NaN</td>\n      <td>NaN</td>\n      <td>NaN</td>\n      <td>NaN</td>\n      <td>NaN</td>\n      <td>0.0</td>\n    </tr>\n    <tr>\n      <th>14962</th>\n      <td>MW3</td>\n      <td>Germany</td>\n      <td>NaN</td>\n      <td>Sterling Managed File Transfer</td>\n      <td>STER MFT</td>\n      <td>MFT Connect:Direct</td>\n      <td>STERLING C D STD ED NON-PROD ENV SMLT SESSN SUPT</td>\n      <td>Subs &amp; Supp</td>\n      <td>NaN</td>\n      <td>NaN</td>\n      <td>...</td>\n      <td>NaN</td>\n      <td>NaN</td>\n      <td>NaN</td>\n      <td>NaN</td>\n      <td>NaN</td>\n      <td>NaN</td>\n      <td>NaN</td>\n      <td>NaN</td>\n      <td>NaN</td>\n      <td>115.2</td>\n    </tr>\n    <tr>\n      <th>15053</th>\n      <td>MW3</td>\n      <td>Germany</td>\n      <td>NaN</td>\n      <td>Sterling Partner Engagement Manager</td>\n      <td>PEM</td>\n      <td>Sterling Prtnr Engage Mgr Software</td>\n      <td>IBM STERL PRTNR ENGAGEMENT MGR STD CTNR ED RVU...</td>\n      <td>Transaction</td>\n      <td>NaN</td>\n      <td>NaN</td>\n      <td>...</td>\n      <td>NaN</td>\n      <td>NaN</td>\n      <td>NaN</td>\n      <td>NaN</td>\n      <td>NaN</td>\n      <td>-122.4</td>\n      <td>NaN</td>\n      <td>NaN</td>\n      <td>NaN</td>\n      <td>-122.4</td>\n    </tr>\n    <tr>\n      <th>59837</th>\n      <td>MW48</td>\n      <td>Denmark</td>\n      <td>NaN</td>\n      <td>Sterling Managed File Transfer</td>\n      <td>STER MFT</td>\n      <td>MFT Connect:Direct</td>\n      <td>STERLING C D PREM ED PVU SUPT</td>\n      <td>Subs &amp; Supp</td>\n      <td>NaN</td>\n      <td>NaN</td>\n      <td>...</td>\n      <td>NaN</td>\n      <td>NaN</td>\n      <td>NaN</td>\n      <td>NaN</td>\n      <td>NaN</td>\n      <td>NaN</td>\n      <td>NaN</td>\n      <td>NaN</td>\n      <td>NaN</td>\n      <td>-32.4</td>\n    </tr>\n    <tr>\n      <th>59838</th>\n      <td>MW49</td>\n      <td>Czech Republic</td>\n      <td>NaN</td>\n      <td>Sterling Managed File Transfer</td>\n      <td>STER MFT</td>\n      <td>MFT Connect:Direct</td>\n      <td>STERLING C D STD ED NON-PROD ENV SMLT SESSN SUPT</td>\n      <td>Subs &amp; Supp</td>\n      <td>NaN</td>\n      <td>NaN</td>\n      <td>...</td>\n      <td>NaN</td>\n      <td>NaN</td>\n      <td>NaN</td>\n      <td>NaN</td>\n      <td>NaN</td>\n      <td>NaN</td>\n      <td>NaN</td>\n      <td>NaN</td>\n      <td>NaN</td>\n      <td>-10.8</td>\n    </tr>\n    <tr>\n      <th>59839</th>\n      <td>MW49</td>\n      <td>Czech Republic</td>\n      <td>NaN</td>\n      <td>Sterling Managed File Transfer</td>\n      <td>STER MFT</td>\n      <td>MFT Connect:Direct</td>\n      <td>STERLING C D STD ED SMLT SESSN SUPT</td>\n      <td>Subs &amp; Supp</td>\n      <td>NaN</td>\n      <td>NaN</td>\n      <td>...</td>\n      <td>NaN</td>\n      <td>NaN</td>\n      <td>NaN</td>\n      <td>NaN</td>\n      <td>NaN</td>\n      <td>NaN</td>\n      <td>NaN</td>\n      <td>NaN</td>\n      <td>NaN</td>\n      <td>-21.6</td>\n    </tr>\n    <tr>\n      <th>59840</th>\n      <td>MW50</td>\n      <td>Belarus</td>\n      <td>NaN</td>\n      <td>Sterling Managed File Transfer</td>\n      <td>STER MFT</td>\n      <td>MFT Connect:Direct</td>\n      <td>STERLING C D STD ED NON-PROD ENV SMLT SESSN SUPT</td>\n      <td>Subs &amp; Supp</td>\n      <td>NaN</td>\n      <td>NaN</td>\n      <td>...</td>\n      <td>NaN</td>\n      <td>NaN</td>\n      <td>NaN</td>\n      <td>NaN</td>\n      <td>NaN</td>\n      <td>NaN</td>\n      <td>NaN</td>\n      <td>NaN</td>\n      <td>NaN</td>\n      <td>-16.2</td>\n    </tr>\n    <tr>\n      <th>59841</th>\n      <td>MW50</td>\n      <td>Belarus</td>\n      <td>NaN</td>\n      <td>Sterling Managed File Transfer</td>\n      <td>STER MFT</td>\n      <td>MFT Connect:Direct</td>\n      <td>STERLING C D STD ED SMLT SESSN SUPT</td>\n      <td>Subs &amp; Supp</td>\n      <td>NaN</td>\n      <td>NaN</td>\n      <td>...</td>\n      <td>NaN</td>\n      <td>NaN</td>\n      <td>NaN</td>\n      <td>NaN</td>\n      <td>NaN</td>\n      <td>NaN</td>\n      <td>NaN</td>\n      <td>NaN</td>\n      <td>NaN</td>\n      <td>-32.4</td>\n    </tr>\n  </tbody>\n</table>\n<p>11 rows × 37 columns</p>\n</div>"
     },
     "execution_count": 8,
     "metadata": {},
     "output_type": "execute_result"
    }
   ]
  },
  {
   "cell_type": "code",
   "source": [
    "# Convert 'Industry' to string type\n",
    "sales_data['Industry'] = sales_data['Industry'].astype(str)\n",
    "\n",
    "# Replace blank values with '99'\n",
    "sales_data['Industry'].replace(['nan', ''], '99', inplace=True)"
   ],
   "metadata": {
    "id": "quOReBem0Nwe",
    "ExecuteTime": {
     "end_time": "2023-08-21T05:33:29.646459Z",
     "start_time": "2023-08-21T05:33:29.614311Z"
    }
   },
   "execution_count": 9,
   "outputs": []
  },
  {
   "cell_type": "code",
   "execution_count": 10,
   "outputs": [
    {
     "data": {
      "text/plain": "         ZXG ID        Country Industry                     UT L30 - Segment  \\\n0      ZX001H1N  United States      1.0             Sterling B2B Integration   \n1      ZX001H1N  United States      1.0             Sterling B2B Integration   \n2      ZX001H1N  United States      1.0             Sterling B2B Integration   \n3      ZX001H1N  United States      1.0             Sterling B2B Integration   \n4      ZX001H1N  United States      1.0             Sterling B2B Integration   \n...         ...            ...      ...                                  ...   \n89534     MW113    Switzerland       99             Sterling B2B Integration   \n89535     MW113    Switzerland       99  Sterling Partner Engagement Manager   \n89536     MW113    Switzerland       99       Sterling Managed File Transfer   \n89537     MW113    Switzerland       99       Sterling Managed File Transfer   \n89538     MW113    Switzerland       99       Sterling Managed File Transfer   \n\n             Family                        Product name  \\\n0      STER FILEGWA                      B2B Integrator   \n1      STER FILEGWA                      B2B Integrator   \n2      STER FILEGWA                      B2B Integrator   \n3      STER FILEGWA                      B2B Integrator   \n4      STER FILEGWA                      B2B Integrator   \n...             ...                                 ...   \n89534  STER FILEGWA                             Gentran   \n89535           PEM  Sterling Prtnr Engage Mgr Software   \n89536      STER MFT                    MFT Secure Proxy   \n89537      STER MFT                  MFT Connect:Direct   \n89538      STER MFT                  MFT Control Center   \n\n                                     PA part description     Rev type  \\\n0      B2B INTEGRATOR AO GLOBAL HIGH AVAILABILITY MB ...  Transaction   \n1      B2B INTEGRATOR AO GLOBAL HIGH AVAILABILITY MB ...  Subs & Supp   \n2      B2B INTEGRATOR AO GLOBAL HIGH AVAILABILITY MB ...  Subs & Supp   \n3                STERLING B2B INTEGRATOR ENT ED PVU SUPT  Subs & Supp   \n4                 STERLING B2B INTEGRATOR ENT ED PVU SUB  Subs & Supp   \n...                                                  ...          ...   \n89534                                            Gentran       B2B SW   \n89535                 Sterling Prtnr Engage Mgr Software       B2B SW   \n89536                                   MFT Secure Proxy       B2B SW   \n89537                                 MFT Connect:Direct       B2B SW   \n89538                                 MFT Control Center       B2B SW   \n\n         20161    20162  ...     20204     20211     20212     20213  \\\n0          NaN      NaN  ...       NaN       NaN       NaN       NaN   \n1          NaN      NaN  ...   31322.7   31322.7   31322.7   31322.7   \n2          NaN      NaN  ...  125298.9  125298.9  125298.9  125298.9   \n3       2797.2   2797.2  ...   22226.4   22226.4   22226.4   22307.4   \n4      11188.8  11188.8  ...   88911.0   88911.0   88911.0   89237.7   \n...        ...      ...  ...       ...       ...       ...       ...   \n89534      NaN      NaN  ...       NaN       NaN       NaN       NaN   \n89535      NaN      NaN  ...       NaN       NaN       NaN       NaN   \n89536      NaN      NaN  ...       NaN       NaN       NaN       NaN   \n89537    175.5    175.5  ...       NaN       NaN       NaN       NaN   \n89538      NaN      NaN  ...       NaN       NaN       NaN       NaN   \n\n          20214     20221     20222     20223      20224  Grand Total  \n0           NaN       NaN       NaN       NaN        NaN    2503116.9  \n1       31322.7   31322.7   31322.7   31322.7    31322.7     407055.6  \n2      125298.9  125298.9  125298.9  125298.9   125298.9    1628306.1  \n3       22307.4   22307.4   22307.4   22307.4    22307.4     278391.6  \n4       89237.7   89237.7   89237.7   89237.7    89237.7    1113647.4  \n...         ...       ...       ...       ...        ...          ...  \n89534       NaN       NaN       NaN       NaN        NaN        -90.0  \n89535       NaN     587.7       NaN       NaN        NaN        587.7  \n89536       NaN       NaN       NaN       NaN  -630000.0    -630000.0  \n89537       NaN       NaN       NaN       NaN  -810000.0    -807514.2  \n89538       NaN       NaN       NaN       NaN -1062817.2   -1062817.2  \n\n[89539 rows x 37 columns]",
      "text/html": "<div>\n<style scoped>\n    .dataframe tbody tr th:only-of-type {\n        vertical-align: middle;\n    }\n\n    .dataframe tbody tr th {\n        vertical-align: top;\n    }\n\n    .dataframe thead th {\n        text-align: right;\n    }\n</style>\n<table border=\"1\" class=\"dataframe\">\n  <thead>\n    <tr style=\"text-align: right;\">\n      <th></th>\n      <th>ZXG ID</th>\n      <th>Country</th>\n      <th>Industry</th>\n      <th>UT L30 - Segment</th>\n      <th>Family</th>\n      <th>Product name</th>\n      <th>PA part description</th>\n      <th>Rev type</th>\n      <th>20161</th>\n      <th>20162</th>\n      <th>...</th>\n      <th>20204</th>\n      <th>20211</th>\n      <th>20212</th>\n      <th>20213</th>\n      <th>20214</th>\n      <th>20221</th>\n      <th>20222</th>\n      <th>20223</th>\n      <th>20224</th>\n      <th>Grand Total</th>\n    </tr>\n  </thead>\n  <tbody>\n    <tr>\n      <th>0</th>\n      <td>ZX001H1N</td>\n      <td>United States</td>\n      <td>1.0</td>\n      <td>Sterling B2B Integration</td>\n      <td>STER FILEGWA</td>\n      <td>B2B Integrator</td>\n      <td>B2B INTEGRATOR AO GLOBAL HIGH AVAILABILITY MB ...</td>\n      <td>Transaction</td>\n      <td>NaN</td>\n      <td>NaN</td>\n      <td>...</td>\n      <td>NaN</td>\n      <td>NaN</td>\n      <td>NaN</td>\n      <td>NaN</td>\n      <td>NaN</td>\n      <td>NaN</td>\n      <td>NaN</td>\n      <td>NaN</td>\n      <td>NaN</td>\n      <td>2503116.9</td>\n    </tr>\n    <tr>\n      <th>1</th>\n      <td>ZX001H1N</td>\n      <td>United States</td>\n      <td>1.0</td>\n      <td>Sterling B2B Integration</td>\n      <td>STER FILEGWA</td>\n      <td>B2B Integrator</td>\n      <td>B2B INTEGRATOR AO GLOBAL HIGH AVAILABILITY MB ...</td>\n      <td>Subs &amp; Supp</td>\n      <td>NaN</td>\n      <td>NaN</td>\n      <td>...</td>\n      <td>31322.7</td>\n      <td>31322.7</td>\n      <td>31322.7</td>\n      <td>31322.7</td>\n      <td>31322.7</td>\n      <td>31322.7</td>\n      <td>31322.7</td>\n      <td>31322.7</td>\n      <td>31322.7</td>\n      <td>407055.6</td>\n    </tr>\n    <tr>\n      <th>2</th>\n      <td>ZX001H1N</td>\n      <td>United States</td>\n      <td>1.0</td>\n      <td>Sterling B2B Integration</td>\n      <td>STER FILEGWA</td>\n      <td>B2B Integrator</td>\n      <td>B2B INTEGRATOR AO GLOBAL HIGH AVAILABILITY MB ...</td>\n      <td>Subs &amp; Supp</td>\n      <td>NaN</td>\n      <td>NaN</td>\n      <td>...</td>\n      <td>125298.9</td>\n      <td>125298.9</td>\n      <td>125298.9</td>\n      <td>125298.9</td>\n      <td>125298.9</td>\n      <td>125298.9</td>\n      <td>125298.9</td>\n      <td>125298.9</td>\n      <td>125298.9</td>\n      <td>1628306.1</td>\n    </tr>\n    <tr>\n      <th>3</th>\n      <td>ZX001H1N</td>\n      <td>United States</td>\n      <td>1.0</td>\n      <td>Sterling B2B Integration</td>\n      <td>STER FILEGWA</td>\n      <td>B2B Integrator</td>\n      <td>STERLING B2B INTEGRATOR ENT ED PVU SUPT</td>\n      <td>Subs &amp; Supp</td>\n      <td>2797.2</td>\n      <td>2797.2</td>\n      <td>...</td>\n      <td>22226.4</td>\n      <td>22226.4</td>\n      <td>22226.4</td>\n      <td>22307.4</td>\n      <td>22307.4</td>\n      <td>22307.4</td>\n      <td>22307.4</td>\n      <td>22307.4</td>\n      <td>22307.4</td>\n      <td>278391.6</td>\n    </tr>\n    <tr>\n      <th>4</th>\n      <td>ZX001H1N</td>\n      <td>United States</td>\n      <td>1.0</td>\n      <td>Sterling B2B Integration</td>\n      <td>STER FILEGWA</td>\n      <td>B2B Integrator</td>\n      <td>STERLING B2B INTEGRATOR ENT ED PVU SUB</td>\n      <td>Subs &amp; Supp</td>\n      <td>11188.8</td>\n      <td>11188.8</td>\n      <td>...</td>\n      <td>88911.0</td>\n      <td>88911.0</td>\n      <td>88911.0</td>\n      <td>89237.7</td>\n      <td>89237.7</td>\n      <td>89237.7</td>\n      <td>89237.7</td>\n      <td>89237.7</td>\n      <td>89237.7</td>\n      <td>1113647.4</td>\n    </tr>\n    <tr>\n      <th>...</th>\n      <td>...</td>\n      <td>...</td>\n      <td>...</td>\n      <td>...</td>\n      <td>...</td>\n      <td>...</td>\n      <td>...</td>\n      <td>...</td>\n      <td>...</td>\n      <td>...</td>\n      <td>...</td>\n      <td>...</td>\n      <td>...</td>\n      <td>...</td>\n      <td>...</td>\n      <td>...</td>\n      <td>...</td>\n      <td>...</td>\n      <td>...</td>\n      <td>...</td>\n      <td>...</td>\n    </tr>\n    <tr>\n      <th>89534</th>\n      <td>MW113</td>\n      <td>Switzerland</td>\n      <td>99</td>\n      <td>Sterling B2B Integration</td>\n      <td>STER FILEGWA</td>\n      <td>Gentran</td>\n      <td>Gentran</td>\n      <td>B2B SW</td>\n      <td>NaN</td>\n      <td>NaN</td>\n      <td>...</td>\n      <td>NaN</td>\n      <td>NaN</td>\n      <td>NaN</td>\n      <td>NaN</td>\n      <td>NaN</td>\n      <td>NaN</td>\n      <td>NaN</td>\n      <td>NaN</td>\n      <td>NaN</td>\n      <td>-90.0</td>\n    </tr>\n    <tr>\n      <th>89535</th>\n      <td>MW113</td>\n      <td>Switzerland</td>\n      <td>99</td>\n      <td>Sterling Partner Engagement Manager</td>\n      <td>PEM</td>\n      <td>Sterling Prtnr Engage Mgr Software</td>\n      <td>Sterling Prtnr Engage Mgr Software</td>\n      <td>B2B SW</td>\n      <td>NaN</td>\n      <td>NaN</td>\n      <td>...</td>\n      <td>NaN</td>\n      <td>NaN</td>\n      <td>NaN</td>\n      <td>NaN</td>\n      <td>NaN</td>\n      <td>587.7</td>\n      <td>NaN</td>\n      <td>NaN</td>\n      <td>NaN</td>\n      <td>587.7</td>\n    </tr>\n    <tr>\n      <th>89536</th>\n      <td>MW113</td>\n      <td>Switzerland</td>\n      <td>99</td>\n      <td>Sterling Managed File Transfer</td>\n      <td>STER MFT</td>\n      <td>MFT Secure Proxy</td>\n      <td>MFT Secure Proxy</td>\n      <td>B2B SW</td>\n      <td>NaN</td>\n      <td>NaN</td>\n      <td>...</td>\n      <td>NaN</td>\n      <td>NaN</td>\n      <td>NaN</td>\n      <td>NaN</td>\n      <td>NaN</td>\n      <td>NaN</td>\n      <td>NaN</td>\n      <td>NaN</td>\n      <td>-630000.0</td>\n      <td>-630000.0</td>\n    </tr>\n    <tr>\n      <th>89537</th>\n      <td>MW113</td>\n      <td>Switzerland</td>\n      <td>99</td>\n      <td>Sterling Managed File Transfer</td>\n      <td>STER MFT</td>\n      <td>MFT Connect:Direct</td>\n      <td>MFT Connect:Direct</td>\n      <td>B2B SW</td>\n      <td>175.5</td>\n      <td>175.5</td>\n      <td>...</td>\n      <td>NaN</td>\n      <td>NaN</td>\n      <td>NaN</td>\n      <td>NaN</td>\n      <td>NaN</td>\n      <td>NaN</td>\n      <td>NaN</td>\n      <td>NaN</td>\n      <td>-810000.0</td>\n      <td>-807514.2</td>\n    </tr>\n    <tr>\n      <th>89538</th>\n      <td>MW113</td>\n      <td>Switzerland</td>\n      <td>99</td>\n      <td>Sterling Managed File Transfer</td>\n      <td>STER MFT</td>\n      <td>MFT Control Center</td>\n      <td>MFT Control Center</td>\n      <td>B2B SW</td>\n      <td>NaN</td>\n      <td>NaN</td>\n      <td>...</td>\n      <td>NaN</td>\n      <td>NaN</td>\n      <td>NaN</td>\n      <td>NaN</td>\n      <td>NaN</td>\n      <td>NaN</td>\n      <td>NaN</td>\n      <td>NaN</td>\n      <td>-1062817.2</td>\n      <td>-1062817.2</td>\n    </tr>\n  </tbody>\n</table>\n<p>89539 rows × 37 columns</p>\n</div>"
     },
     "execution_count": 10,
     "metadata": {},
     "output_type": "execute_result"
    }
   ],
   "source": [
    "# Convert column names to strings\n",
    "sales_data.columns = sales_data.columns.astype(str)\n",
    "sales_data"
   ],
   "metadata": {
    "collapsed": false,
    "ExecuteTime": {
     "end_time": "2023-08-21T05:33:29.696349Z",
     "start_time": "2023-08-21T05:33:29.625591Z"
    }
   }
  },
  {
   "cell_type": "code",
   "execution_count": 11,
   "outputs": [],
   "source": [
    "# delete all rows with in col_revenue has negative value\n",
    "col_revenue = ['20161','20162','20163','20164','20171','20172','20173','20174','20181','20182','20183','20184','20191','20192','20193','20194','20201','20202','20203','20204','20211','20212','20213','20214','20221','20222','20223','20224', 'Grand Total']\n",
    "\n",
    "for col in col_revenue:\n",
    "     sales_data[col].mask(sales_data[col] < 0.0 , inplace=True)"
   ],
   "metadata": {
    "collapsed": false,
    "ExecuteTime": {
     "end_time": "2023-08-21T05:33:29.715299Z",
     "start_time": "2023-08-21T05:33:29.669033Z"
    }
   }
  },
  {
   "cell_type": "code",
   "execution_count": 12,
   "outputs": [
    {
     "name": "stdout",
     "output_type": "stream",
     "text": [
      "<class 'pandas.core.frame.DataFrame'>\n",
      "RangeIndex: 89539 entries, 0 to 89538\n",
      "Data columns (total 37 columns):\n",
      " #   Column               Non-Null Count  Dtype  \n",
      "---  ------               --------------  -----  \n",
      " 0   ZXG ID               89539 non-null  object \n",
      " 1   Country              89539 non-null  object \n",
      " 2   Industry             89539 non-null  object \n",
      " 3   UT L30 - Segment     89539 non-null  object \n",
      " 4   Family               89539 non-null  object \n",
      " 5   Product name         89539 non-null  object \n",
      " 6   PA part description  87103 non-null  object \n",
      " 7   Rev type             89539 non-null  object \n",
      " 8   20161                44179 non-null  float64\n",
      " 9   20162                44916 non-null  float64\n",
      " 10  20163                43992 non-null  float64\n",
      " 11  20164                44826 non-null  float64\n",
      " 12  20171                43242 non-null  float64\n",
      " 13  20172                43332 non-null  float64\n",
      " 14  20173                43062 non-null  float64\n",
      " 15  20174                43885 non-null  float64\n",
      " 16  20181                42240 non-null  float64\n",
      " 17  20182                42361 non-null  float64\n",
      " 18  20183                42195 non-null  float64\n",
      " 19  20184                42535 non-null  float64\n",
      " 20  20191                41266 non-null  float64\n",
      " 21  20192                41381 non-null  float64\n",
      " 22  20193                41311 non-null  float64\n",
      " 23  20194                41426 non-null  float64\n",
      " 24  20201                40718 non-null  float64\n",
      " 25  20202                39573 non-null  float64\n",
      " 26  20203                39190 non-null  float64\n",
      " 27  20204                39887 non-null  float64\n",
      " 28  20211                38707 non-null  float64\n",
      " 29  20212                38751 non-null  float64\n",
      " 30  20213                38422 non-null  float64\n",
      " 31  20214                38553 non-null  float64\n",
      " 32  20221                37191 non-null  float64\n",
      " 33  20222                37438 non-null  float64\n",
      " 34  20223                36822 non-null  float64\n",
      " 35  20224                37470 non-null  float64\n",
      " 36  Grand Total          86557 non-null  float64\n",
      "dtypes: float64(29), object(8)\n",
      "memory usage: 25.3+ MB\n"
     ]
    }
   ],
   "source": [
    "# Check column type\n",
    "sales_data.info()"
   ],
   "metadata": {
    "collapsed": false,
    "ExecuteTime": {
     "end_time": "2023-08-21T05:33:29.749099Z",
     "start_time": "2023-08-21T05:33:29.685190Z"
    }
   }
  },
  {
   "cell_type": "code",
   "execution_count": 13,
   "outputs": [
    {
     "data": {
      "text/plain": "         ZXG ID        Country Industry                     UT L30 - Segment  \\\n0      ZX001H1N  United States      1.0             Sterling B2B Integration   \n1      ZX001H1N  United States      1.0             Sterling B2B Integration   \n2      ZX001H1N  United States      1.0             Sterling B2B Integration   \n3      ZX001H1N  United States      1.0             Sterling B2B Integration   \n4      ZX001H1N  United States      1.0             Sterling B2B Integration   \n...         ...            ...      ...                                  ...   \n89534     MW113    Switzerland       99             Sterling B2B Integration   \n89535     MW113    Switzerland       99  Sterling Partner Engagement Manager   \n89536     MW113    Switzerland       99       Sterling Managed File Transfer   \n89537     MW113    Switzerland       99       Sterling Managed File Transfer   \n89538     MW113    Switzerland       99       Sterling Managed File Transfer   \n\n             Family                        Product name  \\\n0      STER FILEGWA                      B2B Integrator   \n1      STER FILEGWA                      B2B Integrator   \n2      STER FILEGWA                      B2B Integrator   \n3      STER FILEGWA                      B2B Integrator   \n4      STER FILEGWA                      B2B Integrator   \n...             ...                                 ...   \n89534  STER FILEGWA                             Gentran   \n89535           PEM  Sterling Prtnr Engage Mgr Software   \n89536      STER MFT                    MFT Secure Proxy   \n89537      STER MFT                  MFT Connect:Direct   \n89538      STER MFT                  MFT Control Center   \n\n                                     PA part description     Rev type  \\\n0      B2B INTEGRATOR AO GLOBAL HIGH AVAILABILITY MB ...  Transaction   \n1      B2B INTEGRATOR AO GLOBAL HIGH AVAILABILITY MB ...  Subs & Supp   \n2      B2B INTEGRATOR AO GLOBAL HIGH AVAILABILITY MB ...  Subs & Supp   \n3                STERLING B2B INTEGRATOR ENT ED PVU SUPT  Subs & Supp   \n4                 STERLING B2B INTEGRATOR ENT ED PVU SUB  Subs & Supp   \n...                                                  ...          ...   \n89534                                            Gentran       B2B SW   \n89535                 Sterling Prtnr Engage Mgr Software       B2B SW   \n89536                                   MFT Secure Proxy       B2B SW   \n89537                                 MFT Connect:Direct       B2B SW   \n89538                                 MFT Control Center       B2B SW   \n\n         20161    20162  ...     20204     20211     20212     20213  \\\n0          NaN      NaN  ...       NaN       NaN       NaN       NaN   \n1          NaN      NaN  ...   31322.7   31322.7   31322.7   31322.7   \n2          NaN      NaN  ...  125298.9  125298.9  125298.9  125298.9   \n3       2797.2   2797.2  ...   22226.4   22226.4   22226.4   22307.4   \n4      11188.8  11188.8  ...   88911.0   88911.0   88911.0   89237.7   \n...        ...      ...  ...       ...       ...       ...       ...   \n89534      NaN      NaN  ...       NaN       NaN       NaN       NaN   \n89535      NaN      NaN  ...       NaN       NaN       NaN       NaN   \n89536      NaN      NaN  ...       NaN       NaN       NaN       NaN   \n89537    175.5    175.5  ...       NaN       NaN       NaN       NaN   \n89538      NaN      NaN  ...       NaN       NaN       NaN       NaN   \n\n          20214     20221     20222     20223     20224  Grand Total  \n0           NaN       NaN       NaN       NaN       NaN    2503116.9  \n1       31322.7   31322.7   31322.7   31322.7   31322.7     407055.6  \n2      125298.9  125298.9  125298.9  125298.9  125298.9    1628306.1  \n3       22307.4   22307.4   22307.4   22307.4   22307.4     278391.6  \n4       89237.7   89237.7   89237.7   89237.7   89237.7    1113647.4  \n...         ...       ...       ...       ...       ...          ...  \n89534       NaN       NaN       NaN       NaN       NaN          NaN  \n89535       NaN     587.7       NaN       NaN       NaN        587.7  \n89536       NaN       NaN       NaN       NaN       NaN          NaN  \n89537       NaN       NaN       NaN       NaN       NaN          NaN  \n89538       NaN       NaN       NaN       NaN       NaN          NaN  \n\n[89539 rows x 37 columns]",
      "text/html": "<div>\n<style scoped>\n    .dataframe tbody tr th:only-of-type {\n        vertical-align: middle;\n    }\n\n    .dataframe tbody tr th {\n        vertical-align: top;\n    }\n\n    .dataframe thead th {\n        text-align: right;\n    }\n</style>\n<table border=\"1\" class=\"dataframe\">\n  <thead>\n    <tr style=\"text-align: right;\">\n      <th></th>\n      <th>ZXG ID</th>\n      <th>Country</th>\n      <th>Industry</th>\n      <th>UT L30 - Segment</th>\n      <th>Family</th>\n      <th>Product name</th>\n      <th>PA part description</th>\n      <th>Rev type</th>\n      <th>20161</th>\n      <th>20162</th>\n      <th>...</th>\n      <th>20204</th>\n      <th>20211</th>\n      <th>20212</th>\n      <th>20213</th>\n      <th>20214</th>\n      <th>20221</th>\n      <th>20222</th>\n      <th>20223</th>\n      <th>20224</th>\n      <th>Grand Total</th>\n    </tr>\n  </thead>\n  <tbody>\n    <tr>\n      <th>0</th>\n      <td>ZX001H1N</td>\n      <td>United States</td>\n      <td>1.0</td>\n      <td>Sterling B2B Integration</td>\n      <td>STER FILEGWA</td>\n      <td>B2B Integrator</td>\n      <td>B2B INTEGRATOR AO GLOBAL HIGH AVAILABILITY MB ...</td>\n      <td>Transaction</td>\n      <td>NaN</td>\n      <td>NaN</td>\n      <td>...</td>\n      <td>NaN</td>\n      <td>NaN</td>\n      <td>NaN</td>\n      <td>NaN</td>\n      <td>NaN</td>\n      <td>NaN</td>\n      <td>NaN</td>\n      <td>NaN</td>\n      <td>NaN</td>\n      <td>2503116.9</td>\n    </tr>\n    <tr>\n      <th>1</th>\n      <td>ZX001H1N</td>\n      <td>United States</td>\n      <td>1.0</td>\n      <td>Sterling B2B Integration</td>\n      <td>STER FILEGWA</td>\n      <td>B2B Integrator</td>\n      <td>B2B INTEGRATOR AO GLOBAL HIGH AVAILABILITY MB ...</td>\n      <td>Subs &amp; Supp</td>\n      <td>NaN</td>\n      <td>NaN</td>\n      <td>...</td>\n      <td>31322.7</td>\n      <td>31322.7</td>\n      <td>31322.7</td>\n      <td>31322.7</td>\n      <td>31322.7</td>\n      <td>31322.7</td>\n      <td>31322.7</td>\n      <td>31322.7</td>\n      <td>31322.7</td>\n      <td>407055.6</td>\n    </tr>\n    <tr>\n      <th>2</th>\n      <td>ZX001H1N</td>\n      <td>United States</td>\n      <td>1.0</td>\n      <td>Sterling B2B Integration</td>\n      <td>STER FILEGWA</td>\n      <td>B2B Integrator</td>\n      <td>B2B INTEGRATOR AO GLOBAL HIGH AVAILABILITY MB ...</td>\n      <td>Subs &amp; Supp</td>\n      <td>NaN</td>\n      <td>NaN</td>\n      <td>...</td>\n      <td>125298.9</td>\n      <td>125298.9</td>\n      <td>125298.9</td>\n      <td>125298.9</td>\n      <td>125298.9</td>\n      <td>125298.9</td>\n      <td>125298.9</td>\n      <td>125298.9</td>\n      <td>125298.9</td>\n      <td>1628306.1</td>\n    </tr>\n    <tr>\n      <th>3</th>\n      <td>ZX001H1N</td>\n      <td>United States</td>\n      <td>1.0</td>\n      <td>Sterling B2B Integration</td>\n      <td>STER FILEGWA</td>\n      <td>B2B Integrator</td>\n      <td>STERLING B2B INTEGRATOR ENT ED PVU SUPT</td>\n      <td>Subs &amp; Supp</td>\n      <td>2797.2</td>\n      <td>2797.2</td>\n      <td>...</td>\n      <td>22226.4</td>\n      <td>22226.4</td>\n      <td>22226.4</td>\n      <td>22307.4</td>\n      <td>22307.4</td>\n      <td>22307.4</td>\n      <td>22307.4</td>\n      <td>22307.4</td>\n      <td>22307.4</td>\n      <td>278391.6</td>\n    </tr>\n    <tr>\n      <th>4</th>\n      <td>ZX001H1N</td>\n      <td>United States</td>\n      <td>1.0</td>\n      <td>Sterling B2B Integration</td>\n      <td>STER FILEGWA</td>\n      <td>B2B Integrator</td>\n      <td>STERLING B2B INTEGRATOR ENT ED PVU SUB</td>\n      <td>Subs &amp; Supp</td>\n      <td>11188.8</td>\n      <td>11188.8</td>\n      <td>...</td>\n      <td>88911.0</td>\n      <td>88911.0</td>\n      <td>88911.0</td>\n      <td>89237.7</td>\n      <td>89237.7</td>\n      <td>89237.7</td>\n      <td>89237.7</td>\n      <td>89237.7</td>\n      <td>89237.7</td>\n      <td>1113647.4</td>\n    </tr>\n    <tr>\n      <th>...</th>\n      <td>...</td>\n      <td>...</td>\n      <td>...</td>\n      <td>...</td>\n      <td>...</td>\n      <td>...</td>\n      <td>...</td>\n      <td>...</td>\n      <td>...</td>\n      <td>...</td>\n      <td>...</td>\n      <td>...</td>\n      <td>...</td>\n      <td>...</td>\n      <td>...</td>\n      <td>...</td>\n      <td>...</td>\n      <td>...</td>\n      <td>...</td>\n      <td>...</td>\n      <td>...</td>\n    </tr>\n    <tr>\n      <th>89534</th>\n      <td>MW113</td>\n      <td>Switzerland</td>\n      <td>99</td>\n      <td>Sterling B2B Integration</td>\n      <td>STER FILEGWA</td>\n      <td>Gentran</td>\n      <td>Gentran</td>\n      <td>B2B SW</td>\n      <td>NaN</td>\n      <td>NaN</td>\n      <td>...</td>\n      <td>NaN</td>\n      <td>NaN</td>\n      <td>NaN</td>\n      <td>NaN</td>\n      <td>NaN</td>\n      <td>NaN</td>\n      <td>NaN</td>\n      <td>NaN</td>\n      <td>NaN</td>\n      <td>NaN</td>\n    </tr>\n    <tr>\n      <th>89535</th>\n      <td>MW113</td>\n      <td>Switzerland</td>\n      <td>99</td>\n      <td>Sterling Partner Engagement Manager</td>\n      <td>PEM</td>\n      <td>Sterling Prtnr Engage Mgr Software</td>\n      <td>Sterling Prtnr Engage Mgr Software</td>\n      <td>B2B SW</td>\n      <td>NaN</td>\n      <td>NaN</td>\n      <td>...</td>\n      <td>NaN</td>\n      <td>NaN</td>\n      <td>NaN</td>\n      <td>NaN</td>\n      <td>NaN</td>\n      <td>587.7</td>\n      <td>NaN</td>\n      <td>NaN</td>\n      <td>NaN</td>\n      <td>587.7</td>\n    </tr>\n    <tr>\n      <th>89536</th>\n      <td>MW113</td>\n      <td>Switzerland</td>\n      <td>99</td>\n      <td>Sterling Managed File Transfer</td>\n      <td>STER MFT</td>\n      <td>MFT Secure Proxy</td>\n      <td>MFT Secure Proxy</td>\n      <td>B2B SW</td>\n      <td>NaN</td>\n      <td>NaN</td>\n      <td>...</td>\n      <td>NaN</td>\n      <td>NaN</td>\n      <td>NaN</td>\n      <td>NaN</td>\n      <td>NaN</td>\n      <td>NaN</td>\n      <td>NaN</td>\n      <td>NaN</td>\n      <td>NaN</td>\n      <td>NaN</td>\n    </tr>\n    <tr>\n      <th>89537</th>\n      <td>MW113</td>\n      <td>Switzerland</td>\n      <td>99</td>\n      <td>Sterling Managed File Transfer</td>\n      <td>STER MFT</td>\n      <td>MFT Connect:Direct</td>\n      <td>MFT Connect:Direct</td>\n      <td>B2B SW</td>\n      <td>175.5</td>\n      <td>175.5</td>\n      <td>...</td>\n      <td>NaN</td>\n      <td>NaN</td>\n      <td>NaN</td>\n      <td>NaN</td>\n      <td>NaN</td>\n      <td>NaN</td>\n      <td>NaN</td>\n      <td>NaN</td>\n      <td>NaN</td>\n      <td>NaN</td>\n    </tr>\n    <tr>\n      <th>89538</th>\n      <td>MW113</td>\n      <td>Switzerland</td>\n      <td>99</td>\n      <td>Sterling Managed File Transfer</td>\n      <td>STER MFT</td>\n      <td>MFT Control Center</td>\n      <td>MFT Control Center</td>\n      <td>B2B SW</td>\n      <td>NaN</td>\n      <td>NaN</td>\n      <td>...</td>\n      <td>NaN</td>\n      <td>NaN</td>\n      <td>NaN</td>\n      <td>NaN</td>\n      <td>NaN</td>\n      <td>NaN</td>\n      <td>NaN</td>\n      <td>NaN</td>\n      <td>NaN</td>\n      <td>NaN</td>\n    </tr>\n  </tbody>\n</table>\n<p>89539 rows × 37 columns</p>\n</div>"
     },
     "execution_count": 13,
     "metadata": {},
     "output_type": "execute_result"
    }
   ],
   "source": [
    "sales_data"
   ],
   "metadata": {
    "collapsed": false,
    "ExecuteTime": {
     "end_time": "2023-08-21T05:33:29.850421Z",
     "start_time": "2023-08-21T05:33:29.707661Z"
    }
   }
  },
  {
   "cell_type": "code",
   "execution_count": 14,
   "outputs": [
    {
     "name": "stdout",
     "output_type": "stream",
     "text": [
      "0\n",
      "0\n",
      "0\n",
      "0\n",
      "0\n",
      "0\n",
      "0\n",
      "0\n",
      "0\n",
      "0\n",
      "0\n",
      "0\n",
      "0\n",
      "0\n",
      "0\n",
      "0\n",
      "0\n",
      "0\n",
      "0\n",
      "0\n",
      "0\n",
      "0\n",
      "0\n",
      "0\n",
      "0\n",
      "0\n",
      "0\n",
      "0\n",
      "0\n"
     ]
    }
   ],
   "source": [
    "# Verify if there is still negative value in the dataset\n",
    "for col in col_revenue:\n",
    "     # Replace values of Given column by using np.where() function\n",
    "     print(len(sales_data[sales_data[col] < 0.0]))\n",
    "     # print(sales_data)"
   ],
   "metadata": {
    "collapsed": false,
    "ExecuteTime": {
     "end_time": "2023-08-21T05:33:29.880874Z",
     "start_time": "2023-08-21T05:33:29.756437Z"
    }
   }
  },
  {
   "cell_type": "code",
   "execution_count": 15,
   "outputs": [
    {
     "name": "stdout",
     "output_type": "stream",
     "text": [
      "         ZXG ID        Country Industry                     UT L30 - Segment  \\\n",
      "0      ZX001H1N  United States      1.0             Sterling B2B Integration   \n",
      "1      ZX001H1N  United States      1.0             Sterling B2B Integration   \n",
      "2      ZX001H1N  United States      1.0             Sterling B2B Integration   \n",
      "3      ZX001H1N  United States      1.0             Sterling B2B Integration   \n",
      "4      ZX001H1N  United States      1.0             Sterling B2B Integration   \n",
      "...         ...            ...      ...                                  ...   \n",
      "89534     MW113    Switzerland       99             Sterling B2B Integration   \n",
      "89535     MW113    Switzerland       99  Sterling Partner Engagement Manager   \n",
      "89536     MW113    Switzerland       99       Sterling Managed File Transfer   \n",
      "89537     MW113    Switzerland       99       Sterling Managed File Transfer   \n",
      "89538     MW113    Switzerland       99       Sterling Managed File Transfer   \n",
      "\n",
      "             Family                        Product name  \\\n",
      "0      STER FILEGWA                      B2B Integrator   \n",
      "1      STER FILEGWA                      B2B Integrator   \n",
      "2      STER FILEGWA                      B2B Integrator   \n",
      "3      STER FILEGWA                      B2B Integrator   \n",
      "4      STER FILEGWA                      B2B Integrator   \n",
      "...             ...                                 ...   \n",
      "89534  STER FILEGWA                             Gentran   \n",
      "89535           PEM  Sterling Prtnr Engage Mgr Software   \n",
      "89536      STER MFT                    MFT Secure Proxy   \n",
      "89537      STER MFT                  MFT Connect:Direct   \n",
      "89538      STER MFT                  MFT Control Center   \n",
      "\n",
      "                                     PA part description     Rev type  \\\n",
      "0      B2B INTEGRATOR AO GLOBAL HIGH AVAILABILITY MB ...  Transaction   \n",
      "1      B2B INTEGRATOR AO GLOBAL HIGH AVAILABILITY MB ...  Subs & Supp   \n",
      "2      B2B INTEGRATOR AO GLOBAL HIGH AVAILABILITY MB ...  Subs & Supp   \n",
      "3                STERLING B2B INTEGRATOR ENT ED PVU SUPT  Subs & Supp   \n",
      "4                 STERLING B2B INTEGRATOR ENT ED PVU SUB  Subs & Supp   \n",
      "...                                                  ...          ...   \n",
      "89534                                            Gentran       B2B SW   \n",
      "89535                 Sterling Prtnr Engage Mgr Software       B2B SW   \n",
      "89536                                   MFT Secure Proxy       B2B SW   \n",
      "89537                                 MFT Connect:Direct       B2B SW   \n",
      "89538                                 MFT Control Center       B2B SW   \n",
      "\n",
      "          20161     20162  ...     20204     20211     20212     20213  \\\n",
      "0           NaN       NaN  ...       NaN       NaN       NaN       NaN   \n",
      "1           NaN       NaN  ...  0.010344  0.027422  0.016568  0.016622   \n",
      "2           NaN       NaN  ...  0.041378  0.109694  0.066278  0.066492   \n",
      "3      0.000903  0.000538  ...  0.007340  0.019458  0.011757  0.011838   \n",
      "4      0.003611  0.002153  ...  0.029361  0.077838  0.047030  0.047356   \n",
      "...         ...       ...  ...       ...       ...       ...       ...   \n",
      "89534       NaN       NaN  ...       NaN       NaN       NaN       NaN   \n",
      "89535       NaN       NaN  ...       NaN       NaN       NaN       NaN   \n",
      "89536       NaN       NaN  ...       NaN       NaN       NaN       NaN   \n",
      "89537  0.000057  0.000034  ...       NaN       NaN       NaN       NaN   \n",
      "89538       NaN       NaN  ...       NaN       NaN       NaN       NaN   \n",
      "\n",
      "          20214     20221     20222     20223     20224  Grand Total  \n",
      "0           NaN       NaN       NaN       NaN       NaN     0.125690  \n",
      "1      0.006559  0.010693  0.010745  0.003681  0.007002     0.020440  \n",
      "2      0.026237  0.042774  0.042984  0.014724  0.028012     0.081763  \n",
      "3      0.004671  0.007615  0.007653  0.002621  0.004987     0.013979  \n",
      "4      0.018686  0.030464  0.030613  0.010486  0.019950     0.055920  \n",
      "...         ...       ...       ...       ...       ...          ...  \n",
      "89534       NaN       NaN       NaN       NaN       NaN          NaN  \n",
      "89535       NaN  0.000201       NaN       NaN       NaN     0.000030  \n",
      "89536       NaN       NaN       NaN       NaN       NaN          NaN  \n",
      "89537       NaN       NaN       NaN       NaN       NaN          NaN  \n",
      "89538       NaN       NaN       NaN       NaN       NaN          NaN  \n",
      "\n",
      "[89539 rows x 37 columns]\n"
     ]
    }
   ],
   "source": [
    "# Remove the bias by apply the MinMaxScaler to all revenue related columns\n",
    "# Import the necessary library\n",
    "from sklearn.preprocessing import MinMaxScaler\n",
    "\n",
    "# Initialize the MinMaxScaler\n",
    "scaler = MinMaxScaler()\n",
    "\n",
    "# Normalize the numerical features\n",
    "for col in col_revenue:\n",
    "    sales_data[col] = scaler.fit_transform(sales_data[[col]])\n",
    "    #sales_data_encoded[col] = scaler.fit_transform(sales_data_encoded[[col]])\n",
    "\n",
    "print(sales_data)"
   ],
   "metadata": {
    "collapsed": false,
    "ExecuteTime": {
     "end_time": "2023-08-21T05:33:30.325802Z",
     "start_time": "2023-08-21T05:33:29.759909Z"
    }
   }
  },
  {
   "cell_type": "code",
   "execution_count": 16,
   "outputs": [],
   "source": [
    "# Columns to replace NaN values\n",
    "cols_to_replace = ['20161','20162','20163','20164','20171','20172','20173','20174','20181','20182','20183','20184','20191','20192','20193','20194','20201','20202','20203','20204','20211','20212','20213','20214','20221','20222','20223','20224', 'Grand Total']\n",
    "\n",
    "# Replace NaN values with 0 in the specified columns\n",
    "sales_data[cols_to_replace] = sales_data[cols_to_replace].fillna(0)"
   ],
   "metadata": {
    "collapsed": false,
    "ExecuteTime": {
     "end_time": "2023-08-21T05:33:30.326199Z",
     "start_time": "2023-08-21T05:33:30.308378Z"
    }
   }
  },
  {
   "cell_type": "code",
   "execution_count": 17,
   "outputs": [],
   "source": [
    "sales_data_modified = sales_data"
   ],
   "metadata": {
    "collapsed": false,
    "ExecuteTime": {
     "end_time": "2023-08-21T05:33:30.326229Z",
     "start_time": "2023-08-21T05:33:30.323446Z"
    }
   }
  },
  {
   "cell_type": "code",
   "execution_count": 18,
   "outputs": [
    {
     "data": {
      "text/plain": "         ZXG ID        Country Industry                     UT L30 - Segment  \\\n0      ZX001H1N  United States      1.0             Sterling B2B Integration   \n1      ZX001H1N  United States      1.0             Sterling B2B Integration   \n2      ZX001H1N  United States      1.0             Sterling B2B Integration   \n3      ZX001H1N  United States      1.0             Sterling B2B Integration   \n4      ZX001H1N  United States      1.0             Sterling B2B Integration   \n...         ...            ...      ...                                  ...   \n89534     MW113    Switzerland       99             Sterling B2B Integration   \n89535     MW113    Switzerland       99  Sterling Partner Engagement Manager   \n89536     MW113    Switzerland       99       Sterling Managed File Transfer   \n89537     MW113    Switzerland       99       Sterling Managed File Transfer   \n89538     MW113    Switzerland       99       Sterling Managed File Transfer   \n\n             Family                        Product name  \\\n0      STER FILEGWA                      B2B Integrator   \n1      STER FILEGWA                      B2B Integrator   \n2      STER FILEGWA                      B2B Integrator   \n3      STER FILEGWA                      B2B Integrator   \n4      STER FILEGWA                      B2B Integrator   \n...             ...                                 ...   \n89534  STER FILEGWA                             Gentran   \n89535           PEM  Sterling Prtnr Engage Mgr Software   \n89536      STER MFT                    MFT Secure Proxy   \n89537      STER MFT                  MFT Connect:Direct   \n89538      STER MFT                  MFT Control Center   \n\n                                     PA part description     Rev type  \\\n0      B2B INTEGRATOR AO GLOBAL HIGH AVAILABILITY MB ...  Transaction   \n1      B2B INTEGRATOR AO GLOBAL HIGH AVAILABILITY MB ...  Subs & Supp   \n2      B2B INTEGRATOR AO GLOBAL HIGH AVAILABILITY MB ...  Subs & Supp   \n3                STERLING B2B INTEGRATOR ENT ED PVU SUPT  Subs & Supp   \n4                 STERLING B2B INTEGRATOR ENT ED PVU SUB  Subs & Supp   \n...                                                  ...          ...   \n89534                                            Gentran       B2B SW   \n89535                 Sterling Prtnr Engage Mgr Software       B2B SW   \n89536                                   MFT Secure Proxy       B2B SW   \n89537                                 MFT Connect:Direct       B2B SW   \n89538                                 MFT Control Center       B2B SW   \n\n          20161     20162  ...     20204     20211     20212     20213  \\\n0      0.000000  0.000000  ...  0.000000  0.000000  0.000000  0.000000   \n1      0.000000  0.000000  ...  0.010344  0.027422  0.016568  0.016622   \n2      0.000000  0.000000  ...  0.041378  0.109694  0.066278  0.066492   \n3      0.000903  0.000538  ...  0.007340  0.019458  0.011757  0.011838   \n4      0.003611  0.002153  ...  0.029361  0.077838  0.047030  0.047356   \n...         ...       ...  ...       ...       ...       ...       ...   \n89534  0.000000  0.000000  ...  0.000000  0.000000  0.000000  0.000000   \n89535  0.000000  0.000000  ...  0.000000  0.000000  0.000000  0.000000   \n89536  0.000000  0.000000  ...  0.000000  0.000000  0.000000  0.000000   \n89537  0.000057  0.000034  ...  0.000000  0.000000  0.000000  0.000000   \n89538  0.000000  0.000000  ...  0.000000  0.000000  0.000000  0.000000   \n\n          20214     20221     20222     20223     20224  Grand Total  \n0      0.000000  0.000000  0.000000  0.000000  0.000000     0.125690  \n1      0.006559  0.010693  0.010745  0.003681  0.007002     0.020440  \n2      0.026237  0.042774  0.042984  0.014724  0.028012     0.081763  \n3      0.004671  0.007615  0.007653  0.002621  0.004987     0.013979  \n4      0.018686  0.030464  0.030613  0.010486  0.019950     0.055920  \n...         ...       ...       ...       ...       ...          ...  \n89534  0.000000  0.000000  0.000000  0.000000  0.000000     0.000000  \n89535  0.000000  0.000201  0.000000  0.000000  0.000000     0.000030  \n89536  0.000000  0.000000  0.000000  0.000000  0.000000     0.000000  \n89537  0.000000  0.000000  0.000000  0.000000  0.000000     0.000000  \n89538  0.000000  0.000000  0.000000  0.000000  0.000000     0.000000  \n\n[89539 rows x 37 columns]",
      "text/html": "<div>\n<style scoped>\n    .dataframe tbody tr th:only-of-type {\n        vertical-align: middle;\n    }\n\n    .dataframe tbody tr th {\n        vertical-align: top;\n    }\n\n    .dataframe thead th {\n        text-align: right;\n    }\n</style>\n<table border=\"1\" class=\"dataframe\">\n  <thead>\n    <tr style=\"text-align: right;\">\n      <th></th>\n      <th>ZXG ID</th>\n      <th>Country</th>\n      <th>Industry</th>\n      <th>UT L30 - Segment</th>\n      <th>Family</th>\n      <th>Product name</th>\n      <th>PA part description</th>\n      <th>Rev type</th>\n      <th>20161</th>\n      <th>20162</th>\n      <th>...</th>\n      <th>20204</th>\n      <th>20211</th>\n      <th>20212</th>\n      <th>20213</th>\n      <th>20214</th>\n      <th>20221</th>\n      <th>20222</th>\n      <th>20223</th>\n      <th>20224</th>\n      <th>Grand Total</th>\n    </tr>\n  </thead>\n  <tbody>\n    <tr>\n      <th>0</th>\n      <td>ZX001H1N</td>\n      <td>United States</td>\n      <td>1.0</td>\n      <td>Sterling B2B Integration</td>\n      <td>STER FILEGWA</td>\n      <td>B2B Integrator</td>\n      <td>B2B INTEGRATOR AO GLOBAL HIGH AVAILABILITY MB ...</td>\n      <td>Transaction</td>\n      <td>0.000000</td>\n      <td>0.000000</td>\n      <td>...</td>\n      <td>0.000000</td>\n      <td>0.000000</td>\n      <td>0.000000</td>\n      <td>0.000000</td>\n      <td>0.000000</td>\n      <td>0.000000</td>\n      <td>0.000000</td>\n      <td>0.000000</td>\n      <td>0.000000</td>\n      <td>0.125690</td>\n    </tr>\n    <tr>\n      <th>1</th>\n      <td>ZX001H1N</td>\n      <td>United States</td>\n      <td>1.0</td>\n      <td>Sterling B2B Integration</td>\n      <td>STER FILEGWA</td>\n      <td>B2B Integrator</td>\n      <td>B2B INTEGRATOR AO GLOBAL HIGH AVAILABILITY MB ...</td>\n      <td>Subs &amp; Supp</td>\n      <td>0.000000</td>\n      <td>0.000000</td>\n      <td>...</td>\n      <td>0.010344</td>\n      <td>0.027422</td>\n      <td>0.016568</td>\n      <td>0.016622</td>\n      <td>0.006559</td>\n      <td>0.010693</td>\n      <td>0.010745</td>\n      <td>0.003681</td>\n      <td>0.007002</td>\n      <td>0.020440</td>\n    </tr>\n    <tr>\n      <th>2</th>\n      <td>ZX001H1N</td>\n      <td>United States</td>\n      <td>1.0</td>\n      <td>Sterling B2B Integration</td>\n      <td>STER FILEGWA</td>\n      <td>B2B Integrator</td>\n      <td>B2B INTEGRATOR AO GLOBAL HIGH AVAILABILITY MB ...</td>\n      <td>Subs &amp; Supp</td>\n      <td>0.000000</td>\n      <td>0.000000</td>\n      <td>...</td>\n      <td>0.041378</td>\n      <td>0.109694</td>\n      <td>0.066278</td>\n      <td>0.066492</td>\n      <td>0.026237</td>\n      <td>0.042774</td>\n      <td>0.042984</td>\n      <td>0.014724</td>\n      <td>0.028012</td>\n      <td>0.081763</td>\n    </tr>\n    <tr>\n      <th>3</th>\n      <td>ZX001H1N</td>\n      <td>United States</td>\n      <td>1.0</td>\n      <td>Sterling B2B Integration</td>\n      <td>STER FILEGWA</td>\n      <td>B2B Integrator</td>\n      <td>STERLING B2B INTEGRATOR ENT ED PVU SUPT</td>\n      <td>Subs &amp; Supp</td>\n      <td>0.000903</td>\n      <td>0.000538</td>\n      <td>...</td>\n      <td>0.007340</td>\n      <td>0.019458</td>\n      <td>0.011757</td>\n      <td>0.011838</td>\n      <td>0.004671</td>\n      <td>0.007615</td>\n      <td>0.007653</td>\n      <td>0.002621</td>\n      <td>0.004987</td>\n      <td>0.013979</td>\n    </tr>\n    <tr>\n      <th>4</th>\n      <td>ZX001H1N</td>\n      <td>United States</td>\n      <td>1.0</td>\n      <td>Sterling B2B Integration</td>\n      <td>STER FILEGWA</td>\n      <td>B2B Integrator</td>\n      <td>STERLING B2B INTEGRATOR ENT ED PVU SUB</td>\n      <td>Subs &amp; Supp</td>\n      <td>0.003611</td>\n      <td>0.002153</td>\n      <td>...</td>\n      <td>0.029361</td>\n      <td>0.077838</td>\n      <td>0.047030</td>\n      <td>0.047356</td>\n      <td>0.018686</td>\n      <td>0.030464</td>\n      <td>0.030613</td>\n      <td>0.010486</td>\n      <td>0.019950</td>\n      <td>0.055920</td>\n    </tr>\n    <tr>\n      <th>...</th>\n      <td>...</td>\n      <td>...</td>\n      <td>...</td>\n      <td>...</td>\n      <td>...</td>\n      <td>...</td>\n      <td>...</td>\n      <td>...</td>\n      <td>...</td>\n      <td>...</td>\n      <td>...</td>\n      <td>...</td>\n      <td>...</td>\n      <td>...</td>\n      <td>...</td>\n      <td>...</td>\n      <td>...</td>\n      <td>...</td>\n      <td>...</td>\n      <td>...</td>\n      <td>...</td>\n    </tr>\n    <tr>\n      <th>89534</th>\n      <td>MW113</td>\n      <td>Switzerland</td>\n      <td>99</td>\n      <td>Sterling B2B Integration</td>\n      <td>STER FILEGWA</td>\n      <td>Gentran</td>\n      <td>Gentran</td>\n      <td>B2B SW</td>\n      <td>0.000000</td>\n      <td>0.000000</td>\n      <td>...</td>\n      <td>0.000000</td>\n      <td>0.000000</td>\n      <td>0.000000</td>\n      <td>0.000000</td>\n      <td>0.000000</td>\n      <td>0.000000</td>\n      <td>0.000000</td>\n      <td>0.000000</td>\n      <td>0.000000</td>\n      <td>0.000000</td>\n    </tr>\n    <tr>\n      <th>89535</th>\n      <td>MW113</td>\n      <td>Switzerland</td>\n      <td>99</td>\n      <td>Sterling Partner Engagement Manager</td>\n      <td>PEM</td>\n      <td>Sterling Prtnr Engage Mgr Software</td>\n      <td>Sterling Prtnr Engage Mgr Software</td>\n      <td>B2B SW</td>\n      <td>0.000000</td>\n      <td>0.000000</td>\n      <td>...</td>\n      <td>0.000000</td>\n      <td>0.000000</td>\n      <td>0.000000</td>\n      <td>0.000000</td>\n      <td>0.000000</td>\n      <td>0.000201</td>\n      <td>0.000000</td>\n      <td>0.000000</td>\n      <td>0.000000</td>\n      <td>0.000030</td>\n    </tr>\n    <tr>\n      <th>89536</th>\n      <td>MW113</td>\n      <td>Switzerland</td>\n      <td>99</td>\n      <td>Sterling Managed File Transfer</td>\n      <td>STER MFT</td>\n      <td>MFT Secure Proxy</td>\n      <td>MFT Secure Proxy</td>\n      <td>B2B SW</td>\n      <td>0.000000</td>\n      <td>0.000000</td>\n      <td>...</td>\n      <td>0.000000</td>\n      <td>0.000000</td>\n      <td>0.000000</td>\n      <td>0.000000</td>\n      <td>0.000000</td>\n      <td>0.000000</td>\n      <td>0.000000</td>\n      <td>0.000000</td>\n      <td>0.000000</td>\n      <td>0.000000</td>\n    </tr>\n    <tr>\n      <th>89537</th>\n      <td>MW113</td>\n      <td>Switzerland</td>\n      <td>99</td>\n      <td>Sterling Managed File Transfer</td>\n      <td>STER MFT</td>\n      <td>MFT Connect:Direct</td>\n      <td>MFT Connect:Direct</td>\n      <td>B2B SW</td>\n      <td>0.000057</td>\n      <td>0.000034</td>\n      <td>...</td>\n      <td>0.000000</td>\n      <td>0.000000</td>\n      <td>0.000000</td>\n      <td>0.000000</td>\n      <td>0.000000</td>\n      <td>0.000000</td>\n      <td>0.000000</td>\n      <td>0.000000</td>\n      <td>0.000000</td>\n      <td>0.000000</td>\n    </tr>\n    <tr>\n      <th>89538</th>\n      <td>MW113</td>\n      <td>Switzerland</td>\n      <td>99</td>\n      <td>Sterling Managed File Transfer</td>\n      <td>STER MFT</td>\n      <td>MFT Control Center</td>\n      <td>MFT Control Center</td>\n      <td>B2B SW</td>\n      <td>0.000000</td>\n      <td>0.000000</td>\n      <td>...</td>\n      <td>0.000000</td>\n      <td>0.000000</td>\n      <td>0.000000</td>\n      <td>0.000000</td>\n      <td>0.000000</td>\n      <td>0.000000</td>\n      <td>0.000000</td>\n      <td>0.000000</td>\n      <td>0.000000</td>\n      <td>0.000000</td>\n    </tr>\n  </tbody>\n</table>\n<p>89539 rows × 37 columns</p>\n</div>"
     },
     "execution_count": 18,
     "metadata": {},
     "output_type": "execute_result"
    }
   ],
   "source": [
    "sales_data_modified"
   ],
   "metadata": {
    "collapsed": false,
    "ExecuteTime": {
     "end_time": "2023-08-21T05:33:30.385018Z",
     "start_time": "2023-08-21T05:33:30.326093Z"
    }
   }
  },
  {
   "cell_type": "code",
   "execution_count": 19,
   "outputs": [],
   "source": [
    "sales_data_modified = sales_data_modified.rename(columns={\"ZXG ID\": \"ZXGID\"})"
   ],
   "metadata": {
    "collapsed": false,
    "ExecuteTime": {
     "end_time": "2023-08-21T05:33:30.385569Z",
     "start_time": "2023-08-21T05:33:30.374643Z"
    }
   }
  },
  {
   "cell_type": "code",
   "execution_count": 20,
   "outputs": [],
   "source": [
    "# filter out Data Exchange Service Offering (Expert Labs Only)\n",
    "sales_data_modified = sales_data_modified[sales_data_modified[\"UT L30 - Segment\"] != \"Data Exchange Service Offering (Expert Labs Only)\"]"
   ],
   "metadata": {
    "collapsed": false,
    "ExecuteTime": {
     "end_time": "2023-08-21T05:33:30.428233Z",
     "start_time": "2023-08-21T05:33:30.388275Z"
    }
   }
  },
  {
   "cell_type": "code",
   "execution_count": 21,
   "outputs": [],
   "source": [
    "# remove rows where PA part description is blank\n",
    "sales_data_modified = sales_data_modified.dropna(subset = ['PA part description'])"
   ],
   "metadata": {
    "collapsed": false,
    "ExecuteTime": {
     "end_time": "2023-08-21T05:33:30.432375Z",
     "start_time": "2023-08-21T05:33:30.403992Z"
    }
   }
  },
  {
   "cell_type": "code",
   "execution_count": 22,
   "outputs": [
    {
     "name": "stdout",
     "output_type": "stream",
     "text": [
      "          ZXGID        Country Industry                     UT L30 - Segment  \\\n",
      "0      ZX001H1N  United States      1.0             Sterling B2B Integration   \n",
      "1      ZX001H1N  United States      1.0             Sterling B2B Integration   \n",
      "2      ZX001H1N  United States      1.0             Sterling B2B Integration   \n",
      "3      ZX001H1N  United States      1.0             Sterling B2B Integration   \n",
      "4      ZX001H1N  United States      1.0             Sterling B2B Integration   \n",
      "...         ...            ...      ...                                  ...   \n",
      "89534     MW113    Switzerland       99             Sterling B2B Integration   \n",
      "89535     MW113    Switzerland       99  Sterling Partner Engagement Manager   \n",
      "89536     MW113    Switzerland       99       Sterling Managed File Transfer   \n",
      "89537     MW113    Switzerland       99       Sterling Managed File Transfer   \n",
      "89538     MW113    Switzerland       99       Sterling Managed File Transfer   \n",
      "\n",
      "             Family                        Product name  \\\n",
      "0      STER FILEGWA                      B2B Integrator   \n",
      "1      STER FILEGWA                      B2B Integrator   \n",
      "2      STER FILEGWA                      B2B Integrator   \n",
      "3      STER FILEGWA                      B2B Integrator   \n",
      "4      STER FILEGWA                      B2B Integrator   \n",
      "...             ...                                 ...   \n",
      "89534  STER FILEGWA                             Gentran   \n",
      "89535           PEM  Sterling Prtnr Engage Mgr Software   \n",
      "89536      STER MFT                    MFT Secure Proxy   \n",
      "89537      STER MFT                  MFT Connect:Direct   \n",
      "89538      STER MFT                  MFT Control Center   \n",
      "\n",
      "                                     PA part description     Rev type  \\\n",
      "0      B2B INTEGRATOR AO GLOBAL HIGH AVAILABILITY MB ...  Transaction   \n",
      "1      B2B INTEGRATOR AO GLOBAL HIGH AVAILABILITY MB ...  Subs & Supp   \n",
      "2      B2B INTEGRATOR AO GLOBAL HIGH AVAILABILITY MB ...  Subs & Supp   \n",
      "3                STERLING B2B INTEGRATOR ENT ED PVU SUPT  Subs & Supp   \n",
      "4                 STERLING B2B INTEGRATOR ENT ED PVU SUB  Subs & Supp   \n",
      "...                                                  ...          ...   \n",
      "89534                                            Gentran       B2B SW   \n",
      "89535                 Sterling Prtnr Engage Mgr Software       B2B SW   \n",
      "89536                                   MFT Secure Proxy       B2B SW   \n",
      "89537                                 MFT Connect:Direct       B2B SW   \n",
      "89538                                 MFT Control Center       B2B SW   \n",
      "\n",
      "          20161     20162  ...     20211     20212     20213     20214  \\\n",
      "0      0.000000  0.000000  ...  0.000000  0.000000  0.000000  0.000000   \n",
      "1      0.000000  0.000000  ...  0.027422  0.016568  0.016622  0.006559   \n",
      "2      0.000000  0.000000  ...  0.109694  0.066278  0.066492  0.026237   \n",
      "3      0.000903  0.000538  ...  0.019458  0.011757  0.011838  0.004671   \n",
      "4      0.003611  0.002153  ...  0.077838  0.047030  0.047356  0.018686   \n",
      "...         ...       ...  ...       ...       ...       ...       ...   \n",
      "89534  0.000000  0.000000  ...  0.000000  0.000000  0.000000  0.000000   \n",
      "89535  0.000000  0.000000  ...  0.000000  0.000000  0.000000  0.000000   \n",
      "89536  0.000000  0.000000  ...  0.000000  0.000000  0.000000  0.000000   \n",
      "89537  0.000057  0.000034  ...  0.000000  0.000000  0.000000  0.000000   \n",
      "89538  0.000000  0.000000  ...  0.000000  0.000000  0.000000  0.000000   \n",
      "\n",
      "          20221     20222     20223     20224  Grand Total  \\\n",
      "0      0.000000  0.000000  0.000000  0.000000     0.125690   \n",
      "1      0.010693  0.010745  0.003681  0.007002     0.020440   \n",
      "2      0.042774  0.042984  0.014724  0.028012     0.081763   \n",
      "3      0.007615  0.007653  0.002621  0.004987     0.013979   \n",
      "4      0.030464  0.030613  0.010486  0.019950     0.055920   \n",
      "...         ...       ...       ...       ...          ...   \n",
      "89534  0.000000  0.000000  0.000000  0.000000     0.000000   \n",
      "89535  0.000201  0.000000  0.000000  0.000000     0.000030   \n",
      "89536  0.000000  0.000000  0.000000  0.000000     0.000000   \n",
      "89537  0.000000  0.000000  0.000000  0.000000     0.000000   \n",
      "89538  0.000000  0.000000  0.000000  0.000000     0.000000   \n",
      "\n",
      "                                     CombinedProductName  \n",
      "0      Sterling B2B Integration-STER FILEGWA-B2B Inte...  \n",
      "1      Sterling B2B Integration-STER FILEGWA-B2B Inte...  \n",
      "2      Sterling B2B Integration-STER FILEGWA-B2B Inte...  \n",
      "3      Sterling B2B Integration-STER FILEGWA-B2B Inte...  \n",
      "4      Sterling B2B Integration-STER FILEGWA-B2B Inte...  \n",
      "...                                                  ...  \n",
      "89534      Sterling B2B Integration-STER FILEGWA-Gentran  \n",
      "89535  Sterling Partner Engagement Manager-PEM-Sterli...  \n",
      "89536  Sterling Managed File Transfer-STER MFT-MFT Se...  \n",
      "89537  Sterling Managed File Transfer-STER MFT-MFT Co...  \n",
      "89538  Sterling Managed File Transfer-STER MFT-MFT Co...  \n",
      "\n",
      "[87081 rows x 38 columns]\n"
     ]
    }
   ],
   "source": [
    "# Using apply() method to combine multiple columns of text\n",
    "sales_data_modified[\"CombinedProductName\"] = sales_data_modified[['UT L30 - Segment', 'Family', 'Product name']].apply(lambda x:\"-\".join(x.astype(str)), axis=1)\n",
    "print(sales_data_modified)"
   ],
   "metadata": {
    "collapsed": false,
    "ExecuteTime": {
     "end_time": "2023-08-21T05:33:32.162795Z",
     "start_time": "2023-08-21T05:33:30.416693Z"
    }
   }
  },
  {
   "cell_type": "code",
   "execution_count": 23,
   "outputs": [
    {
     "name": "stdout",
     "output_type": "stream",
     "text": [
      "   ZXGID        Country Industry          UT L30 - Segment        Family  \\\n",
      "0   8656  United States      1.0  Sterling B2B Integration  STER FILEGWA   \n",
      "1   8656  United States      1.0  Sterling B2B Integration  STER FILEGWA   \n",
      "2   8656  United States      1.0  Sterling B2B Integration  STER FILEGWA   \n",
      "3   8656  United States      1.0  Sterling B2B Integration  STER FILEGWA   \n",
      "4   8656  United States      1.0  Sterling B2B Integration  STER FILEGWA   \n",
      "\n",
      "     Product name                                PA part description  \\\n",
      "0  B2B Integrator  B2B INTEGRATOR AO GLOBAL HIGH AVAILABILITY MB ...   \n",
      "1  B2B Integrator  B2B INTEGRATOR AO GLOBAL HIGH AVAILABILITY MB ...   \n",
      "2  B2B Integrator  B2B INTEGRATOR AO GLOBAL HIGH AVAILABILITY MB ...   \n",
      "3  B2B Integrator            STERLING B2B INTEGRATOR ENT ED PVU SUPT   \n",
      "4  B2B Integrator             STERLING B2B INTEGRATOR ENT ED PVU SUB   \n",
      "\n",
      "      Rev type     20161     20162  ...     20211     20212     20213  \\\n",
      "0  Transaction  0.000000  0.000000  ...  0.000000  0.000000  0.000000   \n",
      "1  Subs & Supp  0.000000  0.000000  ...  0.027422  0.016568  0.016622   \n",
      "2  Subs & Supp  0.000000  0.000000  ...  0.109694  0.066278  0.066492   \n",
      "3  Subs & Supp  0.000903  0.000538  ...  0.019458  0.011757  0.011838   \n",
      "4  Subs & Supp  0.003611  0.002153  ...  0.077838  0.047030  0.047356   \n",
      "\n",
      "      20214     20221     20222     20223     20224  Grand Total  \\\n",
      "0  0.000000  0.000000  0.000000  0.000000  0.000000     0.125690   \n",
      "1  0.006559  0.010693  0.010745  0.003681  0.007002     0.020440   \n",
      "2  0.026237  0.042774  0.042984  0.014724  0.028012     0.081763   \n",
      "3  0.004671  0.007615  0.007653  0.002621  0.004987     0.013979   \n",
      "4  0.018686  0.030464  0.030613  0.010486  0.019950     0.055920   \n",
      "\n",
      "   CombinedProductName  \n",
      "0                    4  \n",
      "1                    4  \n",
      "2                    4  \n",
      "3                    4  \n",
      "4                    4  \n",
      "\n",
      "[5 rows x 38 columns]\n"
     ]
    }
   ],
   "source": [
    "# Encode ZXGID, CombinedProductName\n",
    "from sklearn.preprocessing import LabelEncoder\n",
    "\n",
    "# Make a copy of the data\n",
    "sales_data_encoded_product = sales_data_modified.copy()\n",
    "encode_list = [\"ZXGID\", \"CombinedProductName\"]\n",
    "\n",
    "# Apply label encoding to each column\n",
    "label_encoder = LabelEncoder()\n",
    "for col in encode_list:\n",
    "    sales_data_encoded_product[col] = label_encoder.fit_transform(sales_data_encoded_product[col].astype(str))\n",
    "sales_data_encoded_product[\"ZXGID\"]=pd.to_numeric(sales_data_encoded_product[\"ZXGID\"])\n",
    "\n",
    "print(sales_data_encoded_product.head())\n",
    "#print(sales_data_encoded_product)\n"
   ],
   "metadata": {
    "collapsed": false,
    "ExecuteTime": {
     "end_time": "2023-08-21T05:33:32.225754Z",
     "start_time": "2023-08-21T05:33:32.163576Z"
    }
   }
  },
  {
   "cell_type": "code",
   "execution_count": 24,
   "outputs": [
    {
     "name": "stdout",
     "output_type": "stream",
     "text": [
      "       ZXGID        Country Industry                     UT L30 - Segment  \\\n",
      "0       8656  United States      1.0             Sterling B2B Integration   \n",
      "1       8656  United States      1.0             Sterling B2B Integration   \n",
      "2       8656  United States      1.0             Sterling B2B Integration   \n",
      "3       8656  United States      1.0             Sterling B2B Integration   \n",
      "4       8656  United States      1.0             Sterling B2B Integration   \n",
      "...      ...            ...      ...                                  ...   \n",
      "89534     16    Switzerland       99             Sterling B2B Integration   \n",
      "89535     16    Switzerland       99  Sterling Partner Engagement Manager   \n",
      "89536     16    Switzerland       99       Sterling Managed File Transfer   \n",
      "89537     16    Switzerland       99       Sterling Managed File Transfer   \n",
      "89538     16    Switzerland       99       Sterling Managed File Transfer   \n",
      "\n",
      "             Family                        Product name  \\\n",
      "0      STER FILEGWA                      B2B Integrator   \n",
      "1      STER FILEGWA                      B2B Integrator   \n",
      "2      STER FILEGWA                      B2B Integrator   \n",
      "3      STER FILEGWA                      B2B Integrator   \n",
      "4      STER FILEGWA                      B2B Integrator   \n",
      "...             ...                                 ...   \n",
      "89534  STER FILEGWA                             Gentran   \n",
      "89535           PEM  Sterling Prtnr Engage Mgr Software   \n",
      "89536      STER MFT                    MFT Secure Proxy   \n",
      "89537      STER MFT                  MFT Connect:Direct   \n",
      "89538      STER MFT                  MFT Control Center   \n",
      "\n",
      "                                     PA part description     Rev type  \\\n",
      "0      B2B INTEGRATOR AO GLOBAL HIGH AVAILABILITY MB ...  Transaction   \n",
      "1      B2B INTEGRATOR AO GLOBAL HIGH AVAILABILITY MB ...  Subs & Supp   \n",
      "2      B2B INTEGRATOR AO GLOBAL HIGH AVAILABILITY MB ...  Subs & Supp   \n",
      "3                STERLING B2B INTEGRATOR ENT ED PVU SUPT  Subs & Supp   \n",
      "4                 STERLING B2B INTEGRATOR ENT ED PVU SUB  Subs & Supp   \n",
      "...                                                  ...          ...   \n",
      "89534                                            Gentran       B2B SW   \n",
      "89535                 Sterling Prtnr Engage Mgr Software       B2B SW   \n",
      "89536                                   MFT Secure Proxy       B2B SW   \n",
      "89537                                 MFT Connect:Direct       B2B SW   \n",
      "89538                                 MFT Control Center       B2B SW   \n",
      "\n",
      "          20161     20162  ...     20213     20214     20221     20222  \\\n",
      "0      0.000000  0.000000  ...  0.000000  0.000000  0.000000  0.000000   \n",
      "1      0.000000  0.000000  ...  0.016622  0.006559  0.010693  0.010745   \n",
      "2      0.000000  0.000000  ...  0.066492  0.026237  0.042774  0.042984   \n",
      "3      0.000903  0.000538  ...  0.011838  0.004671  0.007615  0.007653   \n",
      "4      0.003611  0.002153  ...  0.047356  0.018686  0.030464  0.030613   \n",
      "...         ...       ...  ...       ...       ...       ...       ...   \n",
      "89534  0.000000  0.000000  ...  0.000000  0.000000  0.000000  0.000000   \n",
      "89535  0.000000  0.000000  ...  0.000000  0.000000  0.000201  0.000000   \n",
      "89536  0.000000  0.000000  ...  0.000000  0.000000  0.000000  0.000000   \n",
      "89537  0.000057  0.000034  ...  0.000000  0.000000  0.000000  0.000000   \n",
      "89538  0.000000  0.000000  ...  0.000000  0.000000  0.000000  0.000000   \n",
      "\n",
      "          20223     20224  Grand Total  CombinedProductName  Sum_train  \\\n",
      "0      0.000000  0.000000     0.125690                    4   0.968506   \n",
      "1      0.003681  0.007002     0.020440                    4   0.138631   \n",
      "2      0.014724  0.028012     0.081763                    4   0.554551   \n",
      "3      0.002621  0.004987     0.013979                    4   0.092871   \n",
      "4      0.010486  0.019950     0.055920                    4   0.371507   \n",
      "...         ...       ...          ...                  ...        ...   \n",
      "89534  0.000000  0.000000     0.000000                   16   0.000000   \n",
      "89535  0.000000  0.000000     0.000030                   86   0.000000   \n",
      "89536  0.000000  0.000000     0.000000                   66   0.000000   \n",
      "89537  0.000000  0.000000     0.000000                   58   0.000782   \n",
      "89538  0.000000  0.000000     0.000000                   65   0.000000   \n",
      "\n",
      "       Sum_test  \n",
      "0      0.000000  \n",
      "1      0.032121  \n",
      "2      0.128494  \n",
      "3      0.022876  \n",
      "4      0.091513  \n",
      "...         ...  \n",
      "89534  0.000000  \n",
      "89535  0.000201  \n",
      "89536  0.000000  \n",
      "89537  0.000000  \n",
      "89538  0.000000  \n",
      "\n",
      "[87081 rows x 40 columns]\n"
     ]
    }
   ],
   "source": [
    "# Calculate Grand Revenue from 20161 - 2021[4train] and 20221 - 20224[test]\n",
    "# Create List of columns\n",
    "col_list = ['20161','20162','20163','20164','20171','20172','20173','20174','20181','20182','20183','20184','20191','20192','20193','20194','20201','20202','20203','20204','20211','20212', '20213','20214']\n",
    "col_list1 = ['20221','20222','20223','20224']\n",
    "# Sum specific columns\n",
    "sales_data_encoded_product['Sum_train'] = sales_data_encoded_product[col_list].sum(axis=1)\n",
    "sales_data_encoded_product['Sum_test'] = sales_data_encoded_product[col_list1].sum(axis=1)\n",
    "print(sales_data_encoded_product)"
   ],
   "metadata": {
    "collapsed": false,
    "ExecuteTime": {
     "end_time": "2023-08-21T05:33:32.325207Z",
     "start_time": "2023-08-21T05:33:32.219956Z"
    }
   }
  },
  {
   "cell_type": "code",
   "execution_count": 25,
   "outputs": [],
   "source": [
    "# output_file_path = \"sales_data_encoded_product.csv\"\n",
    "# sales_data_encoded_product.to_csv(output_file_path, index=False)\n",
    "#\n",
    "# sales_data_encoded_product"
   ],
   "metadata": {
    "collapsed": false,
    "ExecuteTime": {
     "end_time": "2023-08-21T05:33:32.325286Z",
     "start_time": "2023-08-21T05:33:32.254762Z"
    }
   }
  },
  {
   "cell_type": "code",
   "execution_count": 26,
   "outputs": [
    {
     "data": {
      "text/plain": "          Grand Total\nIndustry             \n1.0         71.898916\n3.0         24.007152\n4.0         22.402198\n5.0         21.525118\n7.0         19.820488\n11.0        14.510283\n8.0         12.442671\n6.0         12.149500\n15.0        10.702867\n12.0         8.989568",
      "text/html": "<div>\n<style scoped>\n    .dataframe tbody tr th:only-of-type {\n        vertical-align: middle;\n    }\n\n    .dataframe tbody tr th {\n        vertical-align: top;\n    }\n\n    .dataframe thead th {\n        text-align: right;\n    }\n</style>\n<table border=\"1\" class=\"dataframe\">\n  <thead>\n    <tr style=\"text-align: right;\">\n      <th></th>\n      <th>Grand Total</th>\n    </tr>\n    <tr>\n      <th>Industry</th>\n      <th></th>\n    </tr>\n  </thead>\n  <tbody>\n    <tr>\n      <th>1.0</th>\n      <td>71.898916</td>\n    </tr>\n    <tr>\n      <th>3.0</th>\n      <td>24.007152</td>\n    </tr>\n    <tr>\n      <th>4.0</th>\n      <td>22.402198</td>\n    </tr>\n    <tr>\n      <th>5.0</th>\n      <td>21.525118</td>\n    </tr>\n    <tr>\n      <th>7.0</th>\n      <td>19.820488</td>\n    </tr>\n    <tr>\n      <th>11.0</th>\n      <td>14.510283</td>\n    </tr>\n    <tr>\n      <th>8.0</th>\n      <td>12.442671</td>\n    </tr>\n    <tr>\n      <th>6.0</th>\n      <td>12.149500</td>\n    </tr>\n    <tr>\n      <th>15.0</th>\n      <td>10.702867</td>\n    </tr>\n    <tr>\n      <th>12.0</th>\n      <td>8.989568</td>\n    </tr>\n  </tbody>\n</table>\n</div>"
     },
     "execution_count": 26,
     "metadata": {},
     "output_type": "execute_result"
    }
   ],
   "source": [
    "# Find out which industry has highest grand total revenue.\n",
    "sales_data_encoded_product_industry = sales_data_encoded_product.groupby('Industry', sort=False).agg({'Grand Total':'sum'}).sort_values('Grand Total', ascending = False)\n",
    "sales_data_encoded_product_industry.head(10)"
   ],
   "metadata": {
    "collapsed": false,
    "ExecuteTime": {
     "end_time": "2023-08-21T05:33:32.325365Z",
     "start_time": "2023-08-21T05:33:32.259997Z"
    }
   }
  },
  {
   "cell_type": "code",
   "execution_count": 27,
   "outputs": [
    {
     "data": {
      "text/plain": "       ZXGID        Country Industry                  UT L30 - Segment  \\\n0       8656  United States      1.0          Sterling B2B Integration   \n1       8656  United States      1.0          Sterling B2B Integration   \n2       8656  United States      1.0          Sterling B2B Integration   \n3       8656  United States      1.0          Sterling B2B Integration   \n4       8656  United States      1.0          Sterling B2B Integration   \n...      ...            ...      ...                               ...   \n89517   7633    New Zealand      1.0  Sterling Transformation Extender   \n89518   7633    New Zealand      1.0  Sterling Transformation Extender   \n89519   7633    New Zealand      1.0  Sterling Transformation Extender   \n89520   7633    New Zealand      1.0          Sterling B2B Integration   \n89521   7633    New Zealand      1.0          Sterling B2B Integration   \n\n             Family                        Product name  \\\n0      STER FILEGWA                      B2B Integrator   \n1      STER FILEGWA                      B2B Integrator   \n2      STER FILEGWA                      B2B Integrator   \n3      STER FILEGWA                      B2B Integrator   \n4      STER FILEGWA                      B2B Integrator   \n...             ...                                 ...   \n89517   STER TRANSX    WS Transfrm Ext Pk Design Studio   \n89518   STER TRANSX  WebSphere Tran Ext Integration Svr   \n89519   STER TRANSX           WS Transform Ext Pk SWIFT   \n89520  STER FILEGWA                    MFT File Gateway   \n89521  STER FILEGWA            B2B Integrator Financial   \n\n                                     PA part description     Rev type  \\\n0      B2B INTEGRATOR AO GLOBAL HIGH AVAILABILITY MB ...  Transaction   \n1      B2B INTEGRATOR AO GLOBAL HIGH AVAILABILITY MB ...  Subs & Supp   \n2      B2B INTEGRATOR AO GLOBAL HIGH AVAILABILITY MB ...  Subs & Supp   \n3                STERLING B2B INTEGRATOR ENT ED PVU SUPT  Subs & Supp   \n4                 STERLING B2B INTEGRATOR ENT ED PVU SUB  Subs & Supp   \n...                                                  ...          ...   \n89517                   WS Transfrm Ext Pk Design Studio       B2B SW   \n89518                 WebSphere Tran Ext Integration Svr       B2B SW   \n89519                          WS Transform Ext Pk SWIFT       B2B SW   \n89520                                   MFT File Gateway       B2B SW   \n89521                           B2B Integrator Financial       B2B SW   \n\n          20161     20162  ...     20213     20214     20221     20222  \\\n0      0.000000  0.000000  ...  0.000000  0.000000  0.000000  0.000000   \n1      0.000000  0.000000  ...  0.016622  0.006559  0.010693  0.010745   \n2      0.000000  0.000000  ...  0.066492  0.026237  0.042774  0.042984   \n3      0.000903  0.000538  ...  0.011838  0.004671  0.007615  0.007653   \n4      0.003611  0.002153  ...  0.047356  0.018686  0.030464  0.030613   \n...         ...       ...  ...       ...       ...       ...       ...   \n89517  0.000180  0.000108  ...  0.000082  0.000032  0.000053  0.000053   \n89518  0.001874  0.001117  ...  0.000000  0.000000  0.000000  0.000000   \n89519  0.003227  0.001923  ...  0.000000  0.000000  0.000000  0.000000   \n89520  0.001984  0.001183  ...  0.000000  0.000000  0.000000  0.000000   \n89521  0.003062  0.001825  ...  0.000000  0.000000  0.000000  0.000000   \n\n          20223     20224  Grand Total  CombinedProductName  Sum_train  \\\n0      0.000000  0.000000     0.125690                    4   0.968506   \n1      0.003681  0.007002     0.020440                    4   0.138631   \n2      0.014724  0.028012     0.081763                    4   0.554551   \n3      0.002621  0.004987     0.013979                    4   0.092871   \n4      0.010486  0.019950     0.055920                    4   0.371507   \n...         ...       ...          ...                  ...        ...   \n89517  0.000000  0.000000     0.000000                  160   0.002570   \n89518  0.000000  0.000000     0.000000                  168   0.006756   \n89519  0.000000  0.000000     0.000000                  149   0.008861   \n89520  0.000000  0.000000     0.000000                   27   0.012325   \n89521  0.000000  0.000000     0.000000                    6   0.019021   \n\n       Sum_test  \n0      0.000000  \n1      0.032121  \n2      0.128494  \n3      0.022876  \n4      0.091513  \n...         ...  \n89517  0.000105  \n89518  0.000000  \n89519  0.000000  \n89520  0.000000  \n89521  0.000000  \n\n[16555 rows x 40 columns]",
      "text/html": "<div>\n<style scoped>\n    .dataframe tbody tr th:only-of-type {\n        vertical-align: middle;\n    }\n\n    .dataframe tbody tr th {\n        vertical-align: top;\n    }\n\n    .dataframe thead th {\n        text-align: right;\n    }\n</style>\n<table border=\"1\" class=\"dataframe\">\n  <thead>\n    <tr style=\"text-align: right;\">\n      <th></th>\n      <th>ZXGID</th>\n      <th>Country</th>\n      <th>Industry</th>\n      <th>UT L30 - Segment</th>\n      <th>Family</th>\n      <th>Product name</th>\n      <th>PA part description</th>\n      <th>Rev type</th>\n      <th>20161</th>\n      <th>20162</th>\n      <th>...</th>\n      <th>20213</th>\n      <th>20214</th>\n      <th>20221</th>\n      <th>20222</th>\n      <th>20223</th>\n      <th>20224</th>\n      <th>Grand Total</th>\n      <th>CombinedProductName</th>\n      <th>Sum_train</th>\n      <th>Sum_test</th>\n    </tr>\n  </thead>\n  <tbody>\n    <tr>\n      <th>0</th>\n      <td>8656</td>\n      <td>United States</td>\n      <td>1.0</td>\n      <td>Sterling B2B Integration</td>\n      <td>STER FILEGWA</td>\n      <td>B2B Integrator</td>\n      <td>B2B INTEGRATOR AO GLOBAL HIGH AVAILABILITY MB ...</td>\n      <td>Transaction</td>\n      <td>0.000000</td>\n      <td>0.000000</td>\n      <td>...</td>\n      <td>0.000000</td>\n      <td>0.000000</td>\n      <td>0.000000</td>\n      <td>0.000000</td>\n      <td>0.000000</td>\n      <td>0.000000</td>\n      <td>0.125690</td>\n      <td>4</td>\n      <td>0.968506</td>\n      <td>0.000000</td>\n    </tr>\n    <tr>\n      <th>1</th>\n      <td>8656</td>\n      <td>United States</td>\n      <td>1.0</td>\n      <td>Sterling B2B Integration</td>\n      <td>STER FILEGWA</td>\n      <td>B2B Integrator</td>\n      <td>B2B INTEGRATOR AO GLOBAL HIGH AVAILABILITY MB ...</td>\n      <td>Subs &amp; Supp</td>\n      <td>0.000000</td>\n      <td>0.000000</td>\n      <td>...</td>\n      <td>0.016622</td>\n      <td>0.006559</td>\n      <td>0.010693</td>\n      <td>0.010745</td>\n      <td>0.003681</td>\n      <td>0.007002</td>\n      <td>0.020440</td>\n      <td>4</td>\n      <td>0.138631</td>\n      <td>0.032121</td>\n    </tr>\n    <tr>\n      <th>2</th>\n      <td>8656</td>\n      <td>United States</td>\n      <td>1.0</td>\n      <td>Sterling B2B Integration</td>\n      <td>STER FILEGWA</td>\n      <td>B2B Integrator</td>\n      <td>B2B INTEGRATOR AO GLOBAL HIGH AVAILABILITY MB ...</td>\n      <td>Subs &amp; Supp</td>\n      <td>0.000000</td>\n      <td>0.000000</td>\n      <td>...</td>\n      <td>0.066492</td>\n      <td>0.026237</td>\n      <td>0.042774</td>\n      <td>0.042984</td>\n      <td>0.014724</td>\n      <td>0.028012</td>\n      <td>0.081763</td>\n      <td>4</td>\n      <td>0.554551</td>\n      <td>0.128494</td>\n    </tr>\n    <tr>\n      <th>3</th>\n      <td>8656</td>\n      <td>United States</td>\n      <td>1.0</td>\n      <td>Sterling B2B Integration</td>\n      <td>STER FILEGWA</td>\n      <td>B2B Integrator</td>\n      <td>STERLING B2B INTEGRATOR ENT ED PVU SUPT</td>\n      <td>Subs &amp; Supp</td>\n      <td>0.000903</td>\n      <td>0.000538</td>\n      <td>...</td>\n      <td>0.011838</td>\n      <td>0.004671</td>\n      <td>0.007615</td>\n      <td>0.007653</td>\n      <td>0.002621</td>\n      <td>0.004987</td>\n      <td>0.013979</td>\n      <td>4</td>\n      <td>0.092871</td>\n      <td>0.022876</td>\n    </tr>\n    <tr>\n      <th>4</th>\n      <td>8656</td>\n      <td>United States</td>\n      <td>1.0</td>\n      <td>Sterling B2B Integration</td>\n      <td>STER FILEGWA</td>\n      <td>B2B Integrator</td>\n      <td>STERLING B2B INTEGRATOR ENT ED PVU SUB</td>\n      <td>Subs &amp; Supp</td>\n      <td>0.003611</td>\n      <td>0.002153</td>\n      <td>...</td>\n      <td>0.047356</td>\n      <td>0.018686</td>\n      <td>0.030464</td>\n      <td>0.030613</td>\n      <td>0.010486</td>\n      <td>0.019950</td>\n      <td>0.055920</td>\n      <td>4</td>\n      <td>0.371507</td>\n      <td>0.091513</td>\n    </tr>\n    <tr>\n      <th>...</th>\n      <td>...</td>\n      <td>...</td>\n      <td>...</td>\n      <td>...</td>\n      <td>...</td>\n      <td>...</td>\n      <td>...</td>\n      <td>...</td>\n      <td>...</td>\n      <td>...</td>\n      <td>...</td>\n      <td>...</td>\n      <td>...</td>\n      <td>...</td>\n      <td>...</td>\n      <td>...</td>\n      <td>...</td>\n      <td>...</td>\n      <td>...</td>\n      <td>...</td>\n      <td>...</td>\n    </tr>\n    <tr>\n      <th>89517</th>\n      <td>7633</td>\n      <td>New Zealand</td>\n      <td>1.0</td>\n      <td>Sterling Transformation Extender</td>\n      <td>STER TRANSX</td>\n      <td>WS Transfrm Ext Pk Design Studio</td>\n      <td>WS Transfrm Ext Pk Design Studio</td>\n      <td>B2B SW</td>\n      <td>0.000180</td>\n      <td>0.000108</td>\n      <td>...</td>\n      <td>0.000082</td>\n      <td>0.000032</td>\n      <td>0.000053</td>\n      <td>0.000053</td>\n      <td>0.000000</td>\n      <td>0.000000</td>\n      <td>0.000000</td>\n      <td>160</td>\n      <td>0.002570</td>\n      <td>0.000105</td>\n    </tr>\n    <tr>\n      <th>89518</th>\n      <td>7633</td>\n      <td>New Zealand</td>\n      <td>1.0</td>\n      <td>Sterling Transformation Extender</td>\n      <td>STER TRANSX</td>\n      <td>WebSphere Tran Ext Integration Svr</td>\n      <td>WebSphere Tran Ext Integration Svr</td>\n      <td>B2B SW</td>\n      <td>0.001874</td>\n      <td>0.001117</td>\n      <td>...</td>\n      <td>0.000000</td>\n      <td>0.000000</td>\n      <td>0.000000</td>\n      <td>0.000000</td>\n      <td>0.000000</td>\n      <td>0.000000</td>\n      <td>0.000000</td>\n      <td>168</td>\n      <td>0.006756</td>\n      <td>0.000000</td>\n    </tr>\n    <tr>\n      <th>89519</th>\n      <td>7633</td>\n      <td>New Zealand</td>\n      <td>1.0</td>\n      <td>Sterling Transformation Extender</td>\n      <td>STER TRANSX</td>\n      <td>WS Transform Ext Pk SWIFT</td>\n      <td>WS Transform Ext Pk SWIFT</td>\n      <td>B2B SW</td>\n      <td>0.003227</td>\n      <td>0.001923</td>\n      <td>...</td>\n      <td>0.000000</td>\n      <td>0.000000</td>\n      <td>0.000000</td>\n      <td>0.000000</td>\n      <td>0.000000</td>\n      <td>0.000000</td>\n      <td>0.000000</td>\n      <td>149</td>\n      <td>0.008861</td>\n      <td>0.000000</td>\n    </tr>\n    <tr>\n      <th>89520</th>\n      <td>7633</td>\n      <td>New Zealand</td>\n      <td>1.0</td>\n      <td>Sterling B2B Integration</td>\n      <td>STER FILEGWA</td>\n      <td>MFT File Gateway</td>\n      <td>MFT File Gateway</td>\n      <td>B2B SW</td>\n      <td>0.001984</td>\n      <td>0.001183</td>\n      <td>...</td>\n      <td>0.000000</td>\n      <td>0.000000</td>\n      <td>0.000000</td>\n      <td>0.000000</td>\n      <td>0.000000</td>\n      <td>0.000000</td>\n      <td>0.000000</td>\n      <td>27</td>\n      <td>0.012325</td>\n      <td>0.000000</td>\n    </tr>\n    <tr>\n      <th>89521</th>\n      <td>7633</td>\n      <td>New Zealand</td>\n      <td>1.0</td>\n      <td>Sterling B2B Integration</td>\n      <td>STER FILEGWA</td>\n      <td>B2B Integrator Financial</td>\n      <td>B2B Integrator Financial</td>\n      <td>B2B SW</td>\n      <td>0.003062</td>\n      <td>0.001825</td>\n      <td>...</td>\n      <td>0.000000</td>\n      <td>0.000000</td>\n      <td>0.000000</td>\n      <td>0.000000</td>\n      <td>0.000000</td>\n      <td>0.000000</td>\n      <td>0.000000</td>\n      <td>6</td>\n      <td>0.019021</td>\n      <td>0.000000</td>\n    </tr>\n  </tbody>\n</table>\n<p>16555 rows × 40 columns</p>\n</div>"
     },
     "execution_count": 27,
     "metadata": {},
     "output_type": "execute_result"
    }
   ],
   "source": [
    "### From here, all the analysis will only be industry code 1.\n",
    "sales_data_encoded_product_industry_one = sales_data_encoded_product.loc[lambda x: x['Industry'] == '1.0']\n",
    "sales_data_encoded_product_industry_one"
   ],
   "metadata": {
    "collapsed": false,
    "ExecuteTime": {
     "end_time": "2023-08-21T05:33:32.325421Z",
     "start_time": "2023-08-21T05:33:32.269468Z"
    }
   }
  },
  {
   "cell_type": "code",
   "execution_count": 28,
   "outputs": [
    {
     "data": {
      "text/plain": "4146"
     },
     "execution_count": 28,
     "metadata": {},
     "output_type": "execute_result"
    }
   ],
   "source": [
    "# Check how many rows are belong to United States: 4146 [without filtering was 47158]\n",
    "#len(sales_data_encoded_product[sales_data_encoded_product['Country']==\"United States\"])\n",
    "len(sales_data_encoded_product_industry_one[sales_data_encoded_product_industry_one['Country']==\"United States\"])"
   ],
   "metadata": {
    "collapsed": false,
    "ExecuteTime": {
     "end_time": "2023-08-21T05:33:32.325472Z",
     "start_time": "2023-08-21T05:33:32.289720Z"
    }
   }
  },
  {
   "cell_type": "code",
   "execution_count": 29,
   "outputs": [
    {
     "data": {
      "text/plain": "89"
     },
     "execution_count": 29,
     "metadata": {},
     "output_type": "execute_result"
    }
   ],
   "source": [
    "# Check how many unique produces were purchased in United States: 89 [without filtering was 150]\n",
    "#sales_data_us = sales_data_encoded_product[sales_data_encoded_product['Country']==\"United States\"]\n",
    "sales_data_us = sales_data_encoded_product_industry_one[sales_data_encoded_product_industry_one['Country']==\"United States\"]\n",
    "len(sales_data_us[\"CombinedProductName\"].unique())"
   ],
   "metadata": {
    "collapsed": false,
    "ExecuteTime": {
     "end_time": "2023-08-21T05:33:32.326013Z",
     "start_time": "2023-08-21T05:33:32.293242Z"
    }
   }
  },
  {
   "cell_type": "code",
   "execution_count": 30,
   "outputs": [
    {
     "name": "stdout",
     "output_type": "stream",
     "text": [
      "Unique Countries : 78\n"
     ]
    },
    {
     "data": {
      "text/plain": "                ZXGID  Industry  UT L30 - Segment  Family  Product name  \\\nCountry                                                                   \nUnited States    4146      4146              4146    4146          4146   \nBrazil           1857      1857              1857    1857          1857   \nUnited Kingdom    911       911               911     911           911   \nCanada            749       749               749     749           749   \nGermany           636       636               636     636           636   \n...               ...       ...               ...     ...           ...   \nUkraine             3         3                 3       3             3   \nCote d'Ivoire       3         3                 3       3             3   \nBotswana            3         3                 3       3             3   \nBolivia             3         3                 3       3             3   \nBelarus             3         3                 3       3             3   \n\n                PA part description  Rev type  20161  20162  20163  ...  \\\nCountry                                                             ...   \nUnited States                  4146      4146   4146   4146   4146  ...   \nBrazil                         1857      1857   1857   1857   1857  ...   \nUnited Kingdom                  911       911    911    911    911  ...   \nCanada                          749       749    749    749    749  ...   \nGermany                         636       636    636    636    636  ...   \n...                             ...       ...    ...    ...    ...  ...   \nUkraine                           3         3      3      3      3  ...   \nCote d'Ivoire                     3         3      3      3      3  ...   \nBotswana                          3         3      3      3      3  ...   \nBolivia                           3         3      3      3      3  ...   \nBelarus                           3         3      3      3      3  ...   \n\n                20213  20214  20221  20222  20223  20224  Grand Total  \\\nCountry                                                                 \nUnited States    4146   4146   4146   4146   4146   4146         4146   \nBrazil           1857   1857   1857   1857   1857   1857         1857   \nUnited Kingdom    911    911    911    911    911    911          911   \nCanada            749    749    749    749    749    749          749   \nGermany           636    636    636    636    636    636          636   \n...               ...    ...    ...    ...    ...    ...          ...   \nUkraine             3      3      3      3      3      3            3   \nCote d'Ivoire       3      3      3      3      3      3            3   \nBotswana            3      3      3      3      3      3            3   \nBolivia             3      3      3      3      3      3            3   \nBelarus             3      3      3      3      3      3            3   \n\n                CombinedProductName  Sum_train  Sum_test  \nCountry                                                   \nUnited States                  4146       4146      4146  \nBrazil                         1857       1857      1857  \nUnited Kingdom                  911        911       911  \nCanada                          749        749       749  \nGermany                         636        636       636  \n...                             ...        ...       ...  \nUkraine                           3          3         3  \nCote d'Ivoire                     3          3         3  \nBotswana                          3          3         3  \nBolivia                           3          3         3  \nBelarus                           3          3         3  \n\n[78 rows x 39 columns]",
      "text/html": "<div>\n<style scoped>\n    .dataframe tbody tr th:only-of-type {\n        vertical-align: middle;\n    }\n\n    .dataframe tbody tr th {\n        vertical-align: top;\n    }\n\n    .dataframe thead th {\n        text-align: right;\n    }\n</style>\n<table border=\"1\" class=\"dataframe\">\n  <thead>\n    <tr style=\"text-align: right;\">\n      <th></th>\n      <th>ZXGID</th>\n      <th>Industry</th>\n      <th>UT L30 - Segment</th>\n      <th>Family</th>\n      <th>Product name</th>\n      <th>PA part description</th>\n      <th>Rev type</th>\n      <th>20161</th>\n      <th>20162</th>\n      <th>20163</th>\n      <th>...</th>\n      <th>20213</th>\n      <th>20214</th>\n      <th>20221</th>\n      <th>20222</th>\n      <th>20223</th>\n      <th>20224</th>\n      <th>Grand Total</th>\n      <th>CombinedProductName</th>\n      <th>Sum_train</th>\n      <th>Sum_test</th>\n    </tr>\n    <tr>\n      <th>Country</th>\n      <th></th>\n      <th></th>\n      <th></th>\n      <th></th>\n      <th></th>\n      <th></th>\n      <th></th>\n      <th></th>\n      <th></th>\n      <th></th>\n      <th></th>\n      <th></th>\n      <th></th>\n      <th></th>\n      <th></th>\n      <th></th>\n      <th></th>\n      <th></th>\n      <th></th>\n      <th></th>\n      <th></th>\n    </tr>\n  </thead>\n  <tbody>\n    <tr>\n      <th>United States</th>\n      <td>4146</td>\n      <td>4146</td>\n      <td>4146</td>\n      <td>4146</td>\n      <td>4146</td>\n      <td>4146</td>\n      <td>4146</td>\n      <td>4146</td>\n      <td>4146</td>\n      <td>4146</td>\n      <td>...</td>\n      <td>4146</td>\n      <td>4146</td>\n      <td>4146</td>\n      <td>4146</td>\n      <td>4146</td>\n      <td>4146</td>\n      <td>4146</td>\n      <td>4146</td>\n      <td>4146</td>\n      <td>4146</td>\n    </tr>\n    <tr>\n      <th>Brazil</th>\n      <td>1857</td>\n      <td>1857</td>\n      <td>1857</td>\n      <td>1857</td>\n      <td>1857</td>\n      <td>1857</td>\n      <td>1857</td>\n      <td>1857</td>\n      <td>1857</td>\n      <td>1857</td>\n      <td>...</td>\n      <td>1857</td>\n      <td>1857</td>\n      <td>1857</td>\n      <td>1857</td>\n      <td>1857</td>\n      <td>1857</td>\n      <td>1857</td>\n      <td>1857</td>\n      <td>1857</td>\n      <td>1857</td>\n    </tr>\n    <tr>\n      <th>United Kingdom</th>\n      <td>911</td>\n      <td>911</td>\n      <td>911</td>\n      <td>911</td>\n      <td>911</td>\n      <td>911</td>\n      <td>911</td>\n      <td>911</td>\n      <td>911</td>\n      <td>911</td>\n      <td>...</td>\n      <td>911</td>\n      <td>911</td>\n      <td>911</td>\n      <td>911</td>\n      <td>911</td>\n      <td>911</td>\n      <td>911</td>\n      <td>911</td>\n      <td>911</td>\n      <td>911</td>\n    </tr>\n    <tr>\n      <th>Canada</th>\n      <td>749</td>\n      <td>749</td>\n      <td>749</td>\n      <td>749</td>\n      <td>749</td>\n      <td>749</td>\n      <td>749</td>\n      <td>749</td>\n      <td>749</td>\n      <td>749</td>\n      <td>...</td>\n      <td>749</td>\n      <td>749</td>\n      <td>749</td>\n      <td>749</td>\n      <td>749</td>\n      <td>749</td>\n      <td>749</td>\n      <td>749</td>\n      <td>749</td>\n      <td>749</td>\n    </tr>\n    <tr>\n      <th>Germany</th>\n      <td>636</td>\n      <td>636</td>\n      <td>636</td>\n      <td>636</td>\n      <td>636</td>\n      <td>636</td>\n      <td>636</td>\n      <td>636</td>\n      <td>636</td>\n      <td>636</td>\n      <td>...</td>\n      <td>636</td>\n      <td>636</td>\n      <td>636</td>\n      <td>636</td>\n      <td>636</td>\n      <td>636</td>\n      <td>636</td>\n      <td>636</td>\n      <td>636</td>\n      <td>636</td>\n    </tr>\n    <tr>\n      <th>...</th>\n      <td>...</td>\n      <td>...</td>\n      <td>...</td>\n      <td>...</td>\n      <td>...</td>\n      <td>...</td>\n      <td>...</td>\n      <td>...</td>\n      <td>...</td>\n      <td>...</td>\n      <td>...</td>\n      <td>...</td>\n      <td>...</td>\n      <td>...</td>\n      <td>...</td>\n      <td>...</td>\n      <td>...</td>\n      <td>...</td>\n      <td>...</td>\n      <td>...</td>\n      <td>...</td>\n    </tr>\n    <tr>\n      <th>Ukraine</th>\n      <td>3</td>\n      <td>3</td>\n      <td>3</td>\n      <td>3</td>\n      <td>3</td>\n      <td>3</td>\n      <td>3</td>\n      <td>3</td>\n      <td>3</td>\n      <td>3</td>\n      <td>...</td>\n      <td>3</td>\n      <td>3</td>\n      <td>3</td>\n      <td>3</td>\n      <td>3</td>\n      <td>3</td>\n      <td>3</td>\n      <td>3</td>\n      <td>3</td>\n      <td>3</td>\n    </tr>\n    <tr>\n      <th>Cote d'Ivoire</th>\n      <td>3</td>\n      <td>3</td>\n      <td>3</td>\n      <td>3</td>\n      <td>3</td>\n      <td>3</td>\n      <td>3</td>\n      <td>3</td>\n      <td>3</td>\n      <td>3</td>\n      <td>...</td>\n      <td>3</td>\n      <td>3</td>\n      <td>3</td>\n      <td>3</td>\n      <td>3</td>\n      <td>3</td>\n      <td>3</td>\n      <td>3</td>\n      <td>3</td>\n      <td>3</td>\n    </tr>\n    <tr>\n      <th>Botswana</th>\n      <td>3</td>\n      <td>3</td>\n      <td>3</td>\n      <td>3</td>\n      <td>3</td>\n      <td>3</td>\n      <td>3</td>\n      <td>3</td>\n      <td>3</td>\n      <td>3</td>\n      <td>...</td>\n      <td>3</td>\n      <td>3</td>\n      <td>3</td>\n      <td>3</td>\n      <td>3</td>\n      <td>3</td>\n      <td>3</td>\n      <td>3</td>\n      <td>3</td>\n      <td>3</td>\n    </tr>\n    <tr>\n      <th>Bolivia</th>\n      <td>3</td>\n      <td>3</td>\n      <td>3</td>\n      <td>3</td>\n      <td>3</td>\n      <td>3</td>\n      <td>3</td>\n      <td>3</td>\n      <td>3</td>\n      <td>3</td>\n      <td>...</td>\n      <td>3</td>\n      <td>3</td>\n      <td>3</td>\n      <td>3</td>\n      <td>3</td>\n      <td>3</td>\n      <td>3</td>\n      <td>3</td>\n      <td>3</td>\n      <td>3</td>\n    </tr>\n    <tr>\n      <th>Belarus</th>\n      <td>3</td>\n      <td>3</td>\n      <td>3</td>\n      <td>3</td>\n      <td>3</td>\n      <td>3</td>\n      <td>3</td>\n      <td>3</td>\n      <td>3</td>\n      <td>3</td>\n      <td>...</td>\n      <td>3</td>\n      <td>3</td>\n      <td>3</td>\n      <td>3</td>\n      <td>3</td>\n      <td>3</td>\n      <td>3</td>\n      <td>3</td>\n      <td>3</td>\n      <td>3</td>\n    </tr>\n  </tbody>\n</table>\n<p>78 rows × 39 columns</p>\n</div>"
     },
     "execution_count": 30,
     "metadata": {},
     "output_type": "execute_result"
    }
   ],
   "source": [
    "# Check Unique count of Country, rows belong to each Country: 78 [without filtering was 95]\n",
    "#print(\"Unique Countries : \" + str(len(sales_data_encoded_product['Country'].unique())))\n",
    "#groups_country = sales_data_encoded_product.groupby('Country')\n",
    "\n",
    "print(\"Unique Countries : \" + str(len(sales_data_encoded_product_industry_one['Country'].unique())))\n",
    "groups_country = sales_data_encoded_product_industry_one.groupby('Country')\n",
    "\n",
    "# count the number of rows in each group\n",
    "counts = groups_country.count().sort_values('ZXGID', ascending=False)\n",
    "counts"
   ],
   "metadata": {
    "collapsed": false,
    "ExecuteTime": {
     "end_time": "2023-08-21T05:33:32.326121Z",
     "start_time": "2023-08-21T05:33:32.297706Z"
    }
   }
  },
  {
   "cell_type": "code",
   "execution_count": 31,
   "outputs": [],
   "source": [
    "# # Check Unique count of Industry, rows belong to each Industry [Unique Industries : 24]\n",
    "# print(\"Unique Industries : \" + str(len(sales_data_encoded_product['Industry'].unique())))\n",
    "# groups_country = sales_data_encoded_product.groupby('Industry')\n",
    "#\n",
    "# # count the number of rows in each group\n",
    "# counts = groups_country.count().sort_values('ZXGID', ascending=False)\n",
    "# counts"
   ],
   "metadata": {
    "collapsed": false,
    "ExecuteTime": {
     "end_time": "2023-08-21T05:33:32.326300Z",
     "start_time": "2023-08-21T05:33:32.311953Z"
    }
   }
  },
  {
   "cell_type": "code",
   "execution_count": 32,
   "outputs": [
    {
     "name": "stderr",
     "output_type": "stream",
     "text": [
      "/var/folders/kt/n_01c2t91fz15bhz621qz2640000gn/T/ipykernel_95569/448985476.py:5: SettingWithCopyWarning: \n",
      "A value is trying to be set on a copy of a slice from a DataFrame.\n",
      "Try using .loc[row_indexer,col_indexer] = value instead\n",
      "\n",
      "See the caveats in the documentation: https://pandas.pydata.org/pandas-docs/stable/user_guide/indexing.html#returning-a-view-versus-a-copy\n",
      "  sales_data_encoded_product_industry_one[f'{index}-encoded'] =  sales_data_encoded_product_industry_one['CombinedProductName']\n",
      "/var/folders/kt/n_01c2t91fz15bhz621qz2640000gn/T/ipykernel_95569/448985476.py:5: SettingWithCopyWarning: \n",
      "A value is trying to be set on a copy of a slice from a DataFrame.\n",
      "Try using .loc[row_indexer,col_indexer] = value instead\n",
      "\n",
      "See the caveats in the documentation: https://pandas.pydata.org/pandas-docs/stable/user_guide/indexing.html#returning-a-view-versus-a-copy\n",
      "  sales_data_encoded_product_industry_one[f'{index}-encoded'] =  sales_data_encoded_product_industry_one['CombinedProductName']\n",
      "/var/folders/kt/n_01c2t91fz15bhz621qz2640000gn/T/ipykernel_95569/448985476.py:5: SettingWithCopyWarning: \n",
      "A value is trying to be set on a copy of a slice from a DataFrame.\n",
      "Try using .loc[row_indexer,col_indexer] = value instead\n",
      "\n",
      "See the caveats in the documentation: https://pandas.pydata.org/pandas-docs/stable/user_guide/indexing.html#returning-a-view-versus-a-copy\n",
      "  sales_data_encoded_product_industry_one[f'{index}-encoded'] =  sales_data_encoded_product_industry_one['CombinedProductName']\n",
      "/var/folders/kt/n_01c2t91fz15bhz621qz2640000gn/T/ipykernel_95569/448985476.py:5: SettingWithCopyWarning: \n",
      "A value is trying to be set on a copy of a slice from a DataFrame.\n",
      "Try using .loc[row_indexer,col_indexer] = value instead\n",
      "\n",
      "See the caveats in the documentation: https://pandas.pydata.org/pandas-docs/stable/user_guide/indexing.html#returning-a-view-versus-a-copy\n",
      "  sales_data_encoded_product_industry_one[f'{index}-encoded'] =  sales_data_encoded_product_industry_one['CombinedProductName']\n",
      "/var/folders/kt/n_01c2t91fz15bhz621qz2640000gn/T/ipykernel_95569/448985476.py:5: SettingWithCopyWarning: \n",
      "A value is trying to be set on a copy of a slice from a DataFrame.\n",
      "Try using .loc[row_indexer,col_indexer] = value instead\n",
      "\n",
      "See the caveats in the documentation: https://pandas.pydata.org/pandas-docs/stable/user_guide/indexing.html#returning-a-view-versus-a-copy\n",
      "  sales_data_encoded_product_industry_one[f'{index}-encoded'] =  sales_data_encoded_product_industry_one['CombinedProductName']\n",
      "/var/folders/kt/n_01c2t91fz15bhz621qz2640000gn/T/ipykernel_95569/448985476.py:5: SettingWithCopyWarning: \n",
      "A value is trying to be set on a copy of a slice from a DataFrame.\n",
      "Try using .loc[row_indexer,col_indexer] = value instead\n",
      "\n",
      "See the caveats in the documentation: https://pandas.pydata.org/pandas-docs/stable/user_guide/indexing.html#returning-a-view-versus-a-copy\n",
      "  sales_data_encoded_product_industry_one[f'{index}-encoded'] =  sales_data_encoded_product_industry_one['CombinedProductName']\n",
      "/var/folders/kt/n_01c2t91fz15bhz621qz2640000gn/T/ipykernel_95569/448985476.py:5: SettingWithCopyWarning: \n",
      "A value is trying to be set on a copy of a slice from a DataFrame.\n",
      "Try using .loc[row_indexer,col_indexer] = value instead\n",
      "\n",
      "See the caveats in the documentation: https://pandas.pydata.org/pandas-docs/stable/user_guide/indexing.html#returning-a-view-versus-a-copy\n",
      "  sales_data_encoded_product_industry_one[f'{index}-encoded'] =  sales_data_encoded_product_industry_one['CombinedProductName']\n",
      "/var/folders/kt/n_01c2t91fz15bhz621qz2640000gn/T/ipykernel_95569/448985476.py:5: SettingWithCopyWarning: \n",
      "A value is trying to be set on a copy of a slice from a DataFrame.\n",
      "Try using .loc[row_indexer,col_indexer] = value instead\n",
      "\n",
      "See the caveats in the documentation: https://pandas.pydata.org/pandas-docs/stable/user_guide/indexing.html#returning-a-view-versus-a-copy\n",
      "  sales_data_encoded_product_industry_one[f'{index}-encoded'] =  sales_data_encoded_product_industry_one['CombinedProductName']\n",
      "/var/folders/kt/n_01c2t91fz15bhz621qz2640000gn/T/ipykernel_95569/448985476.py:5: SettingWithCopyWarning: \n",
      "A value is trying to be set on a copy of a slice from a DataFrame.\n",
      "Try using .loc[row_indexer,col_indexer] = value instead\n",
      "\n",
      "See the caveats in the documentation: https://pandas.pydata.org/pandas-docs/stable/user_guide/indexing.html#returning-a-view-versus-a-copy\n",
      "  sales_data_encoded_product_industry_one[f'{index}-encoded'] =  sales_data_encoded_product_industry_one['CombinedProductName']\n",
      "/var/folders/kt/n_01c2t91fz15bhz621qz2640000gn/T/ipykernel_95569/448985476.py:5: SettingWithCopyWarning: \n",
      "A value is trying to be set on a copy of a slice from a DataFrame.\n",
      "Try using .loc[row_indexer,col_indexer] = value instead\n",
      "\n",
      "See the caveats in the documentation: https://pandas.pydata.org/pandas-docs/stable/user_guide/indexing.html#returning-a-view-versus-a-copy\n",
      "  sales_data_encoded_product_industry_one[f'{index}-encoded'] =  sales_data_encoded_product_industry_one['CombinedProductName']\n",
      "/var/folders/kt/n_01c2t91fz15bhz621qz2640000gn/T/ipykernel_95569/448985476.py:5: SettingWithCopyWarning: \n",
      "A value is trying to be set on a copy of a slice from a DataFrame.\n",
      "Try using .loc[row_indexer,col_indexer] = value instead\n",
      "\n",
      "See the caveats in the documentation: https://pandas.pydata.org/pandas-docs/stable/user_guide/indexing.html#returning-a-view-versus-a-copy\n",
      "  sales_data_encoded_product_industry_one[f'{index}-encoded'] =  sales_data_encoded_product_industry_one['CombinedProductName']\n",
      "/var/folders/kt/n_01c2t91fz15bhz621qz2640000gn/T/ipykernel_95569/448985476.py:5: SettingWithCopyWarning: \n",
      "A value is trying to be set on a copy of a slice from a DataFrame.\n",
      "Try using .loc[row_indexer,col_indexer] = value instead\n",
      "\n",
      "See the caveats in the documentation: https://pandas.pydata.org/pandas-docs/stable/user_guide/indexing.html#returning-a-view-versus-a-copy\n",
      "  sales_data_encoded_product_industry_one[f'{index}-encoded'] =  sales_data_encoded_product_industry_one['CombinedProductName']\n",
      "/var/folders/kt/n_01c2t91fz15bhz621qz2640000gn/T/ipykernel_95569/448985476.py:5: SettingWithCopyWarning: \n",
      "A value is trying to be set on a copy of a slice from a DataFrame.\n",
      "Try using .loc[row_indexer,col_indexer] = value instead\n",
      "\n",
      "See the caveats in the documentation: https://pandas.pydata.org/pandas-docs/stable/user_guide/indexing.html#returning-a-view-versus-a-copy\n",
      "  sales_data_encoded_product_industry_one[f'{index}-encoded'] =  sales_data_encoded_product_industry_one['CombinedProductName']\n",
      "/var/folders/kt/n_01c2t91fz15bhz621qz2640000gn/T/ipykernel_95569/448985476.py:5: SettingWithCopyWarning: \n",
      "A value is trying to be set on a copy of a slice from a DataFrame.\n",
      "Try using .loc[row_indexer,col_indexer] = value instead\n",
      "\n",
      "See the caveats in the documentation: https://pandas.pydata.org/pandas-docs/stable/user_guide/indexing.html#returning-a-view-versus-a-copy\n",
      "  sales_data_encoded_product_industry_one[f'{index}-encoded'] =  sales_data_encoded_product_industry_one['CombinedProductName']\n",
      "/var/folders/kt/n_01c2t91fz15bhz621qz2640000gn/T/ipykernel_95569/448985476.py:5: SettingWithCopyWarning: \n",
      "A value is trying to be set on a copy of a slice from a DataFrame.\n",
      "Try using .loc[row_indexer,col_indexer] = value instead\n",
      "\n",
      "See the caveats in the documentation: https://pandas.pydata.org/pandas-docs/stable/user_guide/indexing.html#returning-a-view-versus-a-copy\n",
      "  sales_data_encoded_product_industry_one[f'{index}-encoded'] =  sales_data_encoded_product_industry_one['CombinedProductName']\n",
      "/var/folders/kt/n_01c2t91fz15bhz621qz2640000gn/T/ipykernel_95569/448985476.py:5: SettingWithCopyWarning: \n",
      "A value is trying to be set on a copy of a slice from a DataFrame.\n",
      "Try using .loc[row_indexer,col_indexer] = value instead\n",
      "\n",
      "See the caveats in the documentation: https://pandas.pydata.org/pandas-docs/stable/user_guide/indexing.html#returning-a-view-versus-a-copy\n",
      "  sales_data_encoded_product_industry_one[f'{index}-encoded'] =  sales_data_encoded_product_industry_one['CombinedProductName']\n",
      "/var/folders/kt/n_01c2t91fz15bhz621qz2640000gn/T/ipykernel_95569/448985476.py:5: SettingWithCopyWarning: \n",
      "A value is trying to be set on a copy of a slice from a DataFrame.\n",
      "Try using .loc[row_indexer,col_indexer] = value instead\n",
      "\n",
      "See the caveats in the documentation: https://pandas.pydata.org/pandas-docs/stable/user_guide/indexing.html#returning-a-view-versus-a-copy\n",
      "  sales_data_encoded_product_industry_one[f'{index}-encoded'] =  sales_data_encoded_product_industry_one['CombinedProductName']\n",
      "/var/folders/kt/n_01c2t91fz15bhz621qz2640000gn/T/ipykernel_95569/448985476.py:5: SettingWithCopyWarning: \n",
      "A value is trying to be set on a copy of a slice from a DataFrame.\n",
      "Try using .loc[row_indexer,col_indexer] = value instead\n",
      "\n",
      "See the caveats in the documentation: https://pandas.pydata.org/pandas-docs/stable/user_guide/indexing.html#returning-a-view-versus-a-copy\n",
      "  sales_data_encoded_product_industry_one[f'{index}-encoded'] =  sales_data_encoded_product_industry_one['CombinedProductName']\n",
      "/var/folders/kt/n_01c2t91fz15bhz621qz2640000gn/T/ipykernel_95569/448985476.py:5: SettingWithCopyWarning: \n",
      "A value is trying to be set on a copy of a slice from a DataFrame.\n",
      "Try using .loc[row_indexer,col_indexer] = value instead\n",
      "\n",
      "See the caveats in the documentation: https://pandas.pydata.org/pandas-docs/stable/user_guide/indexing.html#returning-a-view-versus-a-copy\n",
      "  sales_data_encoded_product_industry_one[f'{index}-encoded'] =  sales_data_encoded_product_industry_one['CombinedProductName']\n",
      "/var/folders/kt/n_01c2t91fz15bhz621qz2640000gn/T/ipykernel_95569/448985476.py:5: SettingWithCopyWarning: \n",
      "A value is trying to be set on a copy of a slice from a DataFrame.\n",
      "Try using .loc[row_indexer,col_indexer] = value instead\n",
      "\n",
      "See the caveats in the documentation: https://pandas.pydata.org/pandas-docs/stable/user_guide/indexing.html#returning-a-view-versus-a-copy\n",
      "  sales_data_encoded_product_industry_one[f'{index}-encoded'] =  sales_data_encoded_product_industry_one['CombinedProductName']\n",
      "/var/folders/kt/n_01c2t91fz15bhz621qz2640000gn/T/ipykernel_95569/448985476.py:5: SettingWithCopyWarning: \n",
      "A value is trying to be set on a copy of a slice from a DataFrame.\n",
      "Try using .loc[row_indexer,col_indexer] = value instead\n",
      "\n",
      "See the caveats in the documentation: https://pandas.pydata.org/pandas-docs/stable/user_guide/indexing.html#returning-a-view-versus-a-copy\n",
      "  sales_data_encoded_product_industry_one[f'{index}-encoded'] =  sales_data_encoded_product_industry_one['CombinedProductName']\n",
      "/var/folders/kt/n_01c2t91fz15bhz621qz2640000gn/T/ipykernel_95569/448985476.py:5: SettingWithCopyWarning: \n",
      "A value is trying to be set on a copy of a slice from a DataFrame.\n",
      "Try using .loc[row_indexer,col_indexer] = value instead\n",
      "\n",
      "See the caveats in the documentation: https://pandas.pydata.org/pandas-docs/stable/user_guide/indexing.html#returning-a-view-versus-a-copy\n",
      "  sales_data_encoded_product_industry_one[f'{index}-encoded'] =  sales_data_encoded_product_industry_one['CombinedProductName']\n",
      "/var/folders/kt/n_01c2t91fz15bhz621qz2640000gn/T/ipykernel_95569/448985476.py:5: SettingWithCopyWarning: \n",
      "A value is trying to be set on a copy of a slice from a DataFrame.\n",
      "Try using .loc[row_indexer,col_indexer] = value instead\n",
      "\n",
      "See the caveats in the documentation: https://pandas.pydata.org/pandas-docs/stable/user_guide/indexing.html#returning-a-view-versus-a-copy\n",
      "  sales_data_encoded_product_industry_one[f'{index}-encoded'] =  sales_data_encoded_product_industry_one['CombinedProductName']\n",
      "/var/folders/kt/n_01c2t91fz15bhz621qz2640000gn/T/ipykernel_95569/448985476.py:5: SettingWithCopyWarning: \n",
      "A value is trying to be set on a copy of a slice from a DataFrame.\n",
      "Try using .loc[row_indexer,col_indexer] = value instead\n",
      "\n",
      "See the caveats in the documentation: https://pandas.pydata.org/pandas-docs/stable/user_guide/indexing.html#returning-a-view-versus-a-copy\n",
      "  sales_data_encoded_product_industry_one[f'{index}-encoded'] =  sales_data_encoded_product_industry_one['CombinedProductName']\n",
      "/var/folders/kt/n_01c2t91fz15bhz621qz2640000gn/T/ipykernel_95569/448985476.py:5: SettingWithCopyWarning: \n",
      "A value is trying to be set on a copy of a slice from a DataFrame.\n",
      "Try using .loc[row_indexer,col_indexer] = value instead\n",
      "\n",
      "See the caveats in the documentation: https://pandas.pydata.org/pandas-docs/stable/user_guide/indexing.html#returning-a-view-versus-a-copy\n",
      "  sales_data_encoded_product_industry_one[f'{index}-encoded'] =  sales_data_encoded_product_industry_one['CombinedProductName']\n",
      "/var/folders/kt/n_01c2t91fz15bhz621qz2640000gn/T/ipykernel_95569/448985476.py:5: SettingWithCopyWarning: \n",
      "A value is trying to be set on a copy of a slice from a DataFrame.\n",
      "Try using .loc[row_indexer,col_indexer] = value instead\n",
      "\n",
      "See the caveats in the documentation: https://pandas.pydata.org/pandas-docs/stable/user_guide/indexing.html#returning-a-view-versus-a-copy\n",
      "  sales_data_encoded_product_industry_one[f'{index}-encoded'] =  sales_data_encoded_product_industry_one['CombinedProductName']\n",
      "/var/folders/kt/n_01c2t91fz15bhz621qz2640000gn/T/ipykernel_95569/448985476.py:5: SettingWithCopyWarning: \n",
      "A value is trying to be set on a copy of a slice from a DataFrame.\n",
      "Try using .loc[row_indexer,col_indexer] = value instead\n",
      "\n",
      "See the caveats in the documentation: https://pandas.pydata.org/pandas-docs/stable/user_guide/indexing.html#returning-a-view-versus-a-copy\n",
      "  sales_data_encoded_product_industry_one[f'{index}-encoded'] =  sales_data_encoded_product_industry_one['CombinedProductName']\n",
      "/var/folders/kt/n_01c2t91fz15bhz621qz2640000gn/T/ipykernel_95569/448985476.py:5: SettingWithCopyWarning: \n",
      "A value is trying to be set on a copy of a slice from a DataFrame.\n",
      "Try using .loc[row_indexer,col_indexer] = value instead\n",
      "\n",
      "See the caveats in the documentation: https://pandas.pydata.org/pandas-docs/stable/user_guide/indexing.html#returning-a-view-versus-a-copy\n",
      "  sales_data_encoded_product_industry_one[f'{index}-encoded'] =  sales_data_encoded_product_industry_one['CombinedProductName']\n",
      "/var/folders/kt/n_01c2t91fz15bhz621qz2640000gn/T/ipykernel_95569/448985476.py:8: SettingWithCopyWarning: \n",
      "A value is trying to be set on a copy of a slice from a DataFrame\n",
      "\n",
      "See the caveats in the documentation: https://pandas.pydata.org/pandas-docs/stable/user_guide/indexing.html#returning-a-view-versus-a-copy\n",
      "  sales_data_encoded_product_industry_one[f'{index}-encoded'].mask(sales_data[col_name] <= 0 , inplace=True)\n"
     ]
    },
    {
     "data": {
      "text/plain": "       ZXGID        Country Industry                  UT L30 - Segment  \\\n0       8656  United States      1.0          Sterling B2B Integration   \n1       8656  United States      1.0          Sterling B2B Integration   \n2       8656  United States      1.0          Sterling B2B Integration   \n3       8656  United States      1.0          Sterling B2B Integration   \n4       8656  United States      1.0          Sterling B2B Integration   \n...      ...            ...      ...                               ...   \n89517   7633    New Zealand      1.0  Sterling Transformation Extender   \n89518   7633    New Zealand      1.0  Sterling Transformation Extender   \n89519   7633    New Zealand      1.0  Sterling Transformation Extender   \n89520   7633    New Zealand      1.0          Sterling B2B Integration   \n89521   7633    New Zealand      1.0          Sterling B2B Integration   \n\n             Family                        Product name  \\\n0      STER FILEGWA                      B2B Integrator   \n1      STER FILEGWA                      B2B Integrator   \n2      STER FILEGWA                      B2B Integrator   \n3      STER FILEGWA                      B2B Integrator   \n4      STER FILEGWA                      B2B Integrator   \n...             ...                                 ...   \n89517   STER TRANSX    WS Transfrm Ext Pk Design Studio   \n89518   STER TRANSX  WebSphere Tran Ext Integration Svr   \n89519   STER TRANSX           WS Transform Ext Pk SWIFT   \n89520  STER FILEGWA                    MFT File Gateway   \n89521  STER FILEGWA            B2B Integrator Financial   \n\n                                     PA part description     Rev type  \\\n0      B2B INTEGRATOR AO GLOBAL HIGH AVAILABILITY MB ...  Transaction   \n1      B2B INTEGRATOR AO GLOBAL HIGH AVAILABILITY MB ...  Subs & Supp   \n2      B2B INTEGRATOR AO GLOBAL HIGH AVAILABILITY MB ...  Subs & Supp   \n3                STERLING B2B INTEGRATOR ENT ED PVU SUPT  Subs & Supp   \n4                 STERLING B2B INTEGRATOR ENT ED PVU SUB  Subs & Supp   \n...                                                  ...          ...   \n89517                   WS Transfrm Ext Pk Design Studio       B2B SW   \n89518                 WebSphere Tran Ext Integration Svr       B2B SW   \n89519                          WS Transform Ext Pk SWIFT       B2B SW   \n89520                                   MFT File Gateway       B2B SW   \n89521                           B2B Integrator Financial       B2B SW   \n\n          20161     20162  ...  18-encoded  19-encoded  20-encoded  \\\n0      0.000000  0.000000  ...         NaN         NaN         NaN   \n1      0.000000  0.000000  ...         4.0         4.0         4.0   \n2      0.000000  0.000000  ...         4.0         4.0         4.0   \n3      0.000903  0.000538  ...         4.0         4.0         4.0   \n4      0.003611  0.002153  ...         4.0         4.0         4.0   \n...         ...       ...  ...         ...         ...         ...   \n89517  0.000180  0.000108  ...       160.0       160.0       160.0   \n89518  0.001874  0.001117  ...         NaN         NaN         NaN   \n89519  0.003227  0.001923  ...         NaN         NaN         NaN   \n89520  0.001984  0.001183  ...         NaN         NaN         NaN   \n89521  0.003062  0.001825  ...         NaN         NaN         NaN   \n\n       21-encoded  22-encoded  23-encoded  24-encoded  25-encoded  26-encoded  \\\n0             NaN         NaN         NaN         NaN         NaN         NaN   \n1             4.0         4.0         4.0         4.0         4.0         4.0   \n2             4.0         4.0         4.0         4.0         4.0         4.0   \n3             4.0         4.0         4.0         4.0         4.0         4.0   \n4             4.0         4.0         4.0         4.0         4.0         4.0   \n...           ...         ...         ...         ...         ...         ...   \n89517       160.0       160.0       160.0       160.0       160.0         NaN   \n89518         NaN         NaN         NaN         NaN         NaN         NaN   \n89519         NaN         NaN         NaN         NaN         NaN         NaN   \n89520         NaN         NaN         NaN         NaN         NaN         NaN   \n89521         NaN         NaN         NaN         NaN         NaN         NaN   \n\n       27-encoded  \n0             NaN  \n1             4.0  \n2             4.0  \n3             4.0  \n4             4.0  \n...           ...  \n89517         NaN  \n89518         NaN  \n89519         NaN  \n89520         NaN  \n89521         NaN  \n\n[16555 rows x 68 columns]",
      "text/html": "<div>\n<style scoped>\n    .dataframe tbody tr th:only-of-type {\n        vertical-align: middle;\n    }\n\n    .dataframe tbody tr th {\n        vertical-align: top;\n    }\n\n    .dataframe thead th {\n        text-align: right;\n    }\n</style>\n<table border=\"1\" class=\"dataframe\">\n  <thead>\n    <tr style=\"text-align: right;\">\n      <th></th>\n      <th>ZXGID</th>\n      <th>Country</th>\n      <th>Industry</th>\n      <th>UT L30 - Segment</th>\n      <th>Family</th>\n      <th>Product name</th>\n      <th>PA part description</th>\n      <th>Rev type</th>\n      <th>20161</th>\n      <th>20162</th>\n      <th>...</th>\n      <th>18-encoded</th>\n      <th>19-encoded</th>\n      <th>20-encoded</th>\n      <th>21-encoded</th>\n      <th>22-encoded</th>\n      <th>23-encoded</th>\n      <th>24-encoded</th>\n      <th>25-encoded</th>\n      <th>26-encoded</th>\n      <th>27-encoded</th>\n    </tr>\n  </thead>\n  <tbody>\n    <tr>\n      <th>0</th>\n      <td>8656</td>\n      <td>United States</td>\n      <td>1.0</td>\n      <td>Sterling B2B Integration</td>\n      <td>STER FILEGWA</td>\n      <td>B2B Integrator</td>\n      <td>B2B INTEGRATOR AO GLOBAL HIGH AVAILABILITY MB ...</td>\n      <td>Transaction</td>\n      <td>0.000000</td>\n      <td>0.000000</td>\n      <td>...</td>\n      <td>NaN</td>\n      <td>NaN</td>\n      <td>NaN</td>\n      <td>NaN</td>\n      <td>NaN</td>\n      <td>NaN</td>\n      <td>NaN</td>\n      <td>NaN</td>\n      <td>NaN</td>\n      <td>NaN</td>\n    </tr>\n    <tr>\n      <th>1</th>\n      <td>8656</td>\n      <td>United States</td>\n      <td>1.0</td>\n      <td>Sterling B2B Integration</td>\n      <td>STER FILEGWA</td>\n      <td>B2B Integrator</td>\n      <td>B2B INTEGRATOR AO GLOBAL HIGH AVAILABILITY MB ...</td>\n      <td>Subs &amp; Supp</td>\n      <td>0.000000</td>\n      <td>0.000000</td>\n      <td>...</td>\n      <td>4.0</td>\n      <td>4.0</td>\n      <td>4.0</td>\n      <td>4.0</td>\n      <td>4.0</td>\n      <td>4.0</td>\n      <td>4.0</td>\n      <td>4.0</td>\n      <td>4.0</td>\n      <td>4.0</td>\n    </tr>\n    <tr>\n      <th>2</th>\n      <td>8656</td>\n      <td>United States</td>\n      <td>1.0</td>\n      <td>Sterling B2B Integration</td>\n      <td>STER FILEGWA</td>\n      <td>B2B Integrator</td>\n      <td>B2B INTEGRATOR AO GLOBAL HIGH AVAILABILITY MB ...</td>\n      <td>Subs &amp; Supp</td>\n      <td>0.000000</td>\n      <td>0.000000</td>\n      <td>...</td>\n      <td>4.0</td>\n      <td>4.0</td>\n      <td>4.0</td>\n      <td>4.0</td>\n      <td>4.0</td>\n      <td>4.0</td>\n      <td>4.0</td>\n      <td>4.0</td>\n      <td>4.0</td>\n      <td>4.0</td>\n    </tr>\n    <tr>\n      <th>3</th>\n      <td>8656</td>\n      <td>United States</td>\n      <td>1.0</td>\n      <td>Sterling B2B Integration</td>\n      <td>STER FILEGWA</td>\n      <td>B2B Integrator</td>\n      <td>STERLING B2B INTEGRATOR ENT ED PVU SUPT</td>\n      <td>Subs &amp; Supp</td>\n      <td>0.000903</td>\n      <td>0.000538</td>\n      <td>...</td>\n      <td>4.0</td>\n      <td>4.0</td>\n      <td>4.0</td>\n      <td>4.0</td>\n      <td>4.0</td>\n      <td>4.0</td>\n      <td>4.0</td>\n      <td>4.0</td>\n      <td>4.0</td>\n      <td>4.0</td>\n    </tr>\n    <tr>\n      <th>4</th>\n      <td>8656</td>\n      <td>United States</td>\n      <td>1.0</td>\n      <td>Sterling B2B Integration</td>\n      <td>STER FILEGWA</td>\n      <td>B2B Integrator</td>\n      <td>STERLING B2B INTEGRATOR ENT ED PVU SUB</td>\n      <td>Subs &amp; Supp</td>\n      <td>0.003611</td>\n      <td>0.002153</td>\n      <td>...</td>\n      <td>4.0</td>\n      <td>4.0</td>\n      <td>4.0</td>\n      <td>4.0</td>\n      <td>4.0</td>\n      <td>4.0</td>\n      <td>4.0</td>\n      <td>4.0</td>\n      <td>4.0</td>\n      <td>4.0</td>\n    </tr>\n    <tr>\n      <th>...</th>\n      <td>...</td>\n      <td>...</td>\n      <td>...</td>\n      <td>...</td>\n      <td>...</td>\n      <td>...</td>\n      <td>...</td>\n      <td>...</td>\n      <td>...</td>\n      <td>...</td>\n      <td>...</td>\n      <td>...</td>\n      <td>...</td>\n      <td>...</td>\n      <td>...</td>\n      <td>...</td>\n      <td>...</td>\n      <td>...</td>\n      <td>...</td>\n      <td>...</td>\n      <td>...</td>\n    </tr>\n    <tr>\n      <th>89517</th>\n      <td>7633</td>\n      <td>New Zealand</td>\n      <td>1.0</td>\n      <td>Sterling Transformation Extender</td>\n      <td>STER TRANSX</td>\n      <td>WS Transfrm Ext Pk Design Studio</td>\n      <td>WS Transfrm Ext Pk Design Studio</td>\n      <td>B2B SW</td>\n      <td>0.000180</td>\n      <td>0.000108</td>\n      <td>...</td>\n      <td>160.0</td>\n      <td>160.0</td>\n      <td>160.0</td>\n      <td>160.0</td>\n      <td>160.0</td>\n      <td>160.0</td>\n      <td>160.0</td>\n      <td>160.0</td>\n      <td>NaN</td>\n      <td>NaN</td>\n    </tr>\n    <tr>\n      <th>89518</th>\n      <td>7633</td>\n      <td>New Zealand</td>\n      <td>1.0</td>\n      <td>Sterling Transformation Extender</td>\n      <td>STER TRANSX</td>\n      <td>WebSphere Tran Ext Integration Svr</td>\n      <td>WebSphere Tran Ext Integration Svr</td>\n      <td>B2B SW</td>\n      <td>0.001874</td>\n      <td>0.001117</td>\n      <td>...</td>\n      <td>NaN</td>\n      <td>NaN</td>\n      <td>NaN</td>\n      <td>NaN</td>\n      <td>NaN</td>\n      <td>NaN</td>\n      <td>NaN</td>\n      <td>NaN</td>\n      <td>NaN</td>\n      <td>NaN</td>\n    </tr>\n    <tr>\n      <th>89519</th>\n      <td>7633</td>\n      <td>New Zealand</td>\n      <td>1.0</td>\n      <td>Sterling Transformation Extender</td>\n      <td>STER TRANSX</td>\n      <td>WS Transform Ext Pk SWIFT</td>\n      <td>WS Transform Ext Pk SWIFT</td>\n      <td>B2B SW</td>\n      <td>0.003227</td>\n      <td>0.001923</td>\n      <td>...</td>\n      <td>NaN</td>\n      <td>NaN</td>\n      <td>NaN</td>\n      <td>NaN</td>\n      <td>NaN</td>\n      <td>NaN</td>\n      <td>NaN</td>\n      <td>NaN</td>\n      <td>NaN</td>\n      <td>NaN</td>\n    </tr>\n    <tr>\n      <th>89520</th>\n      <td>7633</td>\n      <td>New Zealand</td>\n      <td>1.0</td>\n      <td>Sterling B2B Integration</td>\n      <td>STER FILEGWA</td>\n      <td>MFT File Gateway</td>\n      <td>MFT File Gateway</td>\n      <td>B2B SW</td>\n      <td>0.001984</td>\n      <td>0.001183</td>\n      <td>...</td>\n      <td>NaN</td>\n      <td>NaN</td>\n      <td>NaN</td>\n      <td>NaN</td>\n      <td>NaN</td>\n      <td>NaN</td>\n      <td>NaN</td>\n      <td>NaN</td>\n      <td>NaN</td>\n      <td>NaN</td>\n    </tr>\n    <tr>\n      <th>89521</th>\n      <td>7633</td>\n      <td>New Zealand</td>\n      <td>1.0</td>\n      <td>Sterling B2B Integration</td>\n      <td>STER FILEGWA</td>\n      <td>B2B Integrator Financial</td>\n      <td>B2B Integrator Financial</td>\n      <td>B2B SW</td>\n      <td>0.003062</td>\n      <td>0.001825</td>\n      <td>...</td>\n      <td>NaN</td>\n      <td>NaN</td>\n      <td>NaN</td>\n      <td>NaN</td>\n      <td>NaN</td>\n      <td>NaN</td>\n      <td>NaN</td>\n      <td>NaN</td>\n      <td>NaN</td>\n      <td>NaN</td>\n    </tr>\n  </tbody>\n</table>\n<p>16555 rows × 68 columns</p>\n</div>"
     },
     "execution_count": 32,
     "metadata": {},
     "output_type": "execute_result"
    }
   ],
   "source": [
    "# Create duplicate columns of each quarter, fill with the encoded CombinedProductName and filter out which revenue is less than 0\n",
    "col_revenue = ['20161','20162','20163','20164','20171','20172','20173','20174','20181','20182','20183','20184','20191','20192','20193','20194','20201','20202','20203','20204','20211','20212','20213','20214','20221','20222','20223','20224']\n",
    "\n",
    "for index,col_name in enumerate(col_revenue):\n",
    "    sales_data_encoded_product_industry_one[f'{index}-encoded'] =  sales_data_encoded_product_industry_one['CombinedProductName']\n",
    "\n",
    "for index,col_name in enumerate(col_revenue):\n",
    "    sales_data_encoded_product_industry_one[f'{index}-encoded'].mask(sales_data[col_name] <= 0 , inplace=True)\n",
    "\n",
    "sales_data_encoded_product_industry_one"
   ],
   "metadata": {
    "collapsed": false,
    "ExecuteTime": {
     "end_time": "2023-08-21T05:33:32.431753Z",
     "start_time": "2023-08-21T05:33:32.315494Z"
    }
   }
  },
  {
   "cell_type": "code",
   "execution_count": 33,
   "outputs": [
    {
     "data": {
      "text/plain": "0          NaN\n1          NaN\n2          NaN\n3          4.0\n4          4.0\n         ...  \n89517    160.0\n89518    168.0\n89519    149.0\n89520     27.0\n89521      6.0\nName: 1-encoded, Length: 16555, dtype: float64"
     },
     "execution_count": 33,
     "metadata": {},
     "output_type": "execute_result"
    }
   ],
   "source": [
    "# Take a look of column 1-encoded (201602)\n",
    "sales_data_encoded_product_industry_one['1-encoded']"
   ],
   "metadata": {
    "collapsed": false,
    "ExecuteTime": {
     "end_time": "2023-08-21T05:33:32.434556Z",
     "start_time": "2023-08-21T05:33:32.364389Z"
    }
   }
  },
  {
   "cell_type": "code",
   "execution_count": 34,
   "outputs": [
    {
     "data": {
      "text/plain": "9364"
     },
     "execution_count": 34,
     "metadata": {},
     "output_type": "execute_result"
    }
   ],
   "source": [
    "# Check from 87081 columns, how many from column 1-encoded (201602) is NaN: 9364 [without filtering was 43214]\n",
    "sales_data_encoded_product_industry_one['1-encoded'].isna().sum()"
   ],
   "metadata": {
    "collapsed": false,
    "ExecuteTime": {
     "end_time": "2023-08-21T05:33:32.453147Z",
     "start_time": "2023-08-21T05:33:32.367365Z"
    }
   }
  },
  {
   "cell_type": "code",
   "execution_count": 35,
   "outputs": [
    {
     "name": "stdout",
     "output_type": "stream",
     "text": [
      "<class 'pandas.core.frame.DataFrame'>\n",
      "Index: 16555 entries, 0 to 89521\n",
      "Data columns (total 68 columns):\n",
      " #   Column               Non-Null Count  Dtype  \n",
      "---  ------               --------------  -----  \n",
      " 0   ZXGID                16555 non-null  int64  \n",
      " 1   Country              16555 non-null  object \n",
      " 2   Industry             16555 non-null  object \n",
      " 3   UT L30 - Segment     16555 non-null  object \n",
      " 4   Family               16555 non-null  object \n",
      " 5   Product name         16555 non-null  object \n",
      " 6   PA part description  16555 non-null  object \n",
      " 7   Rev type             16555 non-null  object \n",
      " 8   20161                16555 non-null  float64\n",
      " 9   20162                16555 non-null  float64\n",
      " 10  20163                16555 non-null  float64\n",
      " 11  20164                16555 non-null  float64\n",
      " 12  20171                16555 non-null  float64\n",
      " 13  20172                16555 non-null  float64\n",
      " 14  20173                16555 non-null  float64\n",
      " 15  20174                16555 non-null  float64\n",
      " 16  20181                16555 non-null  float64\n",
      " 17  20182                16555 non-null  float64\n",
      " 18  20183                16555 non-null  float64\n",
      " 19  20184                16555 non-null  float64\n",
      " 20  20191                16555 non-null  float64\n",
      " 21  20192                16555 non-null  float64\n",
      " 22  20193                16555 non-null  float64\n",
      " 23  20194                16555 non-null  float64\n",
      " 24  20201                16555 non-null  float64\n",
      " 25  20202                16555 non-null  float64\n",
      " 26  20203                16555 non-null  float64\n",
      " 27  20204                16555 non-null  float64\n",
      " 28  20211                16555 non-null  float64\n",
      " 29  20212                16555 non-null  float64\n",
      " 30  20213                16555 non-null  float64\n",
      " 31  20214                16555 non-null  float64\n",
      " 32  20221                16555 non-null  float64\n",
      " 33  20222                16555 non-null  float64\n",
      " 34  20223                16555 non-null  float64\n",
      " 35  20224                16555 non-null  float64\n",
      " 36  Grand Total          16555 non-null  float64\n",
      " 37  CombinedProductName  16555 non-null  int64  \n",
      " 38  Sum_train            16555 non-null  float64\n",
      " 39  Sum_test             16555 non-null  float64\n",
      " 40  0-encoded            6971 non-null   float64\n",
      " 41  1-encoded            7191 non-null   float64\n",
      " 42  2-encoded            7156 non-null   float64\n",
      " 43  3-encoded            7407 non-null   float64\n",
      " 44  4-encoded            7275 non-null   float64\n",
      " 45  5-encoded            7387 non-null   float64\n",
      " 46  6-encoded            7419 non-null   float64\n",
      " 47  7-encoded            7783 non-null   float64\n",
      " 48  8-encoded            7221 non-null   float64\n",
      " 49  9-encoded            7309 non-null   float64\n",
      " 50  10-encoded           7315 non-null   float64\n",
      " 51  11-encoded           7624 non-null   float64\n",
      " 52  12-encoded           7453 non-null   float64\n",
      " 53  13-encoded           7546 non-null   float64\n",
      " 54  14-encoded           7520 non-null   float64\n",
      " 55  15-encoded           7697 non-null   float64\n",
      " 56  16-encoded           7261 non-null   float64\n",
      " 57  17-encoded           7377 non-null   float64\n",
      " 58  18-encoded           7433 non-null   float64\n",
      " 59  19-encoded           7616 non-null   float64\n",
      " 60  20-encoded           7413 non-null   float64\n",
      " 61  21-encoded           7499 non-null   float64\n",
      " 62  22-encoded           7550 non-null   float64\n",
      " 63  23-encoded           7761 non-null   float64\n",
      " 64  24-encoded           7465 non-null   float64\n",
      " 65  25-encoded           7636 non-null   float64\n",
      " 66  26-encoded           7558 non-null   float64\n",
      " 67  27-encoded           7759 non-null   float64\n",
      "dtypes: float64(59), int64(2), object(7)\n",
      "memory usage: 9.2+ MB\n"
     ]
    }
   ],
   "source": [
    "# Check type of columns\n",
    "sales_data_encoded_product_industry_one.info()"
   ],
   "metadata": {
    "collapsed": false,
    "ExecuteTime": {
     "end_time": "2023-08-21T05:33:32.502012Z",
     "start_time": "2023-08-21T05:33:32.371167Z"
    }
   }
  },
  {
   "cell_type": "code",
   "execution_count": 36,
   "outputs": [
    {
     "name": "stdout",
     "output_type": "stream",
     "text": [
      "      0-encoded\n",
      "ZXGID          \n",
      "163        58.0\n",
      "291        58.0\n",
      "334       123.0\n",
      "371        58.0\n",
      "407        58.0\n",
      "...         ...\n",
      "10653      58.0\n",
      "10656      58.0\n",
      "10665      58.0\n",
      "10674      58.0\n",
      "10725      58.0\n",
      "\n",
      "[496 rows x 1 columns]\n"
     ]
    },
    {
     "name": "stderr",
     "output_type": "stream",
     "text": [
      "/var/folders/kt/n_01c2t91fz15bhz621qz2640000gn/T/ipykernel_95569/2032845206.py:5: SettingWithCopyWarning: \n",
      "A value is trying to be set on a copy of a slice from a DataFrame.\n",
      "Try using .loc[row_indexer,col_indexer] = value instead\n",
      "\n",
      "See the caveats in the documentation: https://pandas.pydata.org/pandas-docs/stable/user_guide/indexing.html#returning-a-view-versus-a-copy\n",
      "  filtered['0-encoded'] = filtered['0-encoded'].astype(str)\n"
     ]
    },
    {
     "data": {
      "text/plain": "     ZXGID\n0     8656\n1     7862\n2     7396\n3     8308\n4     8196\n..     ...\n710   7947\n711   2614\n712  10147\n713   4698\n714   6010\n\n[715 rows x 1 columns]",
      "text/html": "<div>\n<style scoped>\n    .dataframe tbody tr th:only-of-type {\n        vertical-align: middle;\n    }\n\n    .dataframe tbody tr th {\n        vertical-align: top;\n    }\n\n    .dataframe thead th {\n        text-align: right;\n    }\n</style>\n<table border=\"1\" class=\"dataframe\">\n  <thead>\n    <tr style=\"text-align: right;\">\n      <th></th>\n      <th>ZXGID</th>\n    </tr>\n  </thead>\n  <tbody>\n    <tr>\n      <th>0</th>\n      <td>8656</td>\n    </tr>\n    <tr>\n      <th>1</th>\n      <td>7862</td>\n    </tr>\n    <tr>\n      <th>2</th>\n      <td>7396</td>\n    </tr>\n    <tr>\n      <th>3</th>\n      <td>8308</td>\n    </tr>\n    <tr>\n      <th>4</th>\n      <td>8196</td>\n    </tr>\n    <tr>\n      <th>...</th>\n      <td>...</td>\n    </tr>\n    <tr>\n      <th>710</th>\n      <td>7947</td>\n    </tr>\n    <tr>\n      <th>711</th>\n      <td>2614</td>\n    </tr>\n    <tr>\n      <th>712</th>\n      <td>10147</td>\n    </tr>\n    <tr>\n      <th>713</th>\n      <td>4698</td>\n    </tr>\n    <tr>\n      <th>714</th>\n      <td>6010</td>\n    </tr>\n  </tbody>\n</table>\n<p>715 rows × 1 columns</p>\n</div>"
     },
     "execution_count": 36,
     "metadata": {},
     "output_type": "execute_result"
    }
   ],
   "source": [
    "# def to_set(x):\n",
    "#     return set(x)\n",
    "\n",
    "filtered = sales_data_encoded_product_industry_one[sales_data_encoded_product_industry_one['0-encoded'] > 0]\n",
    "filtered['0-encoded'] = filtered['0-encoded'].astype(str)\n",
    "grouped = filtered.groupby('ZXGID').agg({'0-encoded': lambda x: \",\".join(list(set(x)))})\n",
    "\n",
    "print(grouped)\n",
    "\n",
    "# Create a dataframe which contains unique company ID: 715 [without filtering was 10730]\n",
    "sales_data_encoded_product_company = pd.DataFrame(pd.unique(sales_data_encoded_product_industry_one['ZXGID']), columns = ['ZXGID'])\n",
    "sales_data_encoded_product_company\n",
    "#print(type(sales_data_encoded_product_company))"
   ],
   "metadata": {
    "collapsed": false,
    "ExecuteTime": {
     "end_time": "2023-08-21T05:33:32.517829Z",
     "start_time": "2023-08-21T05:33:32.381998Z"
    }
   }
  },
  {
   "cell_type": "code",
   "execution_count": 37,
   "outputs": [],
   "source": [
    "# sales_data_encoded_product_company = pd.DataFrame(pd.unique(sales_data_encoded_product_industry_one['ZXGID']), columns = ['ZXGID'])\n",
    "# sales_data_encoded_product_company"
   ],
   "metadata": {
    "collapsed": false,
    "ExecuteTime": {
     "end_time": "2023-08-21T05:33:32.518095Z",
     "start_time": "2023-08-21T05:33:32.396646Z"
    }
   }
  },
  {
   "cell_type": "code",
   "execution_count": 38,
   "outputs": [],
   "source": [
    "#grouped_temp = sales_data_encoded_product.groupby('ZXGID')['Country'].nunique()\n",
    "#grouped_temp\n",
    "# grouped_temp[[grouped_temp['Industry']>1]]"
   ],
   "metadata": {
    "collapsed": false,
    "ExecuteTime": {
     "end_time": "2023-08-21T05:33:32.518139Z",
     "start_time": "2023-08-21T05:33:32.407568Z"
    }
   }
  },
  {
   "cell_type": "code",
   "execution_count": 39,
   "outputs": [],
   "source": [
    "# sales_data_encoded_product_company_quarter = pd.merge(sales_data_encoded_product_company, grouped, on='ZXGID',how='left')\n",
    "# sales_data_encoded_product_company_quarter\n"
   ],
   "metadata": {
    "collapsed": false,
    "ExecuteTime": {
     "end_time": "2023-08-21T05:33:32.518165Z",
     "start_time": "2023-08-21T05:33:32.407724Z"
    }
   }
  },
  {
   "cell_type": "code",
   "execution_count": 40,
   "outputs": [
    {
     "name": "stderr",
     "output_type": "stream",
     "text": [
      "/var/folders/kt/n_01c2t91fz15bhz621qz2640000gn/T/ipykernel_95569/3301155923.py:5: SettingWithCopyWarning: \n",
      "A value is trying to be set on a copy of a slice from a DataFrame.\n",
      "Try using .loc[row_indexer,col_indexer] = value instead\n",
      "\n",
      "See the caveats in the documentation: https://pandas.pydata.org/pandas-docs/stable/user_guide/indexing.html#returning-a-view-versus-a-copy\n",
      "  filtered[col] = filtered[col].astype(str)\n",
      "/var/folders/kt/n_01c2t91fz15bhz621qz2640000gn/T/ipykernel_95569/3301155923.py:5: SettingWithCopyWarning: \n",
      "A value is trying to be set on a copy of a slice from a DataFrame.\n",
      "Try using .loc[row_indexer,col_indexer] = value instead\n",
      "\n",
      "See the caveats in the documentation: https://pandas.pydata.org/pandas-docs/stable/user_guide/indexing.html#returning-a-view-versus-a-copy\n",
      "  filtered[col] = filtered[col].astype(str)\n",
      "/var/folders/kt/n_01c2t91fz15bhz621qz2640000gn/T/ipykernel_95569/3301155923.py:5: SettingWithCopyWarning: \n",
      "A value is trying to be set on a copy of a slice from a DataFrame.\n",
      "Try using .loc[row_indexer,col_indexer] = value instead\n",
      "\n",
      "See the caveats in the documentation: https://pandas.pydata.org/pandas-docs/stable/user_guide/indexing.html#returning-a-view-versus-a-copy\n",
      "  filtered[col] = filtered[col].astype(str)\n",
      "/var/folders/kt/n_01c2t91fz15bhz621qz2640000gn/T/ipykernel_95569/3301155923.py:5: SettingWithCopyWarning: \n",
      "A value is trying to be set on a copy of a slice from a DataFrame.\n",
      "Try using .loc[row_indexer,col_indexer] = value instead\n",
      "\n",
      "See the caveats in the documentation: https://pandas.pydata.org/pandas-docs/stable/user_guide/indexing.html#returning-a-view-versus-a-copy\n",
      "  filtered[col] = filtered[col].astype(str)\n",
      "/var/folders/kt/n_01c2t91fz15bhz621qz2640000gn/T/ipykernel_95569/3301155923.py:5: SettingWithCopyWarning: \n",
      "A value is trying to be set on a copy of a slice from a DataFrame.\n",
      "Try using .loc[row_indexer,col_indexer] = value instead\n",
      "\n",
      "See the caveats in the documentation: https://pandas.pydata.org/pandas-docs/stable/user_guide/indexing.html#returning-a-view-versus-a-copy\n",
      "  filtered[col] = filtered[col].astype(str)\n",
      "/var/folders/kt/n_01c2t91fz15bhz621qz2640000gn/T/ipykernel_95569/3301155923.py:5: SettingWithCopyWarning: \n",
      "A value is trying to be set on a copy of a slice from a DataFrame.\n",
      "Try using .loc[row_indexer,col_indexer] = value instead\n",
      "\n",
      "See the caveats in the documentation: https://pandas.pydata.org/pandas-docs/stable/user_guide/indexing.html#returning-a-view-versus-a-copy\n",
      "  filtered[col] = filtered[col].astype(str)\n",
      "/var/folders/kt/n_01c2t91fz15bhz621qz2640000gn/T/ipykernel_95569/3301155923.py:5: SettingWithCopyWarning: \n",
      "A value is trying to be set on a copy of a slice from a DataFrame.\n",
      "Try using .loc[row_indexer,col_indexer] = value instead\n",
      "\n",
      "See the caveats in the documentation: https://pandas.pydata.org/pandas-docs/stable/user_guide/indexing.html#returning-a-view-versus-a-copy\n",
      "  filtered[col] = filtered[col].astype(str)\n",
      "/var/folders/kt/n_01c2t91fz15bhz621qz2640000gn/T/ipykernel_95569/3301155923.py:5: SettingWithCopyWarning: \n",
      "A value is trying to be set on a copy of a slice from a DataFrame.\n",
      "Try using .loc[row_indexer,col_indexer] = value instead\n",
      "\n",
      "See the caveats in the documentation: https://pandas.pydata.org/pandas-docs/stable/user_guide/indexing.html#returning-a-view-versus-a-copy\n",
      "  filtered[col] = filtered[col].astype(str)\n",
      "/var/folders/kt/n_01c2t91fz15bhz621qz2640000gn/T/ipykernel_95569/3301155923.py:5: SettingWithCopyWarning: \n",
      "A value is trying to be set on a copy of a slice from a DataFrame.\n",
      "Try using .loc[row_indexer,col_indexer] = value instead\n",
      "\n",
      "See the caveats in the documentation: https://pandas.pydata.org/pandas-docs/stable/user_guide/indexing.html#returning-a-view-versus-a-copy\n",
      "  filtered[col] = filtered[col].astype(str)\n",
      "/var/folders/kt/n_01c2t91fz15bhz621qz2640000gn/T/ipykernel_95569/3301155923.py:5: SettingWithCopyWarning: \n",
      "A value is trying to be set on a copy of a slice from a DataFrame.\n",
      "Try using .loc[row_indexer,col_indexer] = value instead\n",
      "\n",
      "See the caveats in the documentation: https://pandas.pydata.org/pandas-docs/stable/user_guide/indexing.html#returning-a-view-versus-a-copy\n",
      "  filtered[col] = filtered[col].astype(str)\n",
      "/var/folders/kt/n_01c2t91fz15bhz621qz2640000gn/T/ipykernel_95569/3301155923.py:5: SettingWithCopyWarning: \n",
      "A value is trying to be set on a copy of a slice from a DataFrame.\n",
      "Try using .loc[row_indexer,col_indexer] = value instead\n",
      "\n",
      "See the caveats in the documentation: https://pandas.pydata.org/pandas-docs/stable/user_guide/indexing.html#returning-a-view-versus-a-copy\n",
      "  filtered[col] = filtered[col].astype(str)\n",
      "/var/folders/kt/n_01c2t91fz15bhz621qz2640000gn/T/ipykernel_95569/3301155923.py:5: SettingWithCopyWarning: \n",
      "A value is trying to be set on a copy of a slice from a DataFrame.\n",
      "Try using .loc[row_indexer,col_indexer] = value instead\n",
      "\n",
      "See the caveats in the documentation: https://pandas.pydata.org/pandas-docs/stable/user_guide/indexing.html#returning-a-view-versus-a-copy\n",
      "  filtered[col] = filtered[col].astype(str)\n",
      "/var/folders/kt/n_01c2t91fz15bhz621qz2640000gn/T/ipykernel_95569/3301155923.py:5: SettingWithCopyWarning: \n",
      "A value is trying to be set on a copy of a slice from a DataFrame.\n",
      "Try using .loc[row_indexer,col_indexer] = value instead\n",
      "\n",
      "See the caveats in the documentation: https://pandas.pydata.org/pandas-docs/stable/user_guide/indexing.html#returning-a-view-versus-a-copy\n",
      "  filtered[col] = filtered[col].astype(str)\n",
      "/var/folders/kt/n_01c2t91fz15bhz621qz2640000gn/T/ipykernel_95569/3301155923.py:5: SettingWithCopyWarning: \n",
      "A value is trying to be set on a copy of a slice from a DataFrame.\n",
      "Try using .loc[row_indexer,col_indexer] = value instead\n",
      "\n",
      "See the caveats in the documentation: https://pandas.pydata.org/pandas-docs/stable/user_guide/indexing.html#returning-a-view-versus-a-copy\n",
      "  filtered[col] = filtered[col].astype(str)\n",
      "/var/folders/kt/n_01c2t91fz15bhz621qz2640000gn/T/ipykernel_95569/3301155923.py:5: SettingWithCopyWarning: \n",
      "A value is trying to be set on a copy of a slice from a DataFrame.\n",
      "Try using .loc[row_indexer,col_indexer] = value instead\n",
      "\n",
      "See the caveats in the documentation: https://pandas.pydata.org/pandas-docs/stable/user_guide/indexing.html#returning-a-view-versus-a-copy\n",
      "  filtered[col] = filtered[col].astype(str)\n",
      "/var/folders/kt/n_01c2t91fz15bhz621qz2640000gn/T/ipykernel_95569/3301155923.py:5: SettingWithCopyWarning: \n",
      "A value is trying to be set on a copy of a slice from a DataFrame.\n",
      "Try using .loc[row_indexer,col_indexer] = value instead\n",
      "\n",
      "See the caveats in the documentation: https://pandas.pydata.org/pandas-docs/stable/user_guide/indexing.html#returning-a-view-versus-a-copy\n",
      "  filtered[col] = filtered[col].astype(str)\n",
      "/var/folders/kt/n_01c2t91fz15bhz621qz2640000gn/T/ipykernel_95569/3301155923.py:5: SettingWithCopyWarning: \n",
      "A value is trying to be set on a copy of a slice from a DataFrame.\n",
      "Try using .loc[row_indexer,col_indexer] = value instead\n",
      "\n",
      "See the caveats in the documentation: https://pandas.pydata.org/pandas-docs/stable/user_guide/indexing.html#returning-a-view-versus-a-copy\n",
      "  filtered[col] = filtered[col].astype(str)\n",
      "/var/folders/kt/n_01c2t91fz15bhz621qz2640000gn/T/ipykernel_95569/3301155923.py:5: SettingWithCopyWarning: \n",
      "A value is trying to be set on a copy of a slice from a DataFrame.\n",
      "Try using .loc[row_indexer,col_indexer] = value instead\n",
      "\n",
      "See the caveats in the documentation: https://pandas.pydata.org/pandas-docs/stable/user_guide/indexing.html#returning-a-view-versus-a-copy\n",
      "  filtered[col] = filtered[col].astype(str)\n",
      "/var/folders/kt/n_01c2t91fz15bhz621qz2640000gn/T/ipykernel_95569/3301155923.py:5: SettingWithCopyWarning: \n",
      "A value is trying to be set on a copy of a slice from a DataFrame.\n",
      "Try using .loc[row_indexer,col_indexer] = value instead\n",
      "\n",
      "See the caveats in the documentation: https://pandas.pydata.org/pandas-docs/stable/user_guide/indexing.html#returning-a-view-versus-a-copy\n",
      "  filtered[col] = filtered[col].astype(str)\n",
      "/var/folders/kt/n_01c2t91fz15bhz621qz2640000gn/T/ipykernel_95569/3301155923.py:5: SettingWithCopyWarning: \n",
      "A value is trying to be set on a copy of a slice from a DataFrame.\n",
      "Try using .loc[row_indexer,col_indexer] = value instead\n",
      "\n",
      "See the caveats in the documentation: https://pandas.pydata.org/pandas-docs/stable/user_guide/indexing.html#returning-a-view-versus-a-copy\n",
      "  filtered[col] = filtered[col].astype(str)\n",
      "/var/folders/kt/n_01c2t91fz15bhz621qz2640000gn/T/ipykernel_95569/3301155923.py:5: SettingWithCopyWarning: \n",
      "A value is trying to be set on a copy of a slice from a DataFrame.\n",
      "Try using .loc[row_indexer,col_indexer] = value instead\n",
      "\n",
      "See the caveats in the documentation: https://pandas.pydata.org/pandas-docs/stable/user_guide/indexing.html#returning-a-view-versus-a-copy\n",
      "  filtered[col] = filtered[col].astype(str)\n",
      "/var/folders/kt/n_01c2t91fz15bhz621qz2640000gn/T/ipykernel_95569/3301155923.py:5: SettingWithCopyWarning: \n",
      "A value is trying to be set on a copy of a slice from a DataFrame.\n",
      "Try using .loc[row_indexer,col_indexer] = value instead\n",
      "\n",
      "See the caveats in the documentation: https://pandas.pydata.org/pandas-docs/stable/user_guide/indexing.html#returning-a-view-versus-a-copy\n",
      "  filtered[col] = filtered[col].astype(str)\n",
      "/var/folders/kt/n_01c2t91fz15bhz621qz2640000gn/T/ipykernel_95569/3301155923.py:5: SettingWithCopyWarning: \n",
      "A value is trying to be set on a copy of a slice from a DataFrame.\n",
      "Try using .loc[row_indexer,col_indexer] = value instead\n",
      "\n",
      "See the caveats in the documentation: https://pandas.pydata.org/pandas-docs/stable/user_guide/indexing.html#returning-a-view-versus-a-copy\n",
      "  filtered[col] = filtered[col].astype(str)\n",
      "/var/folders/kt/n_01c2t91fz15bhz621qz2640000gn/T/ipykernel_95569/3301155923.py:5: SettingWithCopyWarning: \n",
      "A value is trying to be set on a copy of a slice from a DataFrame.\n",
      "Try using .loc[row_indexer,col_indexer] = value instead\n",
      "\n",
      "See the caveats in the documentation: https://pandas.pydata.org/pandas-docs/stable/user_guide/indexing.html#returning-a-view-versus-a-copy\n",
      "  filtered[col] = filtered[col].astype(str)\n",
      "/var/folders/kt/n_01c2t91fz15bhz621qz2640000gn/T/ipykernel_95569/3301155923.py:5: SettingWithCopyWarning: \n",
      "A value is trying to be set on a copy of a slice from a DataFrame.\n",
      "Try using .loc[row_indexer,col_indexer] = value instead\n",
      "\n",
      "See the caveats in the documentation: https://pandas.pydata.org/pandas-docs/stable/user_guide/indexing.html#returning-a-view-versus-a-copy\n",
      "  filtered[col] = filtered[col].astype(str)\n",
      "/var/folders/kt/n_01c2t91fz15bhz621qz2640000gn/T/ipykernel_95569/3301155923.py:5: SettingWithCopyWarning: \n",
      "A value is trying to be set on a copy of a slice from a DataFrame.\n",
      "Try using .loc[row_indexer,col_indexer] = value instead\n",
      "\n",
      "See the caveats in the documentation: https://pandas.pydata.org/pandas-docs/stable/user_guide/indexing.html#returning-a-view-versus-a-copy\n",
      "  filtered[col] = filtered[col].astype(str)\n",
      "/var/folders/kt/n_01c2t91fz15bhz621qz2640000gn/T/ipykernel_95569/3301155923.py:5: SettingWithCopyWarning: \n",
      "A value is trying to be set on a copy of a slice from a DataFrame.\n",
      "Try using .loc[row_indexer,col_indexer] = value instead\n",
      "\n",
      "See the caveats in the documentation: https://pandas.pydata.org/pandas-docs/stable/user_guide/indexing.html#returning-a-view-versus-a-copy\n",
      "  filtered[col] = filtered[col].astype(str)\n",
      "/var/folders/kt/n_01c2t91fz15bhz621qz2640000gn/T/ipykernel_95569/3301155923.py:5: SettingWithCopyWarning: \n",
      "A value is trying to be set on a copy of a slice from a DataFrame.\n",
      "Try using .loc[row_indexer,col_indexer] = value instead\n",
      "\n",
      "See the caveats in the documentation: https://pandas.pydata.org/pandas-docs/stable/user_guide/indexing.html#returning-a-view-versus-a-copy\n",
      "  filtered[col] = filtered[col].astype(str)\n"
     ]
    },
    {
     "data": {
      "text/plain": "     ZXGID                                          0-encoded  \\\n0     8656  74.0,27.0,123.0,61.0,66.0,4.0,160.0,65.0,77.0,...   \n1     7862  123.0,173.0,158.0,101.0,66.0,160.0,71.0,50.0,1...   \n2     7396  27.0,149.0,76.0,68.0,147.0,168.0,61.0,66.0,4.0...   \n3     8308  74.0,27.0,173.0,66.0,52.0,5.0,4.0,160.0,65.0,5...   \n4     8196  74.0,27.0,76.0,112.0,124.0,87.0,37.0,52.0,115....   \n..     ...                                                ...   \n710   7947                                              123.0   \n711   2614                                                NaN   \n712  10147                                                NaN   \n713   4698                                              125.0   \n714   6010                                                NaN   \n\n                                             1-encoded  \\\n0    74.0,27.0,123.0,66.0,4.0,160.0,65.0,77.0,58.0,6.0   \n1    123.0,173.0,158.0,31.0,101.0,66.0,160.0,71.0,5...   \n2    27.0,149.0,76.0,68.0,147.0,168.0,109.0,66.0,4....   \n3    74.0,27.0,173.0,66.0,52.0,5.0,4.0,160.0,65.0,5...   \n4    74.0,27.0,76.0,112.0,124.0,87.0,37.0,110.0,115...   \n..                                                 ...   \n710                                              123.0   \n711                                                NaN   \n712                                                NaN   \n713                                              125.0   \n714                                                NaN   \n\n                                             2-encoded  \\\n0    74.0,27.0,123.0,66.0,4.0,160.0,65.0,77.0,58.0,6.0   \n1    123.0,158.0,31.0,101.0,66.0,160.0,71.0,50.0,59...   \n2    27.0,149.0,76.0,68.0,147.0,168.0,61.0,109.0,66...   \n3    74.0,27.0,173.0,66.0,52.0,5.0,160.0,65.0,58.0,...   \n4    74.0,27.0,76.0,112.0,66.0,37.0,4.0,115.0,110.0...   \n..                                                 ...   \n710                                              123.0   \n711                                                NaN   \n712                                                NaN   \n713                                              125.0   \n714                                                NaN   \n\n                                             3-encoded  \\\n0    74.0,27.0,123.0,66.0,4.0,160.0,65.0,77.0,58.0,6.0   \n1    123.0,158.0,31.0,101.0,66.0,160.0,71.0,50.0,59...   \n2    149.0,171.0,109.0,66.0,65.0,76.0,147.0,73.0,16...   \n3    74.0,27.0,173.0,66.0,52.0,5.0,160.0,65.0,58.0,...   \n4    74.0,27.0,76.0,112.0,124.0,75.0,66.0,37.0,4.0,...   \n..                                                 ...   \n710                                              123.0   \n711                                               26.0   \n712                                                NaN   \n713                                              125.0   \n714                                                NaN   \n\n                                             4-encoded  \\\n0    74.0,27.0,76.0,123.0,87.0,66.0,4.0,160.0,65.0,...   \n1    123.0,158.0,101.0,66.0,160.0,71.0,50.0,141.0,58.0   \n2    27.0,149.0,76.0,68.0,147.0,109.0,66.0,160.0,4....   \n3         74.0,27.0,66.0,5.0,160.0,65.0,141.0,58.0,6.0   \n4    74.0,27.0,76.0,112.0,124.0,75.0,66.0,37.0,4.0,...   \n..                                                 ...   \n710                                              123.0   \n711                                                NaN   \n712                                                NaN   \n713                                              125.0   \n714                                                NaN   \n\n                                             5-encoded  \\\n0    74.0,27.0,76.0,123.0,87.0,66.0,4.0,160.0,65.0,...   \n1    123.0,158.0,101.0,66.0,160.0,71.0,50.0,141.0,5...   \n2    27.0,149.0,76.0,68.0,147.0,109.0,66.0,160.0,4....   \n3                  74.0,5.0,52.0,160.0,65.0,141.0,58.0   \n4    74.0,27.0,76.0,112.0,124.0,87.0,66.0,37.0,4.0,...   \n..                                                 ...   \n710                                              123.0   \n711                                                NaN   \n712                                                NaN   \n713                                              125.0   \n714                                                NaN   \n\n                                             6-encoded  \\\n0    74.0,27.0,76.0,123.0,87.0,66.0,4.0,160.0,65.0,...   \n1    123.0,158.0,101.0,66.0,160.0,71.0,50.0,141.0,5...   \n2    27.0,149.0,76.0,68.0,147.0,109.0,66.0,160.0,4....   \n3    74.0,27.0,31.0,66.0,52.0,5.0,160.0,65.0,141.0,...   \n4    74.0,27.0,76.0,112.0,124.0,87.0,66.0,37.0,4.0,...   \n..                                                 ...   \n710                                              123.0   \n711                                                NaN   \n712                                                NaN   \n713                                              125.0   \n714                                                NaN   \n\n                                             7-encoded  \\\n0    74.0,27.0,76.0,123.0,87.0,66.0,4.0,160.0,65.0,...   \n1    27.0,123.0,158.0,101.0,66.0,160.0,50.0,141.0,58.0   \n2    27.0,76.0,109.0,147.0,31.0,66.0,160.0,4.0,115....   \n3    74.0,27.0,31.0,66.0,52.0,5.0,4.0,160.0,140.0,6...   \n4    74.0,27.0,76.0,112.0,124.0,87.0,66.0,37.0,4.0,...   \n..                                                 ...   \n710                                              123.0   \n711                                                NaN   \n712                                                NaN   \n713                                              125.0   \n714                                                NaN   \n\n                                             8-encoded  ...  \\\n0    74.0,27.0,76.0,123.0,66.0,4.0,160.0,49.0,65.0,...  ...   \n1    27.0,123.0,158.0,101.0,66.0,160.0,50.0,141.0,58.0  ...   \n2    27.0,76.0,109.0,147.0,31.0,66.0,84.0,160.0,4.0...  ...   \n3    74.0,27.0,31.0,66.0,52.0,5.0,4.0,160.0,140.0,6...  ...   \n4    74.0,27.0,76.0,112.0,124.0,31.0,66.0,37.0,4.0,...  ...   \n..                                                 ...  ...   \n710                                              123.0  ...   \n711                                                NaN  ...   \n712                                                NaN  ...   \n713                                              125.0  ...   \n714                                                NaN  ...   \n\n                                            18-encoded  \\\n0               27.0,40.0,66.0,4.0,3.0,160.0,65.0,58.0   \n1                            27.0,123.0,66.0,50.0,58.0   \n2    27.0,76.0,109.0,147.0,66.0,140.0,160.0,4.0,115...   \n3    74.0,27.0,109.0,31.0,66.0,5.0,4.0,160.0,140.0,...   \n4    74.0,27.0,76.0,112.0,124.0,127.0,53.0,31.0,75....   \n..                                                 ...   \n710                                              125.0   \n711                                                NaN   \n712                                                NaN   \n713                                              125.0   \n714                                                NaN   \n\n                                            19-encoded  \\\n0    74.0,27.0,40.0,76.0,66.0,37.0,4.0,3.0,160.0,65...   \n1                            27.0,124.0,66.0,50.0,58.0   \n2    27.0,149.0,76.0,147.0,66.0,160.0,4.0,49.0,50.0...   \n3    74.0,27.0,109.0,31.0,66.0,5.0,4.0,160.0,140.0,...   \n4    74.0,27.0,76.0,53.0,75.0,66.0,37.0,4.0,86.0,50...   \n..                                                 ...   \n710                                              125.0   \n711                                                NaN   \n712                                                NaN   \n713                                              125.0   \n714                                                NaN   \n\n                                            20-encoded  \\\n0    74.0,27.0,40.0,76.0,66.0,37.0,4.0,3.0,160.0,65...   \n1                                  50.0,27.0,66.0,58.0   \n2    27.0,149.0,147.0,73.0,66.0,160.0,4.0,49.0,50.0...   \n3       74.0,27.0,109.0,31.0,5.0,160.0,65.0,141.0,58.0   \n4    74.0,27.0,76.0,75.0,66.0,37.0,4.0,86.0,50.0,65...   \n..                                                 ...   \n710                                              125.0   \n711                                                NaN   \n712                                                NaN   \n713                                              125.0   \n714                                                NaN   \n\n                                            21-encoded  \\\n0    74.0,27.0,40.0,76.0,66.0,37.0,4.0,3.0,160.0,65...   \n1                                  50.0,27.0,66.0,58.0   \n2    27.0,149.0,147.0,66.0,160.0,4.0,49.0,50.0,65.0...   \n3       74.0,27.0,109.0,31.0,5.0,160.0,65.0,141.0,58.0   \n4    74.0,27.0,76.0,31.0,75.0,66.0,37.0,4.0,86.0,50...   \n..                                                 ...   \n710                                              125.0   \n711                                                NaN   \n712                                                NaN   \n713                                              125.0   \n714                                                NaN   \n\n                                            22-encoded  \\\n0    74.0,27.0,40.0,76.0,66.0,37.0,4.0,3.0,160.0,65...   \n1                                  50.0,27.0,66.0,58.0   \n2    27.0,149.0,76.0,147.0,73.0,140.0,160.0,4.0,49....   \n3             74.0,27.0,31.0,5.0,160.0,65.0,141.0,58.0   \n4    74.0,27.0,76.0,75.0,66.0,37.0,4.0,86.0,50.0,65...   \n..                                                 ...   \n710                                              125.0   \n711                                                NaN   \n712                                                NaN   \n713                                              125.0   \n714                                                NaN   \n\n                                            23-encoded  \\\n0    74.0,27.0,40.0,76.0,66.0,37.0,4.0,3.0,160.0,65...   \n1                                  50.0,27.0,66.0,58.0   \n2    27.0,147.0,66.0,140.0,160.0,4.0,49.0,50.0,65.0...   \n3             74.0,27.0,31.0,5.0,160.0,65.0,141.0,58.0   \n4    74.0,27.0,76.0,75.0,66.0,37.0,4.0,86.0,50.0,65...   \n..                                                 ...   \n710                                              125.0   \n711                                                NaN   \n712                                                NaN   \n713                                              125.0   \n714                                                NaN   \n\n                                            24-encoded  \\\n0    74.0,27.0,40.0,76.0,31.0,66.0,37.0,4.0,3.0,160...   \n1                                  50.0,27.0,66.0,58.0   \n2    27.0,147.0,66.0,140.0,160.0,4.0,49.0,50.0,65.0...   \n3             74.0,27.0,31.0,5.0,160.0,65.0,141.0,58.0   \n4     74.0,27.0,75.0,66.0,4.0,86.0,65.0,58.0,94.0,96.0   \n..                                                 ...   \n710                                              125.0   \n711                                                NaN   \n712                                                NaN   \n713                                              125.0   \n714                                                NaN   \n\n                                            25-encoded  \\\n0    74.0,27.0,40.0,76.0,31.0,66.0,37.0,4.0,3.0,160...   \n1                                  50.0,27.0,66.0,58.0   \n2    27.0,147.0,66.0,140.0,160.0,4.0,49.0,86.0,50.0...   \n3       74.0,27.0,109.0,31.0,5.0,160.0,65.0,141.0,58.0   \n4    74.0,27.0,76.0,75.0,66.0,37.0,4.0,86.0,50.0,65...   \n..                                                 ...   \n710                                              125.0   \n711                                                NaN   \n712                                                NaN   \n713                                                NaN   \n714                                                NaN   \n\n                                            26-encoded  \\\n0    74.0,27.0,40.0,76.0,31.0,66.0,37.0,4.0,3.0,160...   \n1                                  50.0,27.0,66.0,58.0   \n2    27.0,147.0,66.0,140.0,160.0,4.0,49.0,86.0,50.0...   \n3    74.0,27.0,109.0,31.0,5.0,160.0,65.0,141.0,58.0...   \n4    74.0,27.0,76.0,75.0,66.0,37.0,4.0,86.0,50.0,65...   \n..                                                 ...   \n710                                              125.0   \n711                                                NaN   \n712                                                NaN   \n713                                                NaN   \n714                                                NaN   \n\n                                            27-encoded  \n0    74.0,27.0,40.0,76.0,31.0,66.0,37.0,4.0,3.0,160...  \n1                             27.0,54.0,66.0,50.0,58.0  \n2    27.0,147.0,66.0,140.0,160.0,4.0,49.0,86.0,50.0...  \n3    74.0,27.0,109.0,31.0,5.0,160.0,65.0,141.0,58.0...  \n4    74.0,27.0,76.0,54.0,75.0,66.0,37.0,4.0,86.0,50...  \n..                                                 ...  \n710                                              125.0  \n711                                                NaN  \n712                                                NaN  \n713                                                NaN  \n714                                                NaN  \n\n[715 rows x 29 columns]",
      "text/html": "<div>\n<style scoped>\n    .dataframe tbody tr th:only-of-type {\n        vertical-align: middle;\n    }\n\n    .dataframe tbody tr th {\n        vertical-align: top;\n    }\n\n    .dataframe thead th {\n        text-align: right;\n    }\n</style>\n<table border=\"1\" class=\"dataframe\">\n  <thead>\n    <tr style=\"text-align: right;\">\n      <th></th>\n      <th>ZXGID</th>\n      <th>0-encoded</th>\n      <th>1-encoded</th>\n      <th>2-encoded</th>\n      <th>3-encoded</th>\n      <th>4-encoded</th>\n      <th>5-encoded</th>\n      <th>6-encoded</th>\n      <th>7-encoded</th>\n      <th>8-encoded</th>\n      <th>...</th>\n      <th>18-encoded</th>\n      <th>19-encoded</th>\n      <th>20-encoded</th>\n      <th>21-encoded</th>\n      <th>22-encoded</th>\n      <th>23-encoded</th>\n      <th>24-encoded</th>\n      <th>25-encoded</th>\n      <th>26-encoded</th>\n      <th>27-encoded</th>\n    </tr>\n  </thead>\n  <tbody>\n    <tr>\n      <th>0</th>\n      <td>8656</td>\n      <td>74.0,27.0,123.0,61.0,66.0,4.0,160.0,65.0,77.0,...</td>\n      <td>74.0,27.0,123.0,66.0,4.0,160.0,65.0,77.0,58.0,6.0</td>\n      <td>74.0,27.0,123.0,66.0,4.0,160.0,65.0,77.0,58.0,6.0</td>\n      <td>74.0,27.0,123.0,66.0,4.0,160.0,65.0,77.0,58.0,6.0</td>\n      <td>74.0,27.0,76.0,123.0,87.0,66.0,4.0,160.0,65.0,...</td>\n      <td>74.0,27.0,76.0,123.0,87.0,66.0,4.0,160.0,65.0,...</td>\n      <td>74.0,27.0,76.0,123.0,87.0,66.0,4.0,160.0,65.0,...</td>\n      <td>74.0,27.0,76.0,123.0,87.0,66.0,4.0,160.0,65.0,...</td>\n      <td>74.0,27.0,76.0,123.0,66.0,4.0,160.0,49.0,65.0,...</td>\n      <td>...</td>\n      <td>27.0,40.0,66.0,4.0,3.0,160.0,65.0,58.0</td>\n      <td>74.0,27.0,40.0,76.0,66.0,37.0,4.0,3.0,160.0,65...</td>\n      <td>74.0,27.0,40.0,76.0,66.0,37.0,4.0,3.0,160.0,65...</td>\n      <td>74.0,27.0,40.0,76.0,66.0,37.0,4.0,3.0,160.0,65...</td>\n      <td>74.0,27.0,40.0,76.0,66.0,37.0,4.0,3.0,160.0,65...</td>\n      <td>74.0,27.0,40.0,76.0,66.0,37.0,4.0,3.0,160.0,65...</td>\n      <td>74.0,27.0,40.0,76.0,31.0,66.0,37.0,4.0,3.0,160...</td>\n      <td>74.0,27.0,40.0,76.0,31.0,66.0,37.0,4.0,3.0,160...</td>\n      <td>74.0,27.0,40.0,76.0,31.0,66.0,37.0,4.0,3.0,160...</td>\n      <td>74.0,27.0,40.0,76.0,31.0,66.0,37.0,4.0,3.0,160...</td>\n    </tr>\n    <tr>\n      <th>1</th>\n      <td>7862</td>\n      <td>123.0,173.0,158.0,101.0,66.0,160.0,71.0,50.0,1...</td>\n      <td>123.0,173.0,158.0,31.0,101.0,66.0,160.0,71.0,5...</td>\n      <td>123.0,158.0,31.0,101.0,66.0,160.0,71.0,50.0,59...</td>\n      <td>123.0,158.0,31.0,101.0,66.0,160.0,71.0,50.0,59...</td>\n      <td>123.0,158.0,101.0,66.0,160.0,71.0,50.0,141.0,58.0</td>\n      <td>123.0,158.0,101.0,66.0,160.0,71.0,50.0,141.0,5...</td>\n      <td>123.0,158.0,101.0,66.0,160.0,71.0,50.0,141.0,5...</td>\n      <td>27.0,123.0,158.0,101.0,66.0,160.0,50.0,141.0,58.0</td>\n      <td>27.0,123.0,158.0,101.0,66.0,160.0,50.0,141.0,58.0</td>\n      <td>...</td>\n      <td>27.0,123.0,66.0,50.0,58.0</td>\n      <td>27.0,124.0,66.0,50.0,58.0</td>\n      <td>50.0,27.0,66.0,58.0</td>\n      <td>50.0,27.0,66.0,58.0</td>\n      <td>50.0,27.0,66.0,58.0</td>\n      <td>50.0,27.0,66.0,58.0</td>\n      <td>50.0,27.0,66.0,58.0</td>\n      <td>50.0,27.0,66.0,58.0</td>\n      <td>50.0,27.0,66.0,58.0</td>\n      <td>27.0,54.0,66.0,50.0,58.0</td>\n    </tr>\n    <tr>\n      <th>2</th>\n      <td>7396</td>\n      <td>27.0,149.0,76.0,68.0,147.0,168.0,61.0,66.0,4.0...</td>\n      <td>27.0,149.0,76.0,68.0,147.0,168.0,109.0,66.0,4....</td>\n      <td>27.0,149.0,76.0,68.0,147.0,168.0,61.0,109.0,66...</td>\n      <td>149.0,171.0,109.0,66.0,65.0,76.0,147.0,73.0,16...</td>\n      <td>27.0,149.0,76.0,68.0,147.0,109.0,66.0,160.0,4....</td>\n      <td>27.0,149.0,76.0,68.0,147.0,109.0,66.0,160.0,4....</td>\n      <td>27.0,149.0,76.0,68.0,147.0,109.0,66.0,160.0,4....</td>\n      <td>27.0,76.0,109.0,147.0,31.0,66.0,160.0,4.0,115....</td>\n      <td>27.0,76.0,109.0,147.0,31.0,66.0,84.0,160.0,4.0...</td>\n      <td>...</td>\n      <td>27.0,76.0,109.0,147.0,66.0,140.0,160.0,4.0,115...</td>\n      <td>27.0,149.0,76.0,147.0,66.0,160.0,4.0,49.0,50.0...</td>\n      <td>27.0,149.0,147.0,73.0,66.0,160.0,4.0,49.0,50.0...</td>\n      <td>27.0,149.0,147.0,66.0,160.0,4.0,49.0,50.0,65.0...</td>\n      <td>27.0,149.0,76.0,147.0,73.0,140.0,160.0,4.0,49....</td>\n      <td>27.0,147.0,66.0,140.0,160.0,4.0,49.0,50.0,65.0...</td>\n      <td>27.0,147.0,66.0,140.0,160.0,4.0,49.0,50.0,65.0...</td>\n      <td>27.0,147.0,66.0,140.0,160.0,4.0,49.0,86.0,50.0...</td>\n      <td>27.0,147.0,66.0,140.0,160.0,4.0,49.0,86.0,50.0...</td>\n      <td>27.0,147.0,66.0,140.0,160.0,4.0,49.0,86.0,50.0...</td>\n    </tr>\n    <tr>\n      <th>3</th>\n      <td>8308</td>\n      <td>74.0,27.0,173.0,66.0,52.0,5.0,4.0,160.0,65.0,5...</td>\n      <td>74.0,27.0,173.0,66.0,52.0,5.0,4.0,160.0,65.0,5...</td>\n      <td>74.0,27.0,173.0,66.0,52.0,5.0,160.0,65.0,58.0,...</td>\n      <td>74.0,27.0,173.0,66.0,52.0,5.0,160.0,65.0,58.0,...</td>\n      <td>74.0,27.0,66.0,5.0,160.0,65.0,141.0,58.0,6.0</td>\n      <td>74.0,5.0,52.0,160.0,65.0,141.0,58.0</td>\n      <td>74.0,27.0,31.0,66.0,52.0,5.0,160.0,65.0,141.0,...</td>\n      <td>74.0,27.0,31.0,66.0,52.0,5.0,4.0,160.0,140.0,6...</td>\n      <td>74.0,27.0,31.0,66.0,52.0,5.0,4.0,160.0,140.0,6...</td>\n      <td>...</td>\n      <td>74.0,27.0,109.0,31.0,66.0,5.0,4.0,160.0,140.0,...</td>\n      <td>74.0,27.0,109.0,31.0,66.0,5.0,4.0,160.0,140.0,...</td>\n      <td>74.0,27.0,109.0,31.0,5.0,160.0,65.0,141.0,58.0</td>\n      <td>74.0,27.0,109.0,31.0,5.0,160.0,65.0,141.0,58.0</td>\n      <td>74.0,27.0,31.0,5.0,160.0,65.0,141.0,58.0</td>\n      <td>74.0,27.0,31.0,5.0,160.0,65.0,141.0,58.0</td>\n      <td>74.0,27.0,31.0,5.0,160.0,65.0,141.0,58.0</td>\n      <td>74.0,27.0,109.0,31.0,5.0,160.0,65.0,141.0,58.0</td>\n      <td>74.0,27.0,109.0,31.0,5.0,160.0,65.0,141.0,58.0...</td>\n      <td>74.0,27.0,109.0,31.0,5.0,160.0,65.0,141.0,58.0...</td>\n    </tr>\n    <tr>\n      <th>4</th>\n      <td>8196</td>\n      <td>74.0,27.0,76.0,112.0,124.0,87.0,37.0,52.0,115....</td>\n      <td>74.0,27.0,76.0,112.0,124.0,87.0,37.0,110.0,115...</td>\n      <td>74.0,27.0,76.0,112.0,66.0,37.0,4.0,115.0,110.0...</td>\n      <td>74.0,27.0,76.0,112.0,124.0,75.0,66.0,37.0,4.0,...</td>\n      <td>74.0,27.0,76.0,112.0,124.0,75.0,66.0,37.0,4.0,...</td>\n      <td>74.0,27.0,76.0,112.0,124.0,87.0,66.0,37.0,4.0,...</td>\n      <td>74.0,27.0,76.0,112.0,124.0,87.0,66.0,37.0,4.0,...</td>\n      <td>74.0,27.0,76.0,112.0,124.0,87.0,66.0,37.0,4.0,...</td>\n      <td>74.0,27.0,76.0,112.0,124.0,31.0,66.0,37.0,4.0,...</td>\n      <td>...</td>\n      <td>74.0,27.0,76.0,112.0,124.0,127.0,53.0,31.0,75....</td>\n      <td>74.0,27.0,76.0,53.0,75.0,66.0,37.0,4.0,86.0,50...</td>\n      <td>74.0,27.0,76.0,75.0,66.0,37.0,4.0,86.0,50.0,65...</td>\n      <td>74.0,27.0,76.0,31.0,75.0,66.0,37.0,4.0,86.0,50...</td>\n      <td>74.0,27.0,76.0,75.0,66.0,37.0,4.0,86.0,50.0,65...</td>\n      <td>74.0,27.0,76.0,75.0,66.0,37.0,4.0,86.0,50.0,65...</td>\n      <td>74.0,27.0,75.0,66.0,4.0,86.0,65.0,58.0,94.0,96.0</td>\n      <td>74.0,27.0,76.0,75.0,66.0,37.0,4.0,86.0,50.0,65...</td>\n      <td>74.0,27.0,76.0,75.0,66.0,37.0,4.0,86.0,50.0,65...</td>\n      <td>74.0,27.0,76.0,54.0,75.0,66.0,37.0,4.0,86.0,50...</td>\n    </tr>\n    <tr>\n      <th>...</th>\n      <td>...</td>\n      <td>...</td>\n      <td>...</td>\n      <td>...</td>\n      <td>...</td>\n      <td>...</td>\n      <td>...</td>\n      <td>...</td>\n      <td>...</td>\n      <td>...</td>\n      <td>...</td>\n      <td>...</td>\n      <td>...</td>\n      <td>...</td>\n      <td>...</td>\n      <td>...</td>\n      <td>...</td>\n      <td>...</td>\n      <td>...</td>\n      <td>...</td>\n      <td>...</td>\n    </tr>\n    <tr>\n      <th>710</th>\n      <td>7947</td>\n      <td>123.0</td>\n      <td>123.0</td>\n      <td>123.0</td>\n      <td>123.0</td>\n      <td>123.0</td>\n      <td>123.0</td>\n      <td>123.0</td>\n      <td>123.0</td>\n      <td>123.0</td>\n      <td>...</td>\n      <td>125.0</td>\n      <td>125.0</td>\n      <td>125.0</td>\n      <td>125.0</td>\n      <td>125.0</td>\n      <td>125.0</td>\n      <td>125.0</td>\n      <td>125.0</td>\n      <td>125.0</td>\n      <td>125.0</td>\n    </tr>\n    <tr>\n      <th>711</th>\n      <td>2614</td>\n      <td>NaN</td>\n      <td>NaN</td>\n      <td>NaN</td>\n      <td>26.0</td>\n      <td>NaN</td>\n      <td>NaN</td>\n      <td>NaN</td>\n      <td>NaN</td>\n      <td>NaN</td>\n      <td>...</td>\n      <td>NaN</td>\n      <td>NaN</td>\n      <td>NaN</td>\n      <td>NaN</td>\n      <td>NaN</td>\n      <td>NaN</td>\n      <td>NaN</td>\n      <td>NaN</td>\n      <td>NaN</td>\n      <td>NaN</td>\n    </tr>\n    <tr>\n      <th>712</th>\n      <td>10147</td>\n      <td>NaN</td>\n      <td>NaN</td>\n      <td>NaN</td>\n      <td>NaN</td>\n      <td>NaN</td>\n      <td>NaN</td>\n      <td>NaN</td>\n      <td>NaN</td>\n      <td>NaN</td>\n      <td>...</td>\n      <td>NaN</td>\n      <td>NaN</td>\n      <td>NaN</td>\n      <td>NaN</td>\n      <td>NaN</td>\n      <td>NaN</td>\n      <td>NaN</td>\n      <td>NaN</td>\n      <td>NaN</td>\n      <td>NaN</td>\n    </tr>\n    <tr>\n      <th>713</th>\n      <td>4698</td>\n      <td>125.0</td>\n      <td>125.0</td>\n      <td>125.0</td>\n      <td>125.0</td>\n      <td>125.0</td>\n      <td>125.0</td>\n      <td>125.0</td>\n      <td>125.0</td>\n      <td>125.0</td>\n      <td>...</td>\n      <td>125.0</td>\n      <td>125.0</td>\n      <td>125.0</td>\n      <td>125.0</td>\n      <td>125.0</td>\n      <td>125.0</td>\n      <td>125.0</td>\n      <td>NaN</td>\n      <td>NaN</td>\n      <td>NaN</td>\n    </tr>\n    <tr>\n      <th>714</th>\n      <td>6010</td>\n      <td>NaN</td>\n      <td>NaN</td>\n      <td>NaN</td>\n      <td>NaN</td>\n      <td>NaN</td>\n      <td>NaN</td>\n      <td>NaN</td>\n      <td>NaN</td>\n      <td>NaN</td>\n      <td>...</td>\n      <td>NaN</td>\n      <td>NaN</td>\n      <td>NaN</td>\n      <td>NaN</td>\n      <td>NaN</td>\n      <td>NaN</td>\n      <td>NaN</td>\n      <td>NaN</td>\n      <td>NaN</td>\n      <td>NaN</td>\n    </tr>\n  </tbody>\n</table>\n<p>715 rows × 29 columns</p>\n</div>"
     },
     "execution_count": 40,
     "metadata": {},
     "output_type": "execute_result"
    }
   ],
   "source": [
    "col_revenue_dupliacte = ['0-encoded', '1-encoded', '2-encoded', '3-encoded', '4-encoded', '5-encoded', '6-encoded', '7-encoded', '8-encoded', '9-encoded', '10-encoded', '11-encoded', '12-encoded', '13-encoded', '14-encoded', '15-encoded', '16-encoded', '17-encoded', '18-encoded', '19-encoded', '20-encoded', '21-encoded', '22-encoded', '23-encoded', '24-encoded', '25-encoded', '26-encoded', '27-encoded']\n",
    "\n",
    "for col in col_revenue_dupliacte:\n",
    "    filtered = sales_data_encoded_product_industry_one[sales_data_encoded_product_industry_one[col] > 0]\n",
    "    filtered[col] = filtered[col].astype(str)\n",
    "    grouped = filtered.groupby('ZXGID').agg({col: lambda x: \",\".join(list(set(x)))})\n",
    "    sales_data_encoded_product_company = pd.merge(sales_data_encoded_product_company, grouped, on='ZXGID',how='left')\n",
    "sales_data_encoded_product_company"
   ],
   "metadata": {
    "collapsed": false,
    "ExecuteTime": {
     "end_time": "2023-08-21T05:33:32.790629Z",
     "start_time": "2023-08-21T05:33:32.407755Z"
    }
   }
  },
  {
   "cell_type": "code",
   "execution_count": 41,
   "outputs": [],
   "source": [
    "# Create test data from 20213 - 20224 for 6 quarters\n",
    "# Select 6 columns - from 20201 for 6 quarters\n",
    "# index_test = 22\n",
    "# window_test = 6\n",
    "#\n",
    "# colnames_to_select_test = [f'{i}-encoded' for i in range(index_test, index_test + window_test)]\n",
    "#\n",
    "# print(colnames_to_select_test)\n",
    "# print(sales_data_encoded_product_company.columns)\n",
    "# selected_columns_test = sales_data_encoded_product_company[colnames_to_select_test]\n",
    "# selected_columns_test"
   ],
   "metadata": {
    "collapsed": false,
    "ExecuteTime": {
     "end_time": "2023-08-21T05:33:32.790744Z",
     "start_time": "2023-08-21T05:33:32.705716Z"
    }
   }
  },
  {
   "cell_type": "code",
   "execution_count": 42,
   "outputs": [],
   "source": [
    "# Create permutations for test data\n",
    "# import itertools\n",
    "#\n",
    "# row_test = 0\n",
    "# rowCount_test = len(selected_columns_test.index)\n",
    "# print(f\"rowcount : {rowCount_test}\")\n",
    "# #rowCount = 5\n",
    "# listOfInputs_test = []\n",
    "#\n",
    "# for row_test in range(rowCount_test):\n",
    "#     input_test = []\n",
    "#     for colIndex_test, colname_test in enumerate(selected_columns_test):\n",
    "#         listElement_test = str(selected_columns_test.iloc[row_test, colIndex_test]).split(\",\")\n",
    "#         # print(f\"listElement : {listElement}\")\n",
    "#         input_test.append(listElement_test)\n",
    "#     listOfInputs_test.append(input_test)\n",
    "# # print(f\"listOfInputs : {listOfInputs}\")\n",
    "#\n",
    "# inputs_final_test = []\n",
    "# #break_count = 2\n",
    "#\n",
    "# #small_inputs = [input[:3] for input in listOfInputs]\n",
    "# final_combined_test = []\n",
    "#\n",
    "# for index_test, input_test in enumerate(listOfInputs_test):\n",
    "#     print(f\"Processing : {index_test}\")\n",
    "#     #print(f\"input : {input}\")\n",
    "#\n",
    "#     #permutations_input = list(itertools.product(*input))\n",
    "#     permutations_input_test = [list(item_test) for item_test in itertools.product(*input_test)]\n",
    "#     #print(f\"permutations : {list(permutations_input)}\")\n",
    "#     final_combined_test += permutations_input_test\n",
    "#\n",
    "# print(f\"listInput size : {len(listOfInputs_test)}\")"
   ],
   "metadata": {
    "collapsed": false,
    "ExecuteTime": {
     "end_time": "2023-08-21T05:33:32.790776Z",
     "start_time": "2023-08-21T05:33:32.708030Z"
    }
   }
  },
  {
   "cell_type": "code",
   "execution_count": 43,
   "outputs": [
    {
     "name": "stdout",
     "output_type": "stream",
     "text": [
      "['22-encoded', '23-encoded', '24-encoded', '25-encoded', '26-encoded', '27-encoded']\n",
      "Index(['ZXGID', '0-encoded', '1-encoded', '2-encoded', '3-encoded',\n",
      "       '4-encoded', '5-encoded', '6-encoded', '7-encoded', '8-encoded',\n",
      "       '9-encoded', '10-encoded', '11-encoded', '12-encoded', '13-encoded',\n",
      "       '14-encoded', '15-encoded', '16-encoded', '17-encoded', '18-encoded',\n",
      "       '19-encoded', '20-encoded', '21-encoded', '22-encoded', '23-encoded',\n",
      "       '24-encoded', '25-encoded', '26-encoded', '27-encoded'],\n",
      "      dtype='object')\n"
     ]
    },
    {
     "data": {
      "text/plain": "                                            22-encoded  \\\n0    74.0,27.0,40.0,76.0,66.0,37.0,4.0,3.0,160.0,65...   \n1                                  50.0,27.0,66.0,58.0   \n2    27.0,149.0,76.0,147.0,73.0,140.0,160.0,4.0,49....   \n3             74.0,27.0,31.0,5.0,160.0,65.0,141.0,58.0   \n4    74.0,27.0,76.0,75.0,66.0,37.0,4.0,86.0,50.0,65...   \n..                                                 ...   \n710                                              125.0   \n711                                                NaN   \n712                                                NaN   \n713                                              125.0   \n714                                                NaN   \n\n                                            23-encoded  \\\n0    74.0,27.0,40.0,76.0,66.0,37.0,4.0,3.0,160.0,65...   \n1                                  50.0,27.0,66.0,58.0   \n2    27.0,147.0,66.0,140.0,160.0,4.0,49.0,50.0,65.0...   \n3             74.0,27.0,31.0,5.0,160.0,65.0,141.0,58.0   \n4    74.0,27.0,76.0,75.0,66.0,37.0,4.0,86.0,50.0,65...   \n..                                                 ...   \n710                                              125.0   \n711                                                NaN   \n712                                                NaN   \n713                                              125.0   \n714                                                NaN   \n\n                                            24-encoded  \\\n0    74.0,27.0,40.0,76.0,31.0,66.0,37.0,4.0,3.0,160...   \n1                                  50.0,27.0,66.0,58.0   \n2    27.0,147.0,66.0,140.0,160.0,4.0,49.0,50.0,65.0...   \n3             74.0,27.0,31.0,5.0,160.0,65.0,141.0,58.0   \n4     74.0,27.0,75.0,66.0,4.0,86.0,65.0,58.0,94.0,96.0   \n..                                                 ...   \n710                                              125.0   \n711                                                NaN   \n712                                                NaN   \n713                                              125.0   \n714                                                NaN   \n\n                                            25-encoded  \\\n0    74.0,27.0,40.0,76.0,31.0,66.0,37.0,4.0,3.0,160...   \n1                                  50.0,27.0,66.0,58.0   \n2    27.0,147.0,66.0,140.0,160.0,4.0,49.0,86.0,50.0...   \n3       74.0,27.0,109.0,31.0,5.0,160.0,65.0,141.0,58.0   \n4    74.0,27.0,76.0,75.0,66.0,37.0,4.0,86.0,50.0,65...   \n..                                                 ...   \n710                                              125.0   \n711                                                NaN   \n712                                                NaN   \n713                                                NaN   \n714                                                NaN   \n\n                                            26-encoded  \\\n0    74.0,27.0,40.0,76.0,31.0,66.0,37.0,4.0,3.0,160...   \n1                                  50.0,27.0,66.0,58.0   \n2    27.0,147.0,66.0,140.0,160.0,4.0,49.0,86.0,50.0...   \n3    74.0,27.0,109.0,31.0,5.0,160.0,65.0,141.0,58.0...   \n4    74.0,27.0,76.0,75.0,66.0,37.0,4.0,86.0,50.0,65...   \n..                                                 ...   \n710                                              125.0   \n711                                                NaN   \n712                                                NaN   \n713                                                NaN   \n714                                                NaN   \n\n                                            27-encoded  \n0    74.0,27.0,40.0,76.0,31.0,66.0,37.0,4.0,3.0,160...  \n1                             27.0,54.0,66.0,50.0,58.0  \n2    27.0,147.0,66.0,140.0,160.0,4.0,49.0,86.0,50.0...  \n3    74.0,27.0,109.0,31.0,5.0,160.0,65.0,141.0,58.0...  \n4    74.0,27.0,76.0,54.0,75.0,66.0,37.0,4.0,86.0,50...  \n..                                                 ...  \n710                                              125.0  \n711                                                NaN  \n712                                                NaN  \n713                                                NaN  \n714                                                NaN  \n\n[715 rows x 6 columns]",
      "text/html": "<div>\n<style scoped>\n    .dataframe tbody tr th:only-of-type {\n        vertical-align: middle;\n    }\n\n    .dataframe tbody tr th {\n        vertical-align: top;\n    }\n\n    .dataframe thead th {\n        text-align: right;\n    }\n</style>\n<table border=\"1\" class=\"dataframe\">\n  <thead>\n    <tr style=\"text-align: right;\">\n      <th></th>\n      <th>22-encoded</th>\n      <th>23-encoded</th>\n      <th>24-encoded</th>\n      <th>25-encoded</th>\n      <th>26-encoded</th>\n      <th>27-encoded</th>\n    </tr>\n  </thead>\n  <tbody>\n    <tr>\n      <th>0</th>\n      <td>74.0,27.0,40.0,76.0,66.0,37.0,4.0,3.0,160.0,65...</td>\n      <td>74.0,27.0,40.0,76.0,66.0,37.0,4.0,3.0,160.0,65...</td>\n      <td>74.0,27.0,40.0,76.0,31.0,66.0,37.0,4.0,3.0,160...</td>\n      <td>74.0,27.0,40.0,76.0,31.0,66.0,37.0,4.0,3.0,160...</td>\n      <td>74.0,27.0,40.0,76.0,31.0,66.0,37.0,4.0,3.0,160...</td>\n      <td>74.0,27.0,40.0,76.0,31.0,66.0,37.0,4.0,3.0,160...</td>\n    </tr>\n    <tr>\n      <th>1</th>\n      <td>50.0,27.0,66.0,58.0</td>\n      <td>50.0,27.0,66.0,58.0</td>\n      <td>50.0,27.0,66.0,58.0</td>\n      <td>50.0,27.0,66.0,58.0</td>\n      <td>50.0,27.0,66.0,58.0</td>\n      <td>27.0,54.0,66.0,50.0,58.0</td>\n    </tr>\n    <tr>\n      <th>2</th>\n      <td>27.0,149.0,76.0,147.0,73.0,140.0,160.0,4.0,49....</td>\n      <td>27.0,147.0,66.0,140.0,160.0,4.0,49.0,50.0,65.0...</td>\n      <td>27.0,147.0,66.0,140.0,160.0,4.0,49.0,50.0,65.0...</td>\n      <td>27.0,147.0,66.0,140.0,160.0,4.0,49.0,86.0,50.0...</td>\n      <td>27.0,147.0,66.0,140.0,160.0,4.0,49.0,86.0,50.0...</td>\n      <td>27.0,147.0,66.0,140.0,160.0,4.0,49.0,86.0,50.0...</td>\n    </tr>\n    <tr>\n      <th>3</th>\n      <td>74.0,27.0,31.0,5.0,160.0,65.0,141.0,58.0</td>\n      <td>74.0,27.0,31.0,5.0,160.0,65.0,141.0,58.0</td>\n      <td>74.0,27.0,31.0,5.0,160.0,65.0,141.0,58.0</td>\n      <td>74.0,27.0,109.0,31.0,5.0,160.0,65.0,141.0,58.0</td>\n      <td>74.0,27.0,109.0,31.0,5.0,160.0,65.0,141.0,58.0...</td>\n      <td>74.0,27.0,109.0,31.0,5.0,160.0,65.0,141.0,58.0...</td>\n    </tr>\n    <tr>\n      <th>4</th>\n      <td>74.0,27.0,76.0,75.0,66.0,37.0,4.0,86.0,50.0,65...</td>\n      <td>74.0,27.0,76.0,75.0,66.0,37.0,4.0,86.0,50.0,65...</td>\n      <td>74.0,27.0,75.0,66.0,4.0,86.0,65.0,58.0,94.0,96.0</td>\n      <td>74.0,27.0,76.0,75.0,66.0,37.0,4.0,86.0,50.0,65...</td>\n      <td>74.0,27.0,76.0,75.0,66.0,37.0,4.0,86.0,50.0,65...</td>\n      <td>74.0,27.0,76.0,54.0,75.0,66.0,37.0,4.0,86.0,50...</td>\n    </tr>\n    <tr>\n      <th>...</th>\n      <td>...</td>\n      <td>...</td>\n      <td>...</td>\n      <td>...</td>\n      <td>...</td>\n      <td>...</td>\n    </tr>\n    <tr>\n      <th>710</th>\n      <td>125.0</td>\n      <td>125.0</td>\n      <td>125.0</td>\n      <td>125.0</td>\n      <td>125.0</td>\n      <td>125.0</td>\n    </tr>\n    <tr>\n      <th>711</th>\n      <td>NaN</td>\n      <td>NaN</td>\n      <td>NaN</td>\n      <td>NaN</td>\n      <td>NaN</td>\n      <td>NaN</td>\n    </tr>\n    <tr>\n      <th>712</th>\n      <td>NaN</td>\n      <td>NaN</td>\n      <td>NaN</td>\n      <td>NaN</td>\n      <td>NaN</td>\n      <td>NaN</td>\n    </tr>\n    <tr>\n      <th>713</th>\n      <td>125.0</td>\n      <td>125.0</td>\n      <td>125.0</td>\n      <td>NaN</td>\n      <td>NaN</td>\n      <td>NaN</td>\n    </tr>\n    <tr>\n      <th>714</th>\n      <td>NaN</td>\n      <td>NaN</td>\n      <td>NaN</td>\n      <td>NaN</td>\n      <td>NaN</td>\n      <td>NaN</td>\n    </tr>\n  </tbody>\n</table>\n<p>715 rows × 6 columns</p>\n</div>"
     },
     "execution_count": 43,
     "metadata": {},
     "output_type": "execute_result"
    }
   ],
   "source": [
    "# Select 6 columns - from 20213 - 20224 for 6 quarters\n",
    "index = 22\n",
    "window = 6\n",
    "\n",
    "colnames_to_select = [f'{i}-encoded' for i in range(index,index+window)]\n",
    "\n",
    "print(colnames_to_select)\n",
    "print(sales_data_encoded_product_company.columns)\n",
    "selected_columns = sales_data_encoded_product_company[colnames_to_select]\n",
    "selected_columns"
   ],
   "metadata": {
    "collapsed": false,
    "ExecuteTime": {
     "end_time": "2023-08-21T05:33:32.790852Z",
     "start_time": "2023-08-21T05:33:32.715021Z"
    }
   }
  },
  {
   "cell_type": "code",
   "execution_count": 44,
   "outputs": [
    {
     "name": "stdout",
     "output_type": "stream",
     "text": [
      "rowcount : 715\n",
      "Processing : 0\n",
      "Processing : 1\n",
      "Processing : 2\n",
      "Processing : 3\n",
      "Processing : 4\n",
      "Processing : 5\n",
      "Processing : 6\n",
      "Processing : 7\n",
      "Processing : 8\n",
      "Processing : 9\n",
      "Processing : 10\n",
      "Processing : 11\n",
      "Processing : 12\n",
      "Processing : 13\n",
      "Processing : 14\n",
      "Processing : 15\n",
      "Processing : 16\n",
      "Processing : 17\n",
      "Processing : 18\n",
      "Processing : 19\n",
      "Processing : 20\n",
      "Processing : 21\n",
      "Processing : 22\n",
      "Processing : 23\n",
      "Processing : 24\n",
      "Processing : 25\n",
      "Processing : 26\n",
      "Processing : 27\n",
      "Processing : 28\n",
      "Processing : 29\n",
      "Processing : 30\n",
      "Processing : 31\n",
      "Processing : 32\n",
      "Processing : 33\n",
      "Processing : 34\n",
      "Processing : 35\n",
      "Processing : 36\n",
      "Processing : 37\n",
      "Processing : 38\n",
      "Processing : 39\n",
      "Processing : 40\n",
      "Processing : 41\n",
      "Processing : 42\n",
      "Processing : 43\n",
      "Processing : 44\n",
      "Processing : 45\n",
      "Processing : 46\n",
      "Processing : 47\n",
      "Processing : 48\n",
      "Processing : 49\n",
      "Processing : 50\n",
      "Processing : 51\n",
      "Processing : 52\n",
      "Processing : 53\n",
      "Processing : 54\n",
      "Processing : 55\n",
      "Processing : 56\n",
      "Processing : 57\n",
      "Processing : 58\n",
      "Processing : 59\n",
      "Processing : 60\n",
      "Processing : 61\n",
      "Processing : 62\n",
      "Processing : 63\n",
      "Processing : 64\n",
      "Processing : 65\n",
      "Processing : 66\n",
      "Processing : 67\n",
      "Processing : 68\n",
      "Processing : 69\n",
      "Processing : 70\n",
      "Processing : 71\n",
      "Processing : 72\n",
      "Processing : 73\n",
      "Processing : 74\n",
      "Processing : 75\n",
      "Processing : 76\n",
      "Processing : 77\n",
      "Processing : 78\n",
      "Processing : 79\n",
      "Processing : 80\n",
      "Processing : 81\n",
      "Processing : 82\n",
      "Processing : 83\n",
      "Processing : 84\n",
      "Processing : 85\n",
      "Processing : 86\n",
      "Processing : 87\n",
      "Processing : 88\n",
      "Processing : 89\n",
      "Processing : 90\n",
      "Processing : 91\n",
      "Processing : 92\n",
      "Processing : 93\n",
      "Processing : 94\n",
      "Processing : 95\n",
      "Processing : 96\n",
      "Processing : 97\n",
      "Processing : 98\n",
      "Processing : 99\n",
      "Processing : 100\n",
      "Processing : 101\n",
      "Processing : 102\n",
      "Processing : 103\n",
      "Processing : 104\n",
      "Processing : 105\n",
      "Processing : 106\n",
      "Processing : 107\n",
      "Processing : 108\n",
      "Processing : 109\n",
      "Processing : 110\n",
      "Processing : 111\n",
      "Processing : 112\n",
      "Processing : 113\n",
      "Processing : 114\n",
      "Processing : 115\n",
      "Processing : 116\n",
      "Processing : 117\n",
      "Processing : 118\n",
      "Processing : 119\n",
      "Processing : 120\n",
      "Processing : 121\n",
      "Processing : 122\n",
      "Processing : 123\n",
      "Processing : 124\n",
      "Processing : 125\n",
      "Processing : 126\n",
      "Processing : 127\n",
      "Processing : 128\n",
      "Processing : 129\n",
      "Processing : 130\n",
      "Processing : 131\n",
      "Processing : 132\n",
      "Processing : 133\n",
      "Processing : 134\n",
      "Processing : 135\n",
      "Processing : 136\n",
      "Processing : 137\n",
      "Processing : 138\n",
      "Processing : 139\n",
      "Processing : 140\n",
      "Processing : 141\n",
      "Processing : 142\n",
      "Processing : 143\n",
      "Processing : 144\n",
      "Processing : 145\n",
      "Processing : 146\n",
      "Processing : 147\n",
      "Processing : 148\n",
      "Processing : 149\n",
      "Processing : 150\n",
      "Processing : 151\n",
      "Processing : 152\n",
      "Processing : 153\n",
      "Processing : 154\n",
      "Processing : 155\n",
      "Processing : 156\n",
      "Processing : 157\n",
      "Processing : 158\n",
      "Processing : 159\n",
      "Processing : 160\n",
      "Processing : 161\n",
      "Processing : 162\n",
      "Processing : 163\n",
      "Processing : 164\n",
      "Processing : 165\n",
      "Processing : 166\n",
      "Processing : 167\n",
      "Processing : 168\n",
      "Processing : 169\n",
      "Processing : 170\n",
      "Processing : 171\n",
      "Processing : 172\n",
      "Processing : 173\n",
      "Processing : 174\n",
      "Processing : 175\n",
      "Processing : 176\n",
      "Processing : 177\n",
      "Processing : 178\n",
      "Processing : 179\n",
      "Processing : 180\n",
      "Processing : 181\n",
      "Processing : 182\n",
      "Processing : 183\n",
      "Processing : 184\n",
      "Processing : 185\n",
      "Processing : 186\n",
      "Processing : 187\n",
      "Processing : 188\n",
      "Processing : 189\n",
      "Processing : 190\n",
      "Processing : 191\n",
      "Processing : 192\n",
      "Processing : 193\n",
      "Processing : 194\n",
      "Processing : 195\n",
      "Processing : 196\n",
      "Processing : 197\n",
      "Processing : 198\n",
      "Processing : 199\n",
      "Processing : 200\n",
      "Processing : 201\n",
      "Processing : 202\n",
      "Processing : 203\n",
      "Processing : 204\n",
      "Processing : 205\n",
      "Processing : 206\n",
      "Processing : 207\n",
      "Processing : 208\n",
      "Processing : 209\n",
      "Processing : 210\n",
      "Processing : 211\n",
      "Processing : 212\n",
      "Processing : 213\n",
      "Processing : 214\n",
      "Processing : 215\n",
      "Processing : 216\n",
      "Processing : 217\n",
      "Processing : 218\n",
      "Processing : 219\n",
      "Processing : 220\n",
      "Processing : 221\n",
      "Processing : 222\n",
      "Processing : 223\n",
      "Processing : 224\n",
      "Processing : 225\n",
      "Processing : 226\n",
      "Processing : 227\n",
      "Processing : 228\n",
      "Processing : 229\n",
      "Processing : 230\n",
      "Processing : 231\n",
      "Processing : 232\n",
      "Processing : 233\n",
      "Processing : 234\n",
      "Processing : 235\n",
      "Processing : 236\n",
      "Processing : 237\n",
      "Processing : 238\n",
      "Processing : 239\n",
      "Processing : 240\n",
      "Processing : 241\n",
      "Processing : 242\n",
      "Processing : 243\n",
      "Processing : 244\n",
      "Processing : 245\n",
      "Processing : 246\n",
      "Processing : 247\n",
      "Processing : 248\n",
      "Processing : 249\n",
      "Processing : 250\n",
      "Processing : 251\n",
      "Processing : 252\n",
      "Processing : 253\n",
      "Processing : 254\n",
      "Processing : 255\n",
      "Processing : 256\n",
      "Processing : 257\n",
      "Processing : 258\n",
      "Processing : 259\n",
      "Processing : 260\n",
      "Processing : 261\n",
      "Processing : 262\n",
      "Processing : 263\n",
      "Processing : 264\n",
      "Processing : 265\n",
      "Processing : 266\n",
      "Processing : 267\n",
      "Processing : 268\n",
      "Processing : 269\n",
      "Processing : 270\n",
      "Processing : 271\n",
      "Processing : 272\n",
      "Processing : 273\n",
      "Processing : 274\n",
      "Processing : 275\n",
      "Processing : 276\n",
      "Processing : 277\n",
      "Processing : 278\n",
      "Processing : 279\n",
      "Processing : 280\n",
      "Processing : 281\n",
      "Processing : 282\n",
      "Processing : 283\n",
      "Processing : 284\n",
      "Processing : 285\n",
      "Processing : 286\n",
      "Processing : 287\n",
      "Processing : 288\n",
      "Processing : 289\n",
      "Processing : 290\n",
      "Processing : 291\n",
      "Processing : 292\n",
      "Processing : 293\n",
      "Processing : 294\n",
      "Processing : 295\n",
      "Processing : 296\n",
      "Processing : 297\n",
      "Processing : 298\n",
      "Processing : 299\n",
      "Processing : 300\n",
      "Processing : 301\n",
      "Processing : 302\n",
      "Processing : 303\n",
      "Processing : 304\n",
      "Processing : 305\n",
      "Processing : 306\n",
      "Processing : 307\n",
      "Processing : 308\n",
      "Processing : 309\n",
      "Processing : 310\n",
      "Processing : 311\n",
      "Processing : 312\n",
      "Processing : 313\n",
      "Processing : 314\n",
      "Processing : 315\n",
      "Processing : 316\n",
      "Processing : 317\n",
      "Processing : 318\n",
      "Processing : 319\n",
      "Processing : 320\n",
      "Processing : 321\n",
      "Processing : 322\n",
      "Processing : 323\n",
      "Processing : 324\n",
      "Processing : 325\n",
      "Processing : 326\n",
      "Processing : 327\n",
      "Processing : 328\n",
      "Processing : 329\n",
      "Processing : 330\n",
      "Processing : 331\n",
      "Processing : 332\n",
      "Processing : 333\n",
      "Processing : 334\n",
      "Processing : 335\n",
      "Processing : 336\n",
      "Processing : 337\n",
      "Processing : 338\n",
      "Processing : 339\n",
      "Processing : 340\n",
      "Processing : 341\n",
      "Processing : 342\n",
      "Processing : 343\n",
      "Processing : 344\n",
      "Processing : 345\n",
      "Processing : 346\n",
      "Processing : 347\n",
      "Processing : 348\n",
      "Processing : 349\n",
      "Processing : 350\n",
      "Processing : 351\n",
      "Processing : 352\n",
      "Processing : 353\n",
      "Processing : 354\n",
      "Processing : 355\n",
      "Processing : 356\n",
      "Processing : 357\n",
      "Processing : 358\n",
      "Processing : 359\n",
      "Processing : 360\n",
      "Processing : 361\n",
      "Processing : 362\n",
      "Processing : 363\n",
      "Processing : 364\n",
      "Processing : 365\n",
      "Processing : 366\n",
      "Processing : 367\n",
      "Processing : 368\n",
      "Processing : 369\n",
      "Processing : 370\n",
      "Processing : 371\n",
      "Processing : 372\n",
      "Processing : 373\n",
      "Processing : 374\n",
      "Processing : 375\n",
      "Processing : 376\n",
      "Processing : 377\n",
      "Processing : 378\n",
      "Processing : 379\n",
      "Processing : 380\n",
      "Processing : 381\n",
      "Processing : 382\n",
      "Processing : 383\n",
      "Processing : 384\n",
      "Processing : 385\n",
      "Processing : 386\n",
      "Processing : 387\n",
      "Processing : 388\n",
      "Processing : 389\n",
      "Processing : 390\n",
      "Processing : 391\n",
      "Processing : 392\n",
      "Processing : 393\n",
      "Processing : 394\n",
      "Processing : 395\n",
      "Processing : 396\n",
      "Processing : 397\n",
      "Processing : 398\n",
      "Processing : 399\n",
      "Processing : 400\n",
      "Processing : 401\n",
      "Processing : 402\n",
      "Processing : 403\n",
      "Processing : 404\n",
      "Processing : 405\n",
      "Processing : 406\n",
      "Processing : 407\n",
      "Processing : 408\n",
      "Processing : 409\n",
      "Processing : 410\n",
      "Processing : 411\n",
      "Processing : 412\n",
      "Processing : 413\n",
      "Processing : 414\n",
      "Processing : 415\n",
      "Processing : 416\n",
      "Processing : 417\n",
      "Processing : 418\n",
      "Processing : 419\n",
      "Processing : 420\n",
      "Processing : 421\n",
      "Processing : 422\n",
      "Processing : 423\n",
      "Processing : 424\n",
      "Processing : 425\n",
      "Processing : 426\n",
      "Processing : 427\n",
      "Processing : 428\n",
      "Processing : 429\n",
      "Processing : 430\n",
      "Processing : 431\n",
      "Processing : 432\n",
      "Processing : 433\n",
      "Processing : 434\n",
      "Processing : 435\n",
      "Processing : 436\n",
      "Processing : 437\n",
      "Processing : 438\n",
      "Processing : 439\n",
      "Processing : 440\n",
      "Processing : 441\n",
      "Processing : 442\n",
      "Processing : 443\n",
      "Processing : 444\n",
      "Processing : 445\n",
      "Processing : 446\n",
      "Processing : 447\n",
      "Processing : 448\n",
      "Processing : 449\n",
      "Processing : 450\n",
      "Processing : 451\n",
      "Processing : 452\n",
      "Processing : 453\n",
      "Processing : 454\n",
      "Processing : 455\n",
      "Processing : 456\n",
      "Processing : 457\n",
      "Processing : 458\n",
      "Processing : 459\n",
      "Processing : 460\n",
      "Processing : 461\n",
      "Processing : 462\n",
      "Processing : 463\n",
      "Processing : 464\n",
      "Processing : 465\n",
      "Processing : 466\n",
      "Processing : 467\n",
      "Processing : 468\n",
      "Processing : 469\n",
      "Processing : 470\n",
      "Processing : 471\n",
      "Processing : 472\n",
      "Processing : 473\n",
      "Processing : 474\n",
      "Processing : 475\n",
      "Processing : 476\n",
      "Processing : 477\n",
      "Processing : 478\n",
      "Processing : 479\n",
      "Processing : 480\n",
      "Processing : 481\n",
      "Processing : 482\n",
      "Processing : 483\n",
      "Processing : 484\n",
      "Processing : 485\n",
      "Processing : 486\n",
      "Processing : 487\n",
      "Processing : 488\n",
      "Processing : 489\n",
      "Processing : 490\n",
      "Processing : 491\n",
      "Processing : 492\n",
      "Processing : 493\n",
      "Processing : 494\n",
      "Processing : 495\n",
      "Processing : 496\n",
      "Processing : 497\n",
      "Processing : 498\n",
      "Processing : 499\n",
      "Processing : 500\n",
      "Processing : 501\n",
      "Processing : 502\n",
      "Processing : 503\n",
      "Processing : 504\n",
      "Processing : 505\n",
      "Processing : 506\n",
      "Processing : 507\n",
      "Processing : 508\n",
      "Processing : 509\n",
      "Processing : 510\n",
      "Processing : 511\n",
      "Processing : 512\n",
      "Processing : 513\n",
      "Processing : 514\n",
      "Processing : 515\n",
      "Processing : 516\n",
      "Processing : 517\n",
      "Processing : 518\n",
      "Processing : 519\n",
      "Processing : 520\n",
      "Processing : 521\n",
      "Processing : 522\n",
      "Processing : 523\n",
      "Processing : 524\n",
      "Processing : 525\n",
      "Processing : 526\n",
      "Processing : 527\n",
      "Processing : 528\n",
      "Processing : 529\n",
      "Processing : 530\n",
      "Processing : 531\n",
      "Processing : 532\n",
      "Processing : 533\n",
      "Processing : 534\n",
      "Processing : 535\n",
      "Processing : 536\n",
      "Processing : 537\n",
      "Processing : 538\n",
      "Processing : 539\n",
      "Processing : 540\n",
      "Processing : 541\n",
      "Processing : 542\n",
      "Processing : 543\n",
      "Processing : 544\n",
      "Processing : 545\n",
      "Processing : 546\n",
      "Processing : 547\n",
      "Processing : 548\n",
      "Processing : 549\n",
      "Processing : 550\n",
      "Processing : 551\n",
      "Processing : 552\n",
      "Processing : 553\n",
      "Processing : 554\n",
      "Processing : 555\n",
      "Processing : 556\n",
      "Processing : 557\n",
      "Processing : 558\n",
      "Processing : 559\n",
      "Processing : 560\n",
      "Processing : 561\n",
      "Processing : 562\n",
      "Processing : 563\n",
      "Processing : 564\n",
      "Processing : 565\n",
      "Processing : 566\n",
      "Processing : 567\n",
      "Processing : 568\n",
      "Processing : 569\n",
      "Processing : 570\n",
      "Processing : 571\n",
      "Processing : 572\n",
      "Processing : 573\n",
      "Processing : 574\n",
      "Processing : 575\n",
      "Processing : 576\n",
      "Processing : 577\n",
      "Processing : 578\n",
      "Processing : 579\n",
      "Processing : 580\n",
      "Processing : 581\n",
      "Processing : 582\n",
      "Processing : 583\n",
      "Processing : 584\n",
      "Processing : 585\n",
      "Processing : 586\n",
      "Processing : 587\n",
      "Processing : 588\n",
      "Processing : 589\n",
      "Processing : 590\n",
      "Processing : 591\n",
      "Processing : 592\n",
      "Processing : 593\n",
      "Processing : 594\n",
      "Processing : 595\n",
      "Processing : 596\n",
      "Processing : 597\n",
      "Processing : 598\n",
      "Processing : 599\n",
      "Processing : 600\n",
      "Processing : 601\n",
      "Processing : 602\n",
      "Processing : 603\n",
      "Processing : 604\n",
      "Processing : 605\n",
      "Processing : 606\n",
      "Processing : 607\n",
      "Processing : 608\n",
      "Processing : 609\n",
      "Processing : 610\n",
      "Processing : 611\n",
      "Processing : 612\n",
      "Processing : 613\n",
      "Processing : 614\n",
      "Processing : 615\n",
      "Processing : 616\n",
      "Processing : 617\n",
      "Processing : 618\n",
      "Processing : 619\n",
      "Processing : 620\n",
      "Processing : 621\n",
      "Processing : 622\n",
      "Processing : 623\n",
      "Processing : 624\n",
      "Processing : 625\n",
      "Processing : 626\n",
      "Processing : 627\n",
      "Processing : 628\n",
      "Processing : 629\n",
      "Processing : 630\n",
      "Processing : 631\n",
      "Processing : 632\n",
      "Processing : 633\n",
      "Processing : 634\n",
      "Processing : 635\n",
      "Processing : 636\n",
      "Processing : 637\n",
      "Processing : 638\n",
      "Processing : 639\n",
      "Processing : 640\n",
      "Processing : 641\n",
      "Processing : 642\n",
      "Processing : 643\n",
      "Processing : 644\n",
      "Processing : 645\n",
      "Processing : 646\n",
      "Processing : 647\n",
      "Processing : 648\n",
      "Processing : 649\n",
      "Processing : 650\n",
      "Processing : 651\n",
      "Processing : 652\n",
      "Processing : 653\n",
      "Processing : 654\n",
      "Processing : 655\n",
      "Processing : 656\n",
      "Processing : 657\n",
      "Processing : 658\n",
      "Processing : 659\n",
      "Processing : 660\n",
      "Processing : 661\n",
      "Processing : 662\n",
      "Processing : 663\n",
      "Processing : 664\n",
      "Processing : 665\n",
      "Processing : 666\n",
      "Processing : 667\n",
      "Processing : 668\n",
      "Processing : 669\n",
      "Processing : 670\n",
      "Processing : 671\n",
      "Processing : 672\n",
      "Processing : 673\n",
      "Processing : 674\n",
      "Processing : 675\n",
      "Processing : 676\n",
      "Processing : 677\n",
      "Processing : 678\n",
      "Processing : 679\n",
      "Processing : 680\n",
      "Processing : 681\n",
      "Processing : 682\n",
      "Processing : 683\n",
      "Processing : 684\n",
      "Processing : 685\n",
      "Processing : 686\n",
      "Processing : 687\n",
      "Processing : 688\n",
      "Processing : 689\n",
      "Processing : 690\n",
      "Processing : 691\n",
      "Processing : 692\n",
      "Processing : 693\n",
      "Processing : 694\n",
      "Processing : 695\n",
      "Processing : 696\n",
      "Processing : 697\n",
      "Processing : 698\n",
      "Processing : 699\n",
      "Processing : 700\n",
      "Processing : 701\n",
      "Processing : 702\n",
      "Processing : 703\n",
      "Processing : 704\n",
      "Processing : 705\n",
      "Processing : 706\n",
      "Processing : 707\n",
      "Processing : 708\n",
      "Processing : 709\n",
      "Processing : 710\n",
      "Processing : 711\n",
      "Processing : 712\n",
      "Processing : 713\n",
      "Processing : 714\n",
      "listInput size : 715\n",
      "Size of all possible permutations are :  118492281\n"
     ]
    }
   ],
   "source": [
    "import itertools\n",
    "row = 0\n",
    "rowCount = len(selected_columns.index)\n",
    "print(f\"rowcount : {rowCount}\")\n",
    "#rowCount = 5\n",
    "listOfInputs = []\n",
    "\n",
    "for row in range(rowCount):\n",
    "    input = []\n",
    "    for colIndex, colname in enumerate(selected_columns):\n",
    "        listElement = str(selected_columns.iloc[row,colIndex]).split(\",\")\n",
    "        # print(f\"listElement : {listElement}\")\n",
    "        input.append(listElement)\n",
    "    listOfInputs.append(input)\n",
    "# print(f\"listOfInputs : {listOfInputs}\")\n",
    "\n",
    "inputs_final = []\n",
    "#break_count = 2\n",
    "#small_inputs = [input[:3] for input in listOfInputs]\n",
    "final_combined = []\n",
    "\n",
    "for index,input in enumerate(listOfInputs):\n",
    "\n",
    "    print(f\"Processing : {index}\")\n",
    "    #print(f\"input : {input}\")\n",
    "    #permutations_input = list(itertools.product(*input))\n",
    "    permutations_input = [list(item) for item in itertools.product(*input)]\n",
    "    #print(f\"permutations : {list(permutations_input)}\")\n",
    "    final_combined += permutations_input\n",
    "\n",
    "    #test_final = [list(item) for item in itertools.product(*input)]\n",
    "    #print (\"All possible permutations in this round are : \", test_final)\n",
    "    #test_final_combined += test_final\n",
    "    # if index>break_count :\n",
    "    #     break\n",
    "    # print(f\"size perm : {len(permutations_input)}\")\n",
    "#print(\"All possible permutations are : \", final_combined)\n",
    "#print(\"Size of all possible permutations are : \", len(final_combined))\n",
    "\n",
    "#print(f\"list input : {listOfInputs}\")\n",
    "print(f\"listInput size : {len(listOfInputs)}\")\n",
    "print(\"Size of all possible permutations are : \", len(final_combined))"
   ],
   "metadata": {
    "collapsed": false,
    "ExecuteTime": {
     "end_time": "2023-08-21T05:36:09.143288Z",
     "start_time": "2023-08-21T05:33:32.725522Z"
    }
   }
  },
  {
   "cell_type": "code",
   "execution_count": 45,
   "outputs": [],
   "source": [
    "# # Test dataset for creating the permutation\n",
    "# # import itertools\n",
    "# # # initializing list of list\n",
    "# # all_list = [[[1, 3, 4], [6,7], [8, 10]],\n",
    "# #             [[2, 4, 6], [8,9], [8, 11]],\n",
    "# #             [[5, 3, 0], [7,5], [9, 12]]]\n",
    "# #\n",
    "# # # printing lists\n",
    "# # print (\"The original lists are : \" + str(all_list))\n",
    "# #\n",
    "# # test_final_combined = []\n",
    "# # # using itertools.product()\n",
    "# # # to compute all possible permutations\n",
    "# # for list_test in all_list:\n",
    "# #     print(list_test)\n",
    "# #     #res = list(itertools.product(*list(list_test)))\n",
    "# #     test_final = [list(item) for item in itertools.product(*list(list_test))]\n",
    "# #     print (\"All possible permutations in this round are : \", test_final)\n",
    "# #     test_final_combined += test_final\n",
    "# #\n",
    "# # print(\"All possible permutations are : \", test_final_combined)"
   ],
   "metadata": {
    "collapsed": false,
    "ExecuteTime": {
     "end_time": "2023-08-21T05:36:09.147397Z",
     "start_time": "2023-08-21T05:36:09.145515Z"
    }
   }
  },
  {
   "cell_type": "code",
   "execution_count": 46,
   "outputs": [],
   "source": [
    "# #del list"
   ],
   "metadata": {
    "collapsed": false,
    "ExecuteTime": {
     "end_time": "2023-08-21T05:36:09.149532Z",
     "start_time": "2023-08-21T05:36:09.148426Z"
    }
   }
  },
  {
   "cell_type": "code",
   "execution_count": 47,
   "outputs": [],
   "source": [
    "import csv\n",
    "with open('final_combined.csv', 'a', newline='') as file:\n",
    "    writer = csv.writer(file)\n",
    "    writer.writerows(final_combined)"
   ],
   "metadata": {
    "collapsed": false,
    "ExecuteTime": {
     "end_time": "2023-08-21T05:37:09.861593Z",
     "start_time": "2023-08-21T05:36:09.151043Z"
    }
   }
  },
  {
   "cell_type": "code",
   "execution_count": 48,
   "outputs": [],
   "source": [
    "final_combined_1M = final_combined[:118000]"
   ],
   "metadata": {
    "collapsed": false,
    "ExecuteTime": {
     "end_time": "2023-08-21T05:37:09.868050Z",
     "start_time": "2023-08-21T05:37:09.860487Z"
    }
   }
  },
  {
   "cell_type": "code",
   "execution_count": 49,
   "outputs": [],
   "source": [
    "#final_combined_1M = final_combined[:]"
   ],
   "metadata": {
    "collapsed": false,
    "ExecuteTime": {
     "end_time": "2023-08-21T05:37:09.870499Z",
     "start_time": "2023-08-21T05:37:09.868874Z"
    }
   }
  },
  {
   "cell_type": "code",
   "execution_count": 50,
   "outputs": [
    {
     "data": {
      "text/plain": "118000"
     },
     "execution_count": 50,
     "metadata": {},
     "output_type": "execute_result"
    }
   ],
   "source": [
    "len(final_combined_1M)"
   ],
   "metadata": {
    "collapsed": false,
    "ExecuteTime": {
     "end_time": "2023-08-21T05:37:09.874609Z",
     "start_time": "2023-08-21T05:37:09.873784Z"
    }
   }
  },
  {
   "cell_type": "code",
   "execution_count": 51,
   "outputs": [],
   "source": [
    "final_combined_1M = [[int(float(element)) for element in row] for row in final_combined_1M]"
   ],
   "metadata": {
    "collapsed": false,
    "ExecuteTime": {
     "end_time": "2023-08-21T05:37:09.975878Z",
     "start_time": "2023-08-21T05:37:09.926828Z"
    }
   }
  },
  {
   "cell_type": "code",
   "execution_count": 52,
   "outputs": [],
   "source": [
    "#final_combined_1M"
   ],
   "metadata": {
    "collapsed": false,
    "ExecuteTime": {
     "end_time": "2023-08-21T05:37:09.978273Z",
     "start_time": "2023-08-21T05:37:09.976648Z"
    }
   }
  },
  {
   "cell_type": "code",
   "execution_count": 53,
   "outputs": [],
   "source": [
    "#output_file_path = \"final_combined.csv\""
   ],
   "metadata": {
    "collapsed": false,
    "ExecuteTime": {
     "end_time": "2023-08-21T05:37:09.980858Z",
     "start_time": "2023-08-21T05:37:09.979509Z"
    }
   }
  },
  {
   "cell_type": "code",
   "execution_count": 54,
   "outputs": [
    {
     "name": "stdout",
     "output_type": "stream",
     "text": [
      "Requirement already satisfied: keras in /Users/tejash/Desktop/tejash_personal/CodingProjects/omsba5068-f22-main/venv/lib/python3.9/site-packages (2.13.1)\r\n"
     ]
    }
   ],
   "source": [
    "!pip install keras"
   ],
   "metadata": {
    "collapsed": false,
    "ExecuteTime": {
     "end_time": "2023-08-21T05:37:11.162278Z",
     "start_time": "2023-08-21T05:37:09.983030Z"
    }
   }
  },
  {
   "cell_type": "code",
   "execution_count": 55,
   "outputs": [
    {
     "name": "stdout",
     "output_type": "stream",
     "text": [
      "Requirement already satisfied: pip in /Users/tejash/Desktop/tejash_personal/CodingProjects/omsba5068-f22-main/venv/lib/python3.9/site-packages (23.2.1)\r\n"
     ]
    }
   ],
   "source": [
    "!pip install --upgrade pip"
   ],
   "metadata": {
    "collapsed": false,
    "ExecuteTime": {
     "end_time": "2023-08-21T05:37:12.149559Z",
     "start_time": "2023-08-21T05:37:11.164047Z"
    }
   }
  },
  {
   "cell_type": "code",
   "execution_count": 56,
   "outputs": [
    {
     "name": "stdout",
     "output_type": "stream",
     "text": [
      "Requirement already satisfied: tensorflow in /Users/tejash/Desktop/tejash_personal/CodingProjects/omsba5068-f22-main/venv/lib/python3.9/site-packages (2.13.0)\r\n",
      "Requirement already satisfied: tensorflow-macos==2.13.0 in /Users/tejash/Desktop/tejash_personal/CodingProjects/omsba5068-f22-main/venv/lib/python3.9/site-packages (from tensorflow) (2.13.0)\r\n",
      "Requirement already satisfied: absl-py>=1.0.0 in /Users/tejash/Desktop/tejash_personal/CodingProjects/omsba5068-f22-main/venv/lib/python3.9/site-packages (from tensorflow-macos==2.13.0->tensorflow) (1.4.0)\r\n",
      "Requirement already satisfied: astunparse>=1.6.0 in /Users/tejash/Desktop/tejash_personal/CodingProjects/omsba5068-f22-main/venv/lib/python3.9/site-packages (from tensorflow-macos==2.13.0->tensorflow) (1.6.3)\r\n",
      "Requirement already satisfied: flatbuffers>=23.1.21 in /Users/tejash/Desktop/tejash_personal/CodingProjects/omsba5068-f22-main/venv/lib/python3.9/site-packages (from tensorflow-macos==2.13.0->tensorflow) (23.5.26)\r\n",
      "Requirement already satisfied: gast<=0.4.0,>=0.2.1 in /Users/tejash/Desktop/tejash_personal/CodingProjects/omsba5068-f22-main/venv/lib/python3.9/site-packages (from tensorflow-macos==2.13.0->tensorflow) (0.4.0)\r\n",
      "Requirement already satisfied: google-pasta>=0.1.1 in /Users/tejash/Desktop/tejash_personal/CodingProjects/omsba5068-f22-main/venv/lib/python3.9/site-packages (from tensorflow-macos==2.13.0->tensorflow) (0.2.0)\r\n",
      "Requirement already satisfied: h5py>=2.9.0 in /Users/tejash/Desktop/tejash_personal/CodingProjects/omsba5068-f22-main/venv/lib/python3.9/site-packages (from tensorflow-macos==2.13.0->tensorflow) (3.9.0)\r\n",
      "Requirement already satisfied: libclang>=13.0.0 in /Users/tejash/Desktop/tejash_personal/CodingProjects/omsba5068-f22-main/venv/lib/python3.9/site-packages (from tensorflow-macos==2.13.0->tensorflow) (16.0.6)\r\n",
      "Requirement already satisfied: numpy<=1.24.3,>=1.22 in /Users/tejash/Desktop/tejash_personal/CodingProjects/omsba5068-f22-main/venv/lib/python3.9/site-packages (from tensorflow-macos==2.13.0->tensorflow) (1.24.3)\r\n",
      "Requirement already satisfied: opt-einsum>=2.3.2 in /Users/tejash/Desktop/tejash_personal/CodingProjects/omsba5068-f22-main/venv/lib/python3.9/site-packages (from tensorflow-macos==2.13.0->tensorflow) (3.3.0)\r\n",
      "Requirement already satisfied: packaging in /Users/tejash/Desktop/tejash_personal/CodingProjects/omsba5068-f22-main/venv/lib/python3.9/site-packages (from tensorflow-macos==2.13.0->tensorflow) (23.1)\r\n",
      "Requirement already satisfied: protobuf!=4.21.0,!=4.21.1,!=4.21.2,!=4.21.3,!=4.21.4,!=4.21.5,<5.0.0dev,>=3.20.3 in /Users/tejash/Desktop/tejash_personal/CodingProjects/omsba5068-f22-main/venv/lib/python3.9/site-packages (from tensorflow-macos==2.13.0->tensorflow) (4.24.0)\r\n",
      "Requirement already satisfied: setuptools in /Users/tejash/Desktop/tejash_personal/CodingProjects/omsba5068-f22-main/venv/lib/python3.9/site-packages (from tensorflow-macos==2.13.0->tensorflow) (65.5.1)\r\n",
      "Requirement already satisfied: six>=1.12.0 in /Users/tejash/Desktop/tejash_personal/CodingProjects/omsba5068-f22-main/venv/lib/python3.9/site-packages (from tensorflow-macos==2.13.0->tensorflow) (1.16.0)\r\n",
      "Requirement already satisfied: termcolor>=1.1.0 in /Users/tejash/Desktop/tejash_personal/CodingProjects/omsba5068-f22-main/venv/lib/python3.9/site-packages (from tensorflow-macos==2.13.0->tensorflow) (2.3.0)\r\n",
      "Requirement already satisfied: typing-extensions<4.6.0,>=3.6.6 in /Users/tejash/Desktop/tejash_personal/CodingProjects/omsba5068-f22-main/venv/lib/python3.9/site-packages (from tensorflow-macos==2.13.0->tensorflow) (4.5.0)\r\n",
      "Requirement already satisfied: wrapt>=1.11.0 in /Users/tejash/Desktop/tejash_personal/CodingProjects/omsba5068-f22-main/venv/lib/python3.9/site-packages (from tensorflow-macos==2.13.0->tensorflow) (1.15.0)\r\n",
      "Requirement already satisfied: grpcio<2.0,>=1.24.3 in /Users/tejash/Desktop/tejash_personal/CodingProjects/omsba5068-f22-main/venv/lib/python3.9/site-packages (from tensorflow-macos==2.13.0->tensorflow) (1.56.2)\r\n",
      "Requirement already satisfied: tensorboard<2.14,>=2.13 in /Users/tejash/Desktop/tejash_personal/CodingProjects/omsba5068-f22-main/venv/lib/python3.9/site-packages (from tensorflow-macos==2.13.0->tensorflow) (2.13.0)\r\n",
      "Requirement already satisfied: tensorflow-estimator<2.14,>=2.13.0 in /Users/tejash/Desktop/tejash_personal/CodingProjects/omsba5068-f22-main/venv/lib/python3.9/site-packages (from tensorflow-macos==2.13.0->tensorflow) (2.13.0)\r\n",
      "Requirement already satisfied: keras<2.14,>=2.13.1 in /Users/tejash/Desktop/tejash_personal/CodingProjects/omsba5068-f22-main/venv/lib/python3.9/site-packages (from tensorflow-macos==2.13.0->tensorflow) (2.13.1)\r\n",
      "Requirement already satisfied: wheel<1.0,>=0.23.0 in /Users/tejash/Desktop/tejash_personal/CodingProjects/omsba5068-f22-main/venv/lib/python3.9/site-packages (from astunparse>=1.6.0->tensorflow-macos==2.13.0->tensorflow) (0.38.4)\r\n",
      "Requirement already satisfied: google-auth<3,>=1.6.3 in /Users/tejash/Desktop/tejash_personal/CodingProjects/omsba5068-f22-main/venv/lib/python3.9/site-packages (from tensorboard<2.14,>=2.13->tensorflow-macos==2.13.0->tensorflow) (2.22.0)\r\n",
      "Requirement already satisfied: google-auth-oauthlib<1.1,>=0.5 in /Users/tejash/Desktop/tejash_personal/CodingProjects/omsba5068-f22-main/venv/lib/python3.9/site-packages (from tensorboard<2.14,>=2.13->tensorflow-macos==2.13.0->tensorflow) (1.0.0)\r\n",
      "Requirement already satisfied: markdown>=2.6.8 in /Users/tejash/Desktop/tejash_personal/CodingProjects/omsba5068-f22-main/venv/lib/python3.9/site-packages (from tensorboard<2.14,>=2.13->tensorflow-macos==2.13.0->tensorflow) (3.4.4)\r\n",
      "Requirement already satisfied: requests<3,>=2.21.0 in /Users/tejash/Desktop/tejash_personal/CodingProjects/omsba5068-f22-main/venv/lib/python3.9/site-packages (from tensorboard<2.14,>=2.13->tensorflow-macos==2.13.0->tensorflow) (2.31.0)\r\n",
      "Requirement already satisfied: tensorboard-data-server<0.8.0,>=0.7.0 in /Users/tejash/Desktop/tejash_personal/CodingProjects/omsba5068-f22-main/venv/lib/python3.9/site-packages (from tensorboard<2.14,>=2.13->tensorflow-macos==2.13.0->tensorflow) (0.7.1)\r\n",
      "Requirement already satisfied: werkzeug>=1.0.1 in /Users/tejash/Desktop/tejash_personal/CodingProjects/omsba5068-f22-main/venv/lib/python3.9/site-packages (from tensorboard<2.14,>=2.13->tensorflow-macos==2.13.0->tensorflow) (2.3.6)\r\n",
      "Requirement already satisfied: cachetools<6.0,>=2.0.0 in /Users/tejash/Desktop/tejash_personal/CodingProjects/omsba5068-f22-main/venv/lib/python3.9/site-packages (from google-auth<3,>=1.6.3->tensorboard<2.14,>=2.13->tensorflow-macos==2.13.0->tensorflow) (5.3.1)\r\n",
      "Requirement already satisfied: pyasn1-modules>=0.2.1 in /Users/tejash/Desktop/tejash_personal/CodingProjects/omsba5068-f22-main/venv/lib/python3.9/site-packages (from google-auth<3,>=1.6.3->tensorboard<2.14,>=2.13->tensorflow-macos==2.13.0->tensorflow) (0.3.0)\r\n",
      "Requirement already satisfied: rsa<5,>=3.1.4 in /Users/tejash/Desktop/tejash_personal/CodingProjects/omsba5068-f22-main/venv/lib/python3.9/site-packages (from google-auth<3,>=1.6.3->tensorboard<2.14,>=2.13->tensorflow-macos==2.13.0->tensorflow) (4.9)\r\n",
      "Requirement already satisfied: urllib3<2.0 in /Users/tejash/Desktop/tejash_personal/CodingProjects/omsba5068-f22-main/venv/lib/python3.9/site-packages (from google-auth<3,>=1.6.3->tensorboard<2.14,>=2.13->tensorflow-macos==2.13.0->tensorflow) (1.26.16)\r\n",
      "Requirement already satisfied: requests-oauthlib>=0.7.0 in /Users/tejash/Desktop/tejash_personal/CodingProjects/omsba5068-f22-main/venv/lib/python3.9/site-packages (from google-auth-oauthlib<1.1,>=0.5->tensorboard<2.14,>=2.13->tensorflow-macos==2.13.0->tensorflow) (1.3.1)\r\n",
      "Requirement already satisfied: importlib-metadata>=4.4 in /Users/tejash/Desktop/tejash_personal/CodingProjects/omsba5068-f22-main/venv/lib/python3.9/site-packages (from markdown>=2.6.8->tensorboard<2.14,>=2.13->tensorflow-macos==2.13.0->tensorflow) (6.7.0)\r\n",
      "Requirement already satisfied: charset-normalizer<4,>=2 in /Users/tejash/Desktop/tejash_personal/CodingProjects/omsba5068-f22-main/venv/lib/python3.9/site-packages (from requests<3,>=2.21.0->tensorboard<2.14,>=2.13->tensorflow-macos==2.13.0->tensorflow) (3.2.0)\r\n",
      "Requirement already satisfied: idna<4,>=2.5 in /Users/tejash/Desktop/tejash_personal/CodingProjects/omsba5068-f22-main/venv/lib/python3.9/site-packages (from requests<3,>=2.21.0->tensorboard<2.14,>=2.13->tensorflow-macos==2.13.0->tensorflow) (3.4)\r\n",
      "Requirement already satisfied: certifi>=2017.4.17 in /Users/tejash/Desktop/tejash_personal/CodingProjects/omsba5068-f22-main/venv/lib/python3.9/site-packages (from requests<3,>=2.21.0->tensorboard<2.14,>=2.13->tensorflow-macos==2.13.0->tensorflow) (2023.7.22)\r\n",
      "Requirement already satisfied: MarkupSafe>=2.1.1 in /Users/tejash/Desktop/tejash_personal/CodingProjects/omsba5068-f22-main/venv/lib/python3.9/site-packages (from werkzeug>=1.0.1->tensorboard<2.14,>=2.13->tensorflow-macos==2.13.0->tensorflow) (2.1.3)\r\n",
      "Requirement already satisfied: zipp>=0.5 in /Users/tejash/Desktop/tejash_personal/CodingProjects/omsba5068-f22-main/venv/lib/python3.9/site-packages (from importlib-metadata>=4.4->markdown>=2.6.8->tensorboard<2.14,>=2.13->tensorflow-macos==2.13.0->tensorflow) (3.15.0)\r\n",
      "Requirement already satisfied: pyasn1<0.6.0,>=0.4.6 in /Users/tejash/Desktop/tejash_personal/CodingProjects/omsba5068-f22-main/venv/lib/python3.9/site-packages (from pyasn1-modules>=0.2.1->google-auth<3,>=1.6.3->tensorboard<2.14,>=2.13->tensorflow-macos==2.13.0->tensorflow) (0.5.0)\r\n",
      "Requirement already satisfied: oauthlib>=3.0.0 in /Users/tejash/Desktop/tejash_personal/CodingProjects/omsba5068-f22-main/venv/lib/python3.9/site-packages (from requests-oauthlib>=0.7.0->google-auth-oauthlib<1.1,>=0.5->tensorboard<2.14,>=2.13->tensorflow-macos==2.13.0->tensorflow) (3.2.2)\r\n"
     ]
    }
   ],
   "source": [
    "!pip install tensorflow"
   ],
   "metadata": {
    "collapsed": false,
    "ExecuteTime": {
     "end_time": "2023-08-21T05:37:13.048011Z",
     "start_time": "2023-08-21T05:37:12.150155Z"
    }
   }
  },
  {
   "cell_type": "code",
   "execution_count": 57,
   "outputs": [],
   "source": [
    "# Split into train, test data\n",
    "index_length = int(len(final_combined_1M)*0.8)\n",
    "(train, test) = final_combined_1M[:index_length], final_combined_1M[index_length:]"
   ],
   "metadata": {
    "collapsed": false,
    "ExecuteTime": {
     "end_time": "2023-08-21T05:37:13.055625Z",
     "start_time": "2023-08-21T05:37:13.053668Z"
    }
   }
  },
  {
   "cell_type": "code",
   "execution_count": 58,
   "outputs": [],
   "source": [
    "#train[:1000]"
   ],
   "metadata": {
    "collapsed": false,
    "ExecuteTime": {
     "end_time": "2023-08-21T05:37:13.058463Z",
     "start_time": "2023-08-21T05:37:13.056466Z"
    }
   }
  },
  {
   "cell_type": "code",
   "execution_count": 59,
   "outputs": [],
   "source": [
    "#train"
   ],
   "metadata": {
    "collapsed": false,
    "ExecuteTime": {
     "end_time": "2023-08-21T05:37:13.060599Z",
     "start_time": "2023-08-21T05:37:13.059610Z"
    }
   }
  },
  {
   "cell_type": "code",
   "execution_count": 60,
   "outputs": [],
   "source": [
    "#test"
   ],
   "metadata": {
    "collapsed": false,
    "ExecuteTime": {
     "end_time": "2023-08-21T05:37:13.063229Z",
     "start_time": "2023-08-21T05:37:13.061852Z"
    }
   }
  },
  {
   "cell_type": "code",
   "execution_count": 61,
   "outputs": [],
   "source": [
    "# for row in range(rowCount):\n",
    "#     input = []\n",
    "#     for colIndex, colname in enumerate(selected_columns):\n",
    "#         listElement = str(selected_columns.iloc[row,colIndex]).split(\",\")\n",
    "#         # print(f\"listElement : {listElement}\")\n",
    "#         input.append(listElement)\n",
    "#     listOfInputs.append(input)"
   ],
   "metadata": {
    "collapsed": false,
    "ExecuteTime": {
     "end_time": "2023-08-21T05:37:13.065617Z",
     "start_time": "2023-08-21T05:37:13.064137Z"
    }
   }
  },
  {
   "cell_type": "code",
   "execution_count": 62,
   "outputs": [],
   "source": [
    "# univariate data preparation\n",
    "import numpy as np\n",
    "n_steps = 5\n",
    "# split a univariate sequence into samples\n",
    "X_train, Y_train = [], []\n",
    "for index, column in enumerate(train):\n",
    "# gather input and output parts of the pattern\n",
    "    seq_x, seq_y = train[index][0:5], train[index][-1]\n",
    "    X_train.append(seq_x)\n",
    "    Y_train.append(seq_y)\n",
    "X_train_array = np.array(X_train)\n",
    "Y_train_array = np.array(Y_train)\n",
    "#print(\"X_train:\", X_train)\n",
    "#print(\"Y_train:\", Y_train)\n",
    "#print(\"X_train:\", X_train_array)\n",
    "#print(\"Y_train:\", Y_train_array)"
   ],
   "metadata": {
    "collapsed": false,
    "ExecuteTime": {
     "end_time": "2023-08-21T05:37:13.120057Z",
     "start_time": "2023-08-21T05:37:13.115904Z"
    }
   }
  },
  {
   "cell_type": "code",
   "execution_count": 63,
   "outputs": [],
   "source": [
    "# Categorize our targets via one hot encoding techniques\n",
    "from keras.utils import to_categorical\n",
    "Y_train_array = to_categorical(Y_train_array, num_classes = 174)"
   ],
   "metadata": {
    "collapsed": false,
    "ExecuteTime": {
     "end_time": "2023-08-21T05:37:15.823166Z",
     "start_time": "2023-08-21T05:37:13.120910Z"
    }
   }
  },
  {
   "cell_type": "code",
   "execution_count": 64,
   "outputs": [
    {
     "data": {
      "text/plain": "(94400, 5)"
     },
     "execution_count": 64,
     "metadata": {},
     "output_type": "execute_result"
    }
   ],
   "source": [
    "X_train_array.shape"
   ],
   "metadata": {
    "collapsed": false,
    "ExecuteTime": {
     "end_time": "2023-08-21T05:37:15.834985Z",
     "start_time": "2023-08-21T05:37:15.783663Z"
    }
   }
  },
  {
   "cell_type": "code",
   "execution_count": 65,
   "outputs": [
    {
     "data": {
      "text/plain": "(94400, 174)"
     },
     "execution_count": 65,
     "metadata": {},
     "output_type": "execute_result"
    }
   ],
   "source": [
    "Y_train_array.shape"
   ],
   "metadata": {
    "collapsed": false,
    "ExecuteTime": {
     "end_time": "2023-08-21T05:37:15.835205Z",
     "start_time": "2023-08-21T05:37:15.788482Z"
    }
   }
  },
  {
   "cell_type": "code",
   "execution_count": 66,
   "outputs": [
    {
     "name": "stdout",
     "output_type": "stream",
     "text": [
      "int64\n"
     ]
    }
   ],
   "source": [
    "print(X_train_array.dtype)"
   ],
   "metadata": {
    "collapsed": false,
    "ExecuteTime": {
     "end_time": "2023-08-21T05:37:15.835277Z",
     "start_time": "2023-08-21T05:37:15.789913Z"
    }
   }
  },
  {
   "cell_type": "code",
   "execution_count": 67,
   "outputs": [
    {
     "data": {
      "text/plain": "[74, 74, 74, 74, 74]"
     },
     "execution_count": 67,
     "metadata": {},
     "output_type": "execute_result"
    }
   ],
   "source": [
    "train[0][0:5]"
   ],
   "metadata": {
    "collapsed": false,
    "ExecuteTime": {
     "end_time": "2023-08-21T05:37:15.835338Z",
     "start_time": "2023-08-21T05:37:15.793414Z"
    }
   }
  },
  {
   "cell_type": "code",
   "execution_count": 68,
   "outputs": [
    {
     "data": {
      "text/plain": "74"
     },
     "execution_count": 68,
     "metadata": {},
     "output_type": "execute_result"
    }
   ],
   "source": [
    "train[0][-1]"
   ],
   "metadata": {
    "collapsed": false,
    "ExecuteTime": {
     "end_time": "2023-08-21T05:37:15.835523Z",
     "start_time": "2023-08-21T05:37:15.796480Z"
    }
   }
  },
  {
   "cell_type": "code",
   "execution_count": 69,
   "outputs": [],
   "source": [
    "#train[1][1:5]"
   ],
   "metadata": {
    "collapsed": false,
    "ExecuteTime": {
     "end_time": "2023-08-21T05:37:15.835581Z",
     "start_time": "2023-08-21T05:37:15.799217Z"
    }
   }
  },
  {
   "cell_type": "code",
   "execution_count": 70,
   "outputs": [
    {
     "data": {
      "text/plain": "array([[74, 74, 74, 74, 74],\n       [74, 74, 74, 74, 74],\n       [74, 74, 74, 74, 74],\n       ...,\n       [74, 76, 76, 70,  4],\n       [74, 76, 76, 70,  4],\n       [74, 76, 76, 70,  4]])"
     },
     "execution_count": 70,
     "metadata": {},
     "output_type": "execute_result"
    }
   ],
   "source": [
    "X_train_array"
   ],
   "metadata": {
    "collapsed": false,
    "ExecuteTime": {
     "end_time": "2023-08-21T05:37:15.835699Z",
     "start_time": "2023-08-21T05:37:15.801601Z"
    }
   }
  },
  {
   "cell_type": "code",
   "execution_count": 71,
   "outputs": [
    {
     "data": {
      "text/plain": "94400"
     },
     "execution_count": 71,
     "metadata": {},
     "output_type": "execute_result"
    }
   ],
   "source": [
    "len(X_train_array)"
   ],
   "metadata": {
    "collapsed": false,
    "ExecuteTime": {
     "end_time": "2023-08-21T05:37:15.845934Z",
     "start_time": "2023-08-21T05:37:15.804807Z"
    }
   }
  },
  {
   "cell_type": "code",
   "execution_count": 72,
   "outputs": [
    {
     "data": {
      "text/plain": "(94400, 5)"
     },
     "execution_count": 72,
     "metadata": {},
     "output_type": "execute_result"
    }
   ],
   "source": [
    "X_train_array.shape"
   ],
   "metadata": {
    "collapsed": false,
    "ExecuteTime": {
     "end_time": "2023-08-21T05:37:15.847544Z",
     "start_time": "2023-08-21T05:37:15.807639Z"
    }
   }
  },
  {
   "cell_type": "code",
   "execution_count": 73,
   "outputs": [
    {
     "data": {
      "text/plain": "array([[0., 0., 0., ..., 0., 0., 0.],\n       [0., 0., 0., ..., 0., 0., 0.],\n       [0., 0., 0., ..., 0., 0., 0.],\n       ...,\n       [0., 0., 0., ..., 0., 0., 0.],\n       [0., 0., 0., ..., 0., 0., 0.],\n       [0., 0., 0., ..., 0., 0., 0.]], dtype=float32)"
     },
     "execution_count": 73,
     "metadata": {},
     "output_type": "execute_result"
    }
   ],
   "source": [
    "Y_train_array"
   ],
   "metadata": {
    "collapsed": false,
    "ExecuteTime": {
     "end_time": "2023-08-21T05:37:15.847670Z",
     "start_time": "2023-08-21T05:37:15.810785Z"
    }
   }
  },
  {
   "cell_type": "code",
   "execution_count": 74,
   "outputs": [
    {
     "data": {
      "text/plain": "94400"
     },
     "execution_count": 74,
     "metadata": {},
     "output_type": "execute_result"
    }
   ],
   "source": [
    "len(Y_train_array)"
   ],
   "metadata": {
    "collapsed": false,
    "ExecuteTime": {
     "end_time": "2023-08-21T05:37:15.847765Z",
     "start_time": "2023-08-21T05:37:15.812547Z"
    }
   }
  },
  {
   "cell_type": "code",
   "execution_count": 75,
   "outputs": [
    {
     "data": {
      "text/plain": "(94400, 174)"
     },
     "execution_count": 75,
     "metadata": {},
     "output_type": "execute_result"
    }
   ],
   "source": [
    "Y_train_array.shape"
   ],
   "metadata": {
    "collapsed": false,
    "ExecuteTime": {
     "end_time": "2023-08-21T05:37:15.847845Z",
     "start_time": "2023-08-21T05:37:15.815921Z"
    }
   }
  },
  {
   "cell_type": "code",
   "execution_count": 76,
   "outputs": [],
   "source": [
    "# univariate data preparation\n",
    "import numpy as np\n",
    "n_steps = 5\n",
    "# split a univariate sequence into samples\n",
    "X_test, Y_test = [], []\n",
    "for index, column in enumerate(test):\n",
    "# gather input and output parts of the pattern\n",
    "    seq_x_test, seq_y_test = test[index][0:5], test[index][-1]\n",
    "    X_test.append(seq_x_test)\n",
    "    Y_test.append(seq_y_test)\n",
    "X_test_array = np.array(X_test)\n",
    "Y_test_array = np.array(Y_test)"
   ],
   "metadata": {
    "collapsed": false,
    "ExecuteTime": {
     "end_time": "2023-08-21T05:37:15.848019Z",
     "start_time": "2023-08-21T05:37:15.833628Z"
    }
   }
  },
  {
   "cell_type": "code",
   "execution_count": 77,
   "outputs": [],
   "source": [
    "# Categorize our targets via one hot encoding techniques\n",
    "from keras.utils import to_categorical\n",
    "Y_test_array = to_categorical(Y_test_array, num_classes = 174)"
   ],
   "metadata": {
    "collapsed": false,
    "ExecuteTime": {
     "end_time": "2023-08-21T05:37:15.848123Z",
     "start_time": "2023-08-21T05:37:15.835075Z"
    }
   }
  },
  {
   "cell_type": "code",
   "execution_count": 78,
   "outputs": [
    {
     "data": {
      "text/plain": "array([[ 74,  76,  76,  70,   4],\n       [ 74,  76,  76,  70,   4],\n       [ 74,  76,  76,  70,   4],\n       ...,\n       [ 74,  66,  27, 160,  40],\n       [ 74,  66,  27, 160,  40],\n       [ 74,  66,  27, 160,  40]])"
     },
     "execution_count": 78,
     "metadata": {},
     "output_type": "execute_result"
    }
   ],
   "source": [
    "X_test_array"
   ],
   "metadata": {
    "collapsed": false,
    "ExecuteTime": {
     "end_time": "2023-08-21T05:37:15.921112Z",
     "start_time": "2023-08-21T05:37:15.846054Z"
    }
   }
  },
  {
   "cell_type": "code",
   "execution_count": 79,
   "outputs": [
    {
     "data": {
      "text/plain": "array([[0., 0., 0., ..., 0., 0., 0.],\n       [0., 0., 0., ..., 0., 0., 0.],\n       [0., 0., 0., ..., 0., 0., 0.],\n       ...,\n       [0., 0., 0., ..., 0., 0., 0.],\n       [0., 0., 0., ..., 0., 0., 0.],\n       [0., 0., 0., ..., 0., 0., 0.]], dtype=float32)"
     },
     "execution_count": 79,
     "metadata": {},
     "output_type": "execute_result"
    }
   ],
   "source": [
    "Y_test_array"
   ],
   "metadata": {
    "collapsed": false,
    "ExecuteTime": {
     "end_time": "2023-08-21T05:37:15.921309Z",
     "start_time": "2023-08-21T05:37:15.847470Z"
    }
   }
  },
  {
   "cell_type": "code",
   "execution_count": 80,
   "outputs": [],
   "source": [
    "#Reshape from [samples, timesteps] into [samples, timesteps, features]\n",
    "# Train\n",
    "# n_features = 1\n",
    "# X_train_array = X_train_array.reshape(X_train_array.shape[0], X_train_array.shape[1], n_features)\n",
    "# X_train_array.shape"
   ],
   "metadata": {
    "collapsed": false,
    "ExecuteTime": {
     "end_time": "2023-08-21T05:37:15.921344Z",
     "start_time": "2023-08-21T05:37:15.847595Z"
    }
   }
  },
  {
   "cell_type": "code",
   "execution_count": 81,
   "outputs": [],
   "source": [
    "# # Reshape from [samples, timesteps] into [samples, timesteps, features]\n",
    "# n_features = 1\n",
    "# Y_train_array = Y_train_array.reshape(Y_train_array.shape[0], n_features)\n",
    "# Y_train_array.shape"
   ],
   "metadata": {
    "collapsed": false,
    "ExecuteTime": {
     "end_time": "2023-08-21T05:37:15.921387Z",
     "start_time": "2023-08-21T05:37:15.847718Z"
    }
   }
  },
  {
   "cell_type": "code",
   "execution_count": 82,
   "outputs": [
    {
     "data": {
      "text/plain": "array([[74, 74, 74, 74, 74],\n       [74, 74, 74, 74, 74],\n       [74, 74, 74, 74, 74],\n       ...,\n       [74, 76, 76, 70,  4],\n       [74, 76, 76, 70,  4],\n       [74, 76, 76, 70,  4]])"
     },
     "execution_count": 82,
     "metadata": {},
     "output_type": "execute_result"
    }
   ],
   "source": [
    "X_train_array"
   ],
   "metadata": {
    "collapsed": false,
    "ExecuteTime": {
     "end_time": "2023-08-21T05:37:15.922001Z",
     "start_time": "2023-08-21T05:37:15.848943Z"
    }
   }
  },
  {
   "cell_type": "code",
   "execution_count": 83,
   "outputs": [
    {
     "data": {
      "text/plain": "23600"
     },
     "execution_count": 83,
     "metadata": {},
     "output_type": "execute_result"
    }
   ],
   "source": [
    "X_test_array.shape[0]"
   ],
   "metadata": {
    "collapsed": false,
    "ExecuteTime": {
     "end_time": "2023-08-21T05:37:15.922087Z",
     "start_time": "2023-08-21T05:37:15.853367Z"
    }
   }
  },
  {
   "cell_type": "code",
   "execution_count": 84,
   "outputs": [
    {
     "data": {
      "text/plain": "5"
     },
     "execution_count": 84,
     "metadata": {},
     "output_type": "execute_result"
    }
   ],
   "source": [
    "X_test_array.shape[1]"
   ],
   "metadata": {
    "collapsed": false,
    "ExecuteTime": {
     "end_time": "2023-08-21T05:37:15.922189Z",
     "start_time": "2023-08-21T05:37:15.855229Z"
    }
   }
  },
  {
   "cell_type": "code",
   "execution_count": 85,
   "outputs": [],
   "source": [
    "#Reshape from [samples, timesteps] into [samples, timesteps, features]\n",
    "# Test\n",
    "# n_features = 1\n",
    "# X_test_array = X_test_array.reshape(X_test_array.shape[0], X_test_array.shape[1], n_features)\n",
    "# X_test_array.shape"
   ],
   "metadata": {
    "collapsed": false,
    "ExecuteTime": {
     "end_time": "2023-08-21T05:37:15.922239Z",
     "start_time": "2023-08-21T05:37:15.858076Z"
    }
   }
  },
  {
   "cell_type": "code",
   "execution_count": 86,
   "outputs": [
    {
     "data": {
      "text/plain": "array([[74, 74, 74, 74, 74],\n       [74, 74, 74, 74, 74],\n       [74, 74, 74, 74, 74],\n       ...,\n       [74, 76, 76, 70,  4],\n       [74, 76, 76, 70,  4],\n       [74, 76, 76, 70,  4]])"
     },
     "execution_count": 86,
     "metadata": {},
     "output_type": "execute_result"
    }
   ],
   "source": [
    "X_train_array"
   ],
   "metadata": {
    "collapsed": false,
    "ExecuteTime": {
     "end_time": "2023-08-21T05:37:15.922321Z",
     "start_time": "2023-08-21T05:37:15.861718Z"
    }
   }
  },
  {
   "cell_type": "code",
   "execution_count": 87,
   "outputs": [
    {
     "data": {
      "text/plain": "array([0., 0., 0., 0., 0., 0., 0., 0., 0., 0., 0., 0., 0., 0., 0., 0., 0.,\n       0., 0., 0., 0., 0., 0., 0., 0., 0., 0., 0., 0., 0., 0., 0., 0., 0.,\n       0., 0., 0., 0., 0., 0., 0., 0., 0., 0., 0., 0., 0., 0., 0., 0., 0.,\n       0., 0., 0., 0., 0., 0., 0., 0., 0., 0., 0., 0., 0., 0., 0., 1., 0.,\n       0., 0., 0., 0., 0., 0., 0., 0., 0., 0., 0., 0., 0., 0., 0., 0., 0.,\n       0., 0., 0., 0., 0., 0., 0., 0., 0., 0., 0., 0., 0., 0., 0., 0., 0.,\n       0., 0., 0., 0., 0., 0., 0., 0., 0., 0., 0., 0., 0., 0., 0., 0., 0.,\n       0., 0., 0., 0., 0., 0., 0., 0., 0., 0., 0., 0., 0., 0., 0., 0., 0.,\n       0., 0., 0., 0., 0., 0., 0., 0., 0., 0., 0., 0., 0., 0., 0., 0., 0.,\n       0., 0., 0., 0., 0., 0., 0., 0., 0., 0., 0., 0., 0., 0., 0., 0., 0.,\n       0., 0., 0., 0.], dtype=float32)"
     },
     "execution_count": 87,
     "metadata": {},
     "output_type": "execute_result"
    }
   ],
   "source": [
    "Y_train_array[5]"
   ],
   "metadata": {
    "collapsed": false,
    "ExecuteTime": {
     "end_time": "2023-08-21T05:37:15.922421Z",
     "start_time": "2023-08-21T05:37:15.865076Z"
    }
   }
  },
  {
   "cell_type": "code",
   "execution_count": 88,
   "outputs": [],
   "source": [
    "#X_train_array = [int(x) for x in row for row in X_train_array]\n",
    "# index = 0\n",
    "# introw = []\n",
    "# for row in X_train_array:\n",
    "#     if index>5:\n",
    "#         break\n",
    "#     intx = []\n",
    "#     for x in row:\n",
    "#         intx.append([float(y) for y in x])\n",
    "#     introw.append(intx)\n",
    "#     index += 1\n",
    "# print(introw)"
   ],
   "metadata": {
    "collapsed": false,
    "ExecuteTime": {
     "end_time": "2023-08-21T05:37:15.922459Z",
     "start_time": "2023-08-21T05:37:15.868081Z"
    }
   }
  },
  {
   "cell_type": "code",
   "execution_count": 89,
   "outputs": [],
   "source": [
    "# for row in Y_train_array:\n",
    "#     for y in row:\n",
    "#         y = np.dtype(int)"
   ],
   "metadata": {
    "collapsed": false,
    "ExecuteTime": {
     "end_time": "2023-08-21T05:37:15.922506Z",
     "start_time": "2023-08-21T05:37:15.870240Z"
    }
   }
  },
  {
   "cell_type": "code",
   "execution_count": 1,
   "outputs": [],
   "source": [
    "# Vanilla LSTM is an LSTM model that has a single hidden layer of LSTM units,\n",
    "# and an output layer used to make a prediction"
   ],
   "metadata": {
    "collapsed": false,
    "ExecuteTime": {
     "end_time": "2023-08-25T08:06:06.534594Z",
     "start_time": "2023-08-25T08:06:06.499032Z"
    }
   }
  },
  {
   "cell_type": "code",
   "execution_count": 91,
   "outputs": [],
   "source": [
    "from keras.models import Sequential\n",
    "from keras.layers import Embedding, Dropout, LSTM, Dense\n",
    "# Initialize the model\n",
    "model = Sequential()\n",
    "# Add embedding layer\n",
    "model.add(Embedding(174, 5, input_length = 5))\n",
    "\n",
    "model.add(Dropout(0.2))\n",
    "# Add LSTM layer\n",
    "model.add(LSTM(200))\n",
    "model.add(Dropout(0.2))\n",
    "# Add output layer\n",
    "model.add(Dense(174, activation='softmax'))\n",
    "# Compile the model\n",
    "model.compile(loss='categorical_crossentropy', optimizer='adam', metrics=['acc'])"
   ],
   "metadata": {
    "collapsed": false,
    "ExecuteTime": {
     "end_time": "2023-08-21T05:37:16.041884Z",
     "start_time": "2023-08-21T05:37:15.874323Z"
    }
   }
  },
  {
   "cell_type": "code",
   "execution_count": 92,
   "outputs": [
    {
     "name": "stdout",
     "output_type": "stream",
     "text": [
      "Model: \"sequential\"\n",
      "_________________________________________________________________\n",
      " Layer (type)                Output Shape              Param #   \n",
      "=================================================================\n",
      " embedding (Embedding)       (None, 5, 5)              870       \n",
      "                                                                 \n",
      " dropout (Dropout)           (None, 5, 5)              0         \n",
      "                                                                 \n",
      " lstm (LSTM)                 (None, 200)               164800    \n",
      "                                                                 \n",
      " dropout_1 (Dropout)         (None, 200)               0         \n",
      "                                                                 \n",
      " dense (Dense)               (None, 174)               34974     \n",
      "                                                                 \n",
      "=================================================================\n",
      "Total params: 200644 (783.77 KB)\n",
      "Trainable params: 200644 (783.77 KB)\n",
      "Non-trainable params: 0 (0.00 Byte)\n",
      "_________________________________________________________________\n"
     ]
    }
   ],
   "source": [
    "model.summary()"
   ],
   "metadata": {
    "collapsed": false,
    "ExecuteTime": {
     "end_time": "2023-08-21T05:37:16.049037Z",
     "start_time": "2023-08-21T05:37:16.042273Z"
    }
   }
  },
  {
   "cell_type": "code",
   "execution_count": 93,
   "outputs": [],
   "source": [
    "# Fit model\n",
    "model_fit = model.fit(X_train_array, Y_train_array, batch_size=32, epochs=80, validation_split=0.2, verbose=0)"
   ],
   "metadata": {
    "collapsed": false,
    "ExecuteTime": {
     "end_time": "2023-08-21T05:50:28.849817Z",
     "start_time": "2023-08-21T05:37:16.055628Z"
    }
   }
  },
  {
   "cell_type": "code",
   "execution_count": null,
   "outputs": [],
   "source": [
    "# import keras\n",
    "# keras.callbacks.Callback()"
   ],
   "metadata": {
    "collapsed": false
   }
  },
  {
   "cell_type": "code",
   "execution_count": 97,
   "outputs": [
    {
     "data": {
      "text/plain": "(23600, 5)"
     },
     "execution_count": 97,
     "metadata": {},
     "output_type": "execute_result"
    }
   ],
   "source": [
    "X_test_array.shape"
   ],
   "metadata": {
    "collapsed": false,
    "ExecuteTime": {
     "end_time": "2023-08-21T07:28:53.355065Z",
     "start_time": "2023-08-21T07:28:53.338462Z"
    }
   }
  },
  {
   "cell_type": "code",
   "execution_count": 98,
   "outputs": [],
   "source": [
    "# Make Predictions\n",
    "prediction = model.predict(X_test_array, verbose=0)"
   ],
   "metadata": {
    "collapsed": false,
    "ExecuteTime": {
     "end_time": "2023-08-21T07:28:55.757894Z",
     "start_time": "2023-08-21T07:28:54.076609Z"
    }
   }
  },
  {
   "cell_type": "code",
   "execution_count": 99,
   "outputs": [
    {
     "data": {
      "text/plain": "(23600, 174)"
     },
     "execution_count": 99,
     "metadata": {},
     "output_type": "execute_result"
    }
   ],
   "source": [
    "prediction.shape"
   ],
   "metadata": {
    "collapsed": false,
    "ExecuteTime": {
     "end_time": "2023-08-21T07:28:55.762274Z",
     "start_time": "2023-08-21T07:28:55.757713Z"
    }
   }
  },
  {
   "cell_type": "code",
   "execution_count": 100,
   "outputs": [
    {
     "name": "stdout",
     "output_type": "stream",
     "text": [
      "[[7.0089928e-10 7.0097544e-10 7.0101158e-10 ... 7.0128442e-10\n",
      "  7.0117873e-10 7.0126427e-10]\n",
      " [7.0089928e-10 7.0097544e-10 7.0101158e-10 ... 7.0128442e-10\n",
      "  7.0117873e-10 7.0126427e-10]\n",
      " [7.0089928e-10 7.0097544e-10 7.0101158e-10 ... 7.0128442e-10\n",
      "  7.0117873e-10 7.0126427e-10]\n",
      " ...\n",
      " [7.0097844e-10 7.0105327e-10 7.0109074e-10 ... 7.0136358e-10\n",
      "  7.0125794e-10 7.0134348e-10]\n",
      " [7.0097844e-10 7.0105327e-10 7.0109074e-10 ... 7.0136358e-10\n",
      "  7.0125794e-10 7.0134348e-10]\n",
      " [7.0097844e-10 7.0105327e-10 7.0109074e-10 ... 7.0136358e-10\n",
      "  7.0125794e-10 7.0134348e-10]]\n"
     ]
    }
   ],
   "source": [
    "print(prediction)"
   ],
   "metadata": {
    "collapsed": false,
    "ExecuteTime": {
     "end_time": "2023-08-21T07:28:55.766192Z",
     "start_time": "2023-08-21T07:28:55.759902Z"
    }
   }
  },
  {
   "cell_type": "code",
   "execution_count": 101,
   "outputs": [
    {
     "data": {
      "text/plain": "37"
     },
     "execution_count": 101,
     "metadata": {},
     "output_type": "execute_result"
    }
   ],
   "source": [
    "np.argmax(prediction[55])"
   ],
   "metadata": {
    "collapsed": false,
    "ExecuteTime": {
     "end_time": "2023-08-21T07:28:56.767154Z",
     "start_time": "2023-08-21T07:28:56.740708Z"
    }
   }
  },
  {
   "cell_type": "code",
   "execution_count": 102,
   "outputs": [],
   "source": [
    "from keras.utils import to_categorical\n",
    "prediction_to_product_code = np.argmax(prediction, axis=1)"
   ],
   "metadata": {
    "collapsed": false,
    "ExecuteTime": {
     "end_time": "2023-08-21T07:28:57.364751Z",
     "start_time": "2023-08-21T07:28:57.322782Z"
    }
   }
  },
  {
   "cell_type": "code",
   "execution_count": 103,
   "outputs": [
    {
     "data": {
      "text/plain": "array([37, 37, 37, ..., 37, 37, 37])"
     },
     "execution_count": 103,
     "metadata": {},
     "output_type": "execute_result"
    }
   ],
   "source": [
    "prediction_to_product_code"
   ],
   "metadata": {
    "collapsed": false,
    "ExecuteTime": {
     "end_time": "2023-08-21T07:28:58.210489Z",
     "start_time": "2023-08-21T07:28:58.180676Z"
    }
   }
  },
  {
   "cell_type": "code",
   "execution_count": 104,
   "outputs": [
    {
     "name": "stdout",
     "output_type": "stream",
     "text": [
      "4720/4720 [==============================] - 5s 1ms/step - loss: 2.5650 - acc: 0.0769\n",
      "Accurracy: 0.08\n"
     ]
    }
   ],
   "source": [
    "scores = model.evaluate(X_test_array,Y_test_array,verbose=1,batch_size=5)\n",
    "print('Accurracy: {:.2f}'.format(scores[1]))"
   ],
   "metadata": {
    "collapsed": false,
    "ExecuteTime": {
     "end_time": "2023-08-21T07:29:04.133163Z",
     "start_time": "2023-08-21T07:28:58.758905Z"
    }
   }
  },
  {
   "cell_type": "code",
   "execution_count": 105,
   "outputs": [
    {
     "data": {
      "text/plain": "[2.5649774074554443, 0.07690677791833878]"
     },
     "execution_count": 105,
     "metadata": {},
     "output_type": "execute_result"
    }
   ],
   "source": [
    "scores"
   ],
   "metadata": {
    "collapsed": false,
    "ExecuteTime": {
     "end_time": "2023-08-21T07:29:04.134464Z",
     "start_time": "2023-08-21T07:29:04.103228Z"
    }
   }
  },
  {
   "cell_type": "code",
   "execution_count": 106,
   "outputs": [
    {
     "name": "stdout",
     "output_type": "stream",
     "text": [
      "2950/2950 [==============================] - 5s 2ms/step\n"
     ]
    }
   ],
   "source": [
    "# Prediction\n",
    "trainPredict = model.predict(X_train_array)\n",
    "#testPredict = model.predict(test)"
   ],
   "metadata": {
    "collapsed": false,
    "ExecuteTime": {
     "end_time": "2023-08-21T07:29:09.286775Z",
     "start_time": "2023-08-21T07:29:04.103731Z"
    }
   }
  },
  {
   "cell_type": "code",
   "execution_count": 107,
   "outputs": [],
   "source": [
    "#trainPredict"
   ],
   "metadata": {
    "collapsed": false,
    "ExecuteTime": {
     "end_time": "2023-08-21T07:29:09.287147Z",
     "start_time": "2023-08-21T07:29:09.283919Z"
    }
   }
  },
  {
   "cell_type": "code",
   "execution_count": 110,
   "outputs": [
    {
     "name": "stdout",
     "output_type": "stream",
     "text": [
      "Requirement already satisfied: matplotlib in /Users/tejash/Desktop/tejash_personal/CodingProjects/omsba5068-f22-main/venv/lib/python3.9/site-packages (3.7.2)\r\n",
      "Requirement already satisfied: contourpy>=1.0.1 in /Users/tejash/Desktop/tejash_personal/CodingProjects/omsba5068-f22-main/venv/lib/python3.9/site-packages (from matplotlib) (1.1.0)\r\n",
      "Requirement already satisfied: cycler>=0.10 in /Users/tejash/Desktop/tejash_personal/CodingProjects/omsba5068-f22-main/venv/lib/python3.9/site-packages (from matplotlib) (0.11.0)\r\n",
      "Requirement already satisfied: fonttools>=4.22.0 in /Users/tejash/Desktop/tejash_personal/CodingProjects/omsba5068-f22-main/venv/lib/python3.9/site-packages (from matplotlib) (4.42.0)\r\n",
      "Requirement already satisfied: kiwisolver>=1.0.1 in /Users/tejash/Desktop/tejash_personal/CodingProjects/omsba5068-f22-main/venv/lib/python3.9/site-packages (from matplotlib) (1.4.4)\r\n",
      "Requirement already satisfied: numpy>=1.20 in /Users/tejash/Desktop/tejash_personal/CodingProjects/omsba5068-f22-main/venv/lib/python3.9/site-packages (from matplotlib) (1.24.3)\r\n",
      "Requirement already satisfied: packaging>=20.0 in /Users/tejash/Desktop/tejash_personal/CodingProjects/omsba5068-f22-main/venv/lib/python3.9/site-packages (from matplotlib) (23.1)\r\n",
      "Requirement already satisfied: pillow>=6.2.0 in /Users/tejash/Desktop/tejash_personal/CodingProjects/omsba5068-f22-main/venv/lib/python3.9/site-packages (from matplotlib) (10.0.0)\r\n",
      "Requirement already satisfied: pyparsing<3.1,>=2.3.1 in /Users/tejash/Desktop/tejash_personal/CodingProjects/omsba5068-f22-main/venv/lib/python3.9/site-packages (from matplotlib) (3.0.9)\r\n",
      "Requirement already satisfied: python-dateutil>=2.7 in /Users/tejash/Desktop/tejash_personal/CodingProjects/omsba5068-f22-main/venv/lib/python3.9/site-packages (from matplotlib) (2.8.2)\r\n",
      "Requirement already satisfied: importlib-resources>=3.2.0 in /Users/tejash/Desktop/tejash_personal/CodingProjects/omsba5068-f22-main/venv/lib/python3.9/site-packages (from matplotlib) (6.0.1)\r\n",
      "Requirement already satisfied: zipp>=3.1.0 in /Users/tejash/Desktop/tejash_personal/CodingProjects/omsba5068-f22-main/venv/lib/python3.9/site-packages (from importlib-resources>=3.2.0->matplotlib) (3.15.0)\r\n",
      "Requirement already satisfied: six>=1.5 in /Users/tejash/Desktop/tejash_personal/CodingProjects/omsba5068-f22-main/venv/lib/python3.9/site-packages (from python-dateutil>=2.7->matplotlib) (1.16.0)\r\n"
     ]
    }
   ],
   "source": [
    "!pip install matplotlib"
   ],
   "metadata": {
    "collapsed": false,
    "ExecuteTime": {
     "end_time": "2023-08-21T07:29:12.351354Z",
     "start_time": "2023-08-21T07:29:11.360848Z"
    }
   }
  },
  {
   "cell_type": "code",
   "execution_count": 111,
   "outputs": [
    {
     "data": {
      "text/plain": "<Figure size 640x480 with 1 Axes>",
      "image/png": "[encoded data removed]"
     },
     "metadata": {},
     "output_type": "display_data"
    },
    {
     "data": {
      "text/plain": "<Figure size 640x480 with 1 Axes>",
      "image/png": "[encoded data removed]"
     },
     "metadata": {},
     "output_type": "display_data"
    }
   ],
   "source": [
    "import matplotlib.pyplot as plt\n",
    "\n",
    "plt.plot(model_fit.history['loss'], label='Train loss')\n",
    "plt.plot(model_fit.history['val_loss'], label='Validation loss')\n",
    "plt.xlabel('Epochs')\n",
    "plt.ylabel('Loss')\n",
    "plt.legend(['Train loss', 'Validation loss'])\n",
    "plt.show()\n",
    "plt.plot(model_fit.history['acc'], label='Train accuracy')\n",
    "plt.plot(model_fit.history['val_acc'], label='Validation accuracy')\n",
    "plt.xlabel('Epochs')\n",
    "plt.ylabel('Accuracy')\n",
    "plt.legend(['Train accuracy', 'Validation accuracy'])\n",
    "plt.show()"
   ],
   "metadata": {
    "collapsed": false,
    "ExecuteTime": {
     "end_time": "2023-08-21T07:29:13.390312Z",
     "start_time": "2023-08-21T07:29:13.130664Z"
    }
   }
  },
  {
   "cell_type": "code",
   "execution_count": null,
   "outputs": [],
   "source": [],
   "metadata": {
    "collapsed": false
   }
  },
  {
   "cell_type": "code",
   "execution_count": null,
   "outputs": [],
   "source": [],
   "metadata": {
    "collapsed": false
   }
  }
 ]
}
